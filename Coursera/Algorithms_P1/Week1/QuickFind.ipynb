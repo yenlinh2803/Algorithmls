{
 "cells": [
  {
   "cell_type": "code",
   "execution_count": 50,
   "metadata": {},
   "outputs": [],
   "source": [
    "def QuickFindUF(n):\n",
    "    id_list = []\n",
    "    for i in range(0,n):\n",
    "        id_list.append(i)\n",
    "    return(id_list)\n",
    "\n",
    "def connected(id_list,p,q):\n",
    "    return id_list[p] == id[q]"
   ]
  },
  {
   "cell_type": "code",
   "execution_count": 51,
   "metadata": {},
   "outputs": [],
   "source": [
    "def union(id_list,p,q):\n",
    "    pid = id_list[p];\n",
    "    qid = id_list[q];\n",
    "    for i in range(0,len(id)):\n",
    "        if (id_list[i] == pid): id_list[i] = qid\n",
    "    print(id_list)\n",
    "    return(id_list)\n",
    "    "
   ]
  },
  {
   "cell_type": "code",
   "execution_count": 52,
   "metadata": {},
   "outputs": [
    {
     "name": "stdout",
     "output_type": "stream",
     "text": [
      "[0, 1, 2, 3, 4]\n",
      "[1, 1, 2, 3, 4]\n",
      "[1, 1, 3, 3, 4]\n",
      "[1, 1, 4, 4, 4]\n",
      "True\n",
      "False\n"
     ]
    }
   ],
   "source": [
    "id_list = QuickFindUF(5)\n",
    "print(id_list)\n",
    "id_list = union(id_list, 0,1) #Create connection between 0 and 1\n",
    "id_list = union(id_list, 2,3) #Create connection between 2 and 3\n",
    "id_list = union(id_list, 3,4) #Create connection between 3 and 4\n",
    "print(connected(id_list,0,1)) #Check connection between 0 and 1\n",
    "print(connected(id_list, 1,2)) "
   ]
  },
  {
   "cell_type": "code",
   "execution_count": 70,
   "metadata": {},
   "outputs": [],
   "source": [
    "class QuickFind(object):\n",
    "    def __init__(self, N):\n",
    "        #self.lst = range(N)\n",
    "        self.lst = [0,1,2,3,4,5]\n",
    "        print(self.lst)\n",
    "    def find(self, a, b):\n",
    "        return self.lst[a] == self.lst[b]\n",
    "\n",
    "    def union(self, a, b):\n",
    "        old = self.lst[a]\n",
    "        new = self.lst[b]\n",
    "        for ind, x in enumerate(self.lst):\n",
    "            if x == old:\n",
    "                self.lst[ind] = new\n",
    "        print(self.lst)"
   ]
  },
  {
   "cell_type": "code",
   "execution_count": 71,
   "metadata": {},
   "outputs": [
    {
     "name": "stdout",
     "output_type": "stream",
     "text": [
      "[0, 1, 2, 3, 4, 5]\n",
      "False\n",
      "[0, 2, 2, 3, 4, 5]\n",
      "None\n"
     ]
    }
   ],
   "source": [
    "a= QuickFind(5)\n",
    "print(a.find(1,2))\n",
    "print(a.union(1,2))"
   ]
  }
 ],
 "metadata": {
  "kernelspec": {
   "display_name": "Python 3",
   "language": "python",
   "name": "python3"
  },
  "language_info": {
   "codemirror_mode": {
    "name": "ipython",
    "version": 3
   },
   "file_extension": ".py",
   "mimetype": "text/x-python",
   "name": "python",
   "nbconvert_exporter": "python",
   "pygments_lexer": "ipython3",
   "version": "3.7.4"
  }
 },
 "nbformat": 4,
 "nbformat_minor": 2
}
