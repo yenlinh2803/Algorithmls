{
 "cells": [
  {
   "cell_type": "code",
   "execution_count": 78,
   "metadata": {},
   "outputs": [],
   "source": [
    "def QuickFindUF(n):\n",
    "    id_list = []\n",
    "    for i in range(0,n):\n",
    "        id_list.append(i)\n",
    "    print(\"original list:\\n\",id_list)\n",
    "    return(id_list)"
   ]
  },
  {
   "cell_type": "code",
   "execution_count": 79,
   "metadata": {},
   "outputs": [],
   "source": [
    "def root(id_list,i):\n",
    "    while i!=id_list[i]: i=id_list[i]\n",
    "    #print(i)\n",
    "    return(i)"
   ]
  },
  {
   "cell_type": "code",
   "execution_count": 80,
   "metadata": {},
   "outputs": [],
   "source": [
    "def union(id_list,p,q):\n",
    "    i = root(id_list,p);\n",
    "    j = root(id_list,q);\n",
    "    id_list[i] = j\n",
    "    print(\"Union({},{}):  {}\".format(p,q,id_list))\n",
    "    return(id_list)\n",
    "def connected(id_list,p,q):\n",
    "    return print(root(id_list,p) == root(id_list,q))"
   ]
  },
  {
   "cell_type": "code",
   "execution_count": 82,
   "metadata": {},
   "outputs": [
    {
     "name": "stdout",
     "output_type": "stream",
     "text": [
      "original list:\n",
      " [0, 1, 2, 3, 4, 5, 6, 7, 8, 9]\n",
      "Union(4,3):  [0, 1, 2, 3, 3, 5, 6, 7, 8, 9]\n",
      "Union(3,8):  [0, 1, 2, 8, 3, 5, 6, 7, 8, 9]\n",
      "Union(6,5):  [0, 1, 2, 8, 3, 5, 5, 7, 8, 9]\n",
      "Union(4,9):  [0, 1, 2, 9, 3, 5, 5, 7, 8, 9]\n",
      "Union(2,1):  [0, 1, 1, 9, 3, 5, 5, 7, 8, 9]\n",
      "False\n",
      "False\n",
      "Union(5,0):  [0, 1, 1, 9, 3, 0, 5, 7, 8, 9]\n",
      "Union(7,2):  [0, 1, 1, 9, 3, 0, 5, 1, 8, 9]\n",
      "Union(6,1):  [0, 1, 1, 9, 3, 1, 5, 1, 8, 9]\n",
      "Union(7,3):  [0, 9, 1, 9, 3, 1, 5, 1, 8, 9]\n"
     ]
    },
    {
     "data": {
      "text/plain": [
       "[0, 9, 1, 9, 3, 1, 5, 1, 8, 9]"
      ]
     },
     "execution_count": 82,
     "metadata": {},
     "output_type": "execute_result"
    }
   ],
   "source": [
    "id_list = QuickFindUF(10)\n",
    "#id_list = [0,1,9,4,9,6,6,7,8,9]\n",
    "union(id_list,4,3)\n",
    "union(id_list,3,8)\n",
    "union(id_list,6,5)\n",
    "union(id_list,4,9)\n",
    "union(id_list,2,1)\n",
    "connected(id_list,8,9)\n",
    "connected(id_list,5,4)\n",
    "union(id_list,5,0)\n",
    "union(id_list,7,2)\n",
    "union(id_list,6,1)\n",
    "union(id_list,7,3)"
   ]
  },
  {
   "cell_type": "code",
   "execution_count": null,
   "metadata": {},
   "outputs": [],
   "source": []
  }
 ],
 "metadata": {
  "kernelspec": {
   "display_name": "Python 3",
   "language": "python",
   "name": "python3"
  },
  "language_info": {
   "codemirror_mode": {
    "name": "ipython",
    "version": 3
   },
   "file_extension": ".py",
   "mimetype": "text/x-python",
   "name": "python",
   "nbconvert_exporter": "python",
   "pygments_lexer": "ipython3",
   "version": "3.7.4"
  }
 },
 "nbformat": 4,
 "nbformat_minor": 2
}
