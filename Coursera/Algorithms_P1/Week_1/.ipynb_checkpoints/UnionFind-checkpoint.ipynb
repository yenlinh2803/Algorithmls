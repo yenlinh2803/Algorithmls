{
 "cells": [
  {
   "cell_type": "code",
   "execution_count": 31,
   "metadata": {},
   "outputs": [],
   "source": [
    "def QuickFindUF(n):\n",
    "    id_list = []\n",
    "    sizes = [1] * n\n",
    "    for i in range(0,n):\n",
    "        id_list.append(i)\n",
    "    print(\"original list:\\n\",id_list)\n",
    "    print(\"original size:\\n\",sizes)\n",
    "    return(id_list, sizes)\n",
    "\n",
    "def find(id_list,i):\n",
    "    while i!=id_list[i]: i=id_list[i]\n",
    "    #print(i)\n",
    "    return(i)\n",
    "\n",
    "def union(id_list,p,q):\n",
    "    i = find(id_list,p);\n",
    "    j = find(id_list,q);\n",
    "    if (i == j): return\n",
    "    if (sizes[i] < sizes[j]):\n",
    "        print(\"before plus size:sizes[i]={}  , sizes[j]={}\".format(sizes[i],sizes[j]))\n",
    "        id_list[i] = j\n",
    "        sizes[j] += sizes[i]\n",
    "        print(\"After plus size:sizes[i]={}  , sizes[j]={}\".format(sizes[i],sizes[j]))\n",
    "    else: \n",
    "        print(\"before plus size:sizes[i]={}  , sizes[j]={}\".format(sizes[i],sizes[j]))\n",
    "        id_list[j] = i\n",
    "        sizes[i] += sizes[j]\n",
    "        print(\"After plus size:sizes[i]={}  , sizes[j]={}\".format(sizes[i],sizes[j]))\n",
    "    print(\"Union({},{}):  {}\".format(p,q,id_list))\n",
    "    print(\"Size({},{}):  {}\".format(p,q,sizes))\n",
    "    return(id_list)\n",
    "def connected(id_list,p,q):\n",
    "    a = root(id_list,p) == root(id_list,q)\n",
    "    return print(\"Connect {},{}: {}\".format(p,q,a))"
   ]
  },
  {
   "cell_type": "code",
   "execution_count": 32,
   "metadata": {},
   "outputs": [
    {
     "name": "stdout",
     "output_type": "stream",
     "text": [
      "original list:\n",
      " [0, 1, 2, 3, 4, 5, 6, 7, 8, 9]\n",
      "original size:\n",
      " [1, 1, 1, 1, 1, 1, 1, 1, 1, 1]\n",
      "before plus size:sizes[i]=1  , sizes[j]=1\n",
      "After plus size:sizes[i]=2  , sizes[j]=1\n",
      "Union(4,3):  [0, 1, 2, 4, 4, 5, 6, 7, 8, 9]\n",
      "Size(4,3):  [1, 1, 1, 1, 2, 1, 1, 1, 1, 1]\n",
      "before plus size:sizes[i]=2  , sizes[j]=1\n",
      "After plus size:sizes[i]=3  , sizes[j]=1\n",
      "Union(3,8):  [0, 1, 2, 4, 4, 5, 6, 7, 4, 9]\n",
      "Size(3,8):  [1, 1, 1, 1, 3, 1, 1, 1, 1, 1]\n",
      "before plus size:sizes[i]=1  , sizes[j]=1\n",
      "After plus size:sizes[i]=2  , sizes[j]=1\n",
      "Union(6,5):  [0, 1, 2, 4, 4, 6, 6, 7, 4, 9]\n",
      "Size(6,5):  [1, 1, 1, 1, 3, 1, 2, 1, 1, 1]\n",
      "before plus size:sizes[i]=1  , sizes[j]=3\n",
      "After plus size:sizes[i]=1  , sizes[j]=4\n",
      "Union(9,4):  [0, 1, 2, 4, 4, 6, 6, 7, 4, 4]\n",
      "Size(9,4):  [1, 1, 1, 1, 4, 1, 2, 1, 1, 1]\n",
      "before plus size:sizes[i]=1  , sizes[j]=1\n",
      "After plus size:sizes[i]=2  , sizes[j]=1\n",
      "Union(2,1):  [0, 2, 2, 4, 4, 6, 6, 7, 4, 4]\n",
      "Size(2,1):  [1, 1, 2, 1, 4, 1, 2, 1, 1, 1]\n",
      "before plus size:sizes[i]=2  , sizes[j]=1\n",
      "After plus size:sizes[i]=3  , sizes[j]=1\n",
      "Union(5,0):  [6, 2, 2, 4, 4, 6, 6, 7, 4, 4]\n",
      "Size(5,0):  [1, 1, 2, 1, 4, 1, 3, 1, 1, 1]\n",
      "before plus size:sizes[i]=1  , sizes[j]=2\n",
      "After plus size:sizes[i]=1  , sizes[j]=3\n",
      "Union(7,2):  [6, 2, 2, 4, 4, 6, 6, 2, 4, 4]\n",
      "Size(7,2):  [1, 1, 3, 1, 4, 1, 3, 1, 1, 1]\n",
      "before plus size:sizes[i]=3  , sizes[j]=3\n",
      "After plus size:sizes[i]=6  , sizes[j]=3\n",
      "Union(6,1):  [6, 2, 6, 4, 4, 6, 6, 2, 4, 4]\n",
      "Size(6,1):  [1, 1, 3, 1, 4, 1, 6, 1, 1, 1]\n",
      "before plus size:sizes[i]=6  , sizes[j]=4\n",
      "After plus size:sizes[i]=10  , sizes[j]=4\n",
      "Union(7,3):  [6, 2, 6, 4, 6, 6, 6, 2, 4, 4]\n",
      "Size(7,3):  [1, 1, 3, 1, 4, 1, 10, 1, 1, 1]\n"
     ]
    },
    {
     "data": {
      "text/plain": [
       "[6, 2, 6, 4, 6, 6, 6, 2, 4, 4]"
      ]
     },
     "execution_count": 32,
     "metadata": {},
     "output_type": "execute_result"
    }
   ],
   "source": [
    "(id_list, sizes) = QuickFindUF(10)\n",
    "union(id_list,4,3)\n",
    "union(id_list,3,8)\n",
    "union(id_list,6,5)\n",
    "union(id_list,9,4)\n",
    "union(id_list,2,1)\n",
    "union(id_list,5,0)\n",
    "union(id_list,2,1)\n",
    "union(id_list,7,2)\n",
    "union(id_list,6,1)\n",
    "union(id_list,7,3)"
   ]
  },
  {
   "cell_type": "code",
   "execution_count": null,
   "metadata": {},
   "outputs": [],
   "source": []
  }
 ],
 "metadata": {
  "kernelspec": {
   "display_name": "Python 3",
   "language": "python",
   "name": "python3"
  },
  "language_info": {
   "codemirror_mode": {
    "name": "ipython",
    "version": 3
   },
   "file_extension": ".py",
   "mimetype": "text/x-python",
   "name": "python",
   "nbconvert_exporter": "python",
   "pygments_lexer": "ipython3",
   "version": "3.7.4"
  }
 },
 "nbformat": 4,
 "nbformat_minor": 2
}
