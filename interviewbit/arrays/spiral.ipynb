{
 "cells": [
  {
   "cell_type": "code",
   "execution_count": 29,
   "metadata": {},
   "outputs": [],
   "source": [
    "original_array = [\n",
    "    [ 1, 2, 3, 4],\n",
    "    [ 5, 6, 7, 8],\n",
    "    [ 9, 10, 11, 12 ],\n",
    "    [ 13, 14, 15, 16 ],\n",
    "]"
   ]
  },
  {
   "cell_type": "code",
   "execution_count": 38,
   "metadata": {},
   "outputs": [
    {
     "name": "stdout",
     "output_type": "stream",
     "text": [
      "append left - right : 1\n",
      "append left - right : 2\n",
      "append left - right : 3\n",
      "append left - right : 4\n",
      "append top - bt: 8\n",
      "append top - bt: 12\n",
      "append top - bt: 16\n",
      "append right - left: 15\n",
      "append right - left: 14\n",
      "append right - left: 13\n",
      "append bt - top: 9\n",
      "append bt - top: 5\n",
      "append left - right : 6\n",
      "append left - right : 7\n",
      "append top - bt: 11\n",
      "append right - left: 10\n"
     ]
    }
   ],
   "source": [
    "top = 0\n",
    "bt = len(original_array)-1\n",
    "left = 0\n",
    "right = len(original_array[0])-1\n",
    "di = 0\n",
    "new_list = []\n",
    "while top<= bt and left <= right:\n",
    "    if di==0:\n",
    "        for i in range(left, right+1):\n",
    "            new_list.append(original_array[top][i])\n",
    "            print(\"append left - right :\",original_array[top][i])\n",
    "        top+=1\n",
    "    elif di==1:\n",
    "        for i in range(top, bt+1):\n",
    "            new_list.append(original_array[i][right])\n",
    "            print(\"append top - bt:\",original_array[i][right])\n",
    "        right -=1\n",
    "    elif di==2:\n",
    "        for i in range(right, left-1, -1):\n",
    "            new_list.append(original_array[bt][i])\n",
    "            print(\"append right - left:\",original_array[bt][i])\n",
    "        bt -=1\n",
    "    elif di==3:\n",
    "        for i in range(bt, top-1,-1):\n",
    "            new_list.append(original_array[i][right])\n",
    "            print(\"append bt - top:\",original_array[i][left])\n",
    "        left +=1\n",
    "    di = (di + 1) % 4\n",
    "        "
   ]
  },
  {
   "cell_type": "code",
   "execution_count": 36,
   "metadata": {},
   "outputs": [
    {
     "data": {
      "text/plain": [
       "[1, 2, 3, 4, 8, 12, 16, 15, 14, 13, 11, 7, 6, 7, 11, 10]"
      ]
     },
     "execution_count": 36,
     "metadata": {},
     "output_type": "execute_result"
    }
   ],
   "source": [
    "new_list"
   ]
  },
  {
   "cell_type": "code",
   "execution_count": null,
   "metadata": {},
   "outputs": [],
   "source": []
  }
 ],
 "metadata": {
  "kernelspec": {
   "display_name": "Python 3",
   "language": "python",
   "name": "python3"
  },
  "language_info": {
   "codemirror_mode": {
    "name": "ipython",
    "version": 3
   },
   "file_extension": ".py",
   "mimetype": "text/x-python",
   "name": "python",
   "nbconvert_exporter": "python",
   "pygments_lexer": "ipython3",
   "version": "3.7.4"
  }
 },
 "nbformat": 4,
 "nbformat_minor": 2
}
