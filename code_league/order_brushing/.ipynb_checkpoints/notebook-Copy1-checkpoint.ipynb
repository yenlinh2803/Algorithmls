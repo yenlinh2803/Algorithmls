{
 "cells": [
  {
   "cell_type": "markdown",
   "metadata": {},
   "source": [
    "\n",
    "\n",
    "This solution has score **0.89933**"
   ]
  },
  {
   "cell_type": "code",
   "execution_count": 1,
   "metadata": {},
   "outputs": [],
   "source": [
    "import pandas as pd \n",
    "import numpy as np \n",
    "import matplotlib.pyplot as plt"
   ]
  },
  {
   "cell_type": "markdown",
   "metadata": {},
   "source": [
    "Read dataset and explore some attributes"
   ]
  },
  {
   "cell_type": "code",
   "execution_count": 2,
   "metadata": {},
   "outputs": [
    {
     "data": {
      "text/plain": [
       "orderid                int64\n",
       "shopid                 int64\n",
       "userid                 int64\n",
       "event_time    datetime64[ns]\n",
       "dtype: object"
      ]
     },
     "execution_count": 2,
     "metadata": {},
     "output_type": "execute_result"
    }
   ],
   "source": [
    "d1 = pd.read_csv(\"order_brush_order.csv\", header=0, parse_dates=[3])\n",
    "d1.dtypes"
   ]
  },
  {
   "cell_type": "code",
   "execution_count": 3,
   "metadata": {},
   "outputs": [
    {
     "name": "stdout",
     "output_type": "stream",
     "text": [
      "Row:  222750\n"
     ]
    }
   ],
   "source": [
    "row, column = d1.shape\n",
    "print(\"Row: \", row)"
   ]
  },
  {
   "cell_type": "code",
   "execution_count": 5,
   "metadata": {},
   "outputs": [
    {
     "data": {
      "text/html": [
       "<div>\n",
       "<style scoped>\n",
       "    .dataframe tbody tr th:only-of-type {\n",
       "        vertical-align: middle;\n",
       "    }\n",
       "\n",
       "    .dataframe tbody tr th {\n",
       "        vertical-align: top;\n",
       "    }\n",
       "\n",
       "    .dataframe thead th {\n",
       "        text-align: right;\n",
       "    }\n",
       "</style>\n",
       "<table border=\"1\" class=\"dataframe\">\n",
       "  <thead>\n",
       "    <tr style=\"text-align: right;\">\n",
       "      <th></th>\n",
       "      <th>count</th>\n",
       "      <th>mean</th>\n",
       "      <th>std</th>\n",
       "      <th>min</th>\n",
       "      <th>25%</th>\n",
       "      <th>50%</th>\n",
       "      <th>75%</th>\n",
       "      <th>max</th>\n",
       "    </tr>\n",
       "  </thead>\n",
       "  <tbody>\n",
       "    <tr>\n",
       "      <th>orderid</th>\n",
       "      <td>222750.0</td>\n",
       "      <td>3.130027e+13</td>\n",
       "      <td>1.222774e+11</td>\n",
       "      <td>3.107520e+13</td>\n",
       "      <td>3.120360e+13</td>\n",
       "      <td>3.130561e+13</td>\n",
       "      <td>3.140604e+13</td>\n",
       "      <td>3.150720e+13</td>\n",
       "    </tr>\n",
       "    <tr>\n",
       "      <th>shopid</th>\n",
       "      <td>222750.0</td>\n",
       "      <td>9.433117e+07</td>\n",
       "      <td>5.695790e+07</td>\n",
       "      <td>1.000900e+04</td>\n",
       "      <td>4.980267e+07</td>\n",
       "      <td>9.033636e+07</td>\n",
       "      <td>1.475053e+08</td>\n",
       "      <td>2.154352e+08</td>\n",
       "    </tr>\n",
       "    <tr>\n",
       "      <th>userid</th>\n",
       "      <td>222750.0</td>\n",
       "      <td>9.802880e+07</td>\n",
       "      <td>6.839048e+07</td>\n",
       "      <td>1.000700e+04</td>\n",
       "      <td>3.508127e+07</td>\n",
       "      <td>9.309625e+07</td>\n",
       "      <td>1.590612e+08</td>\n",
       "      <td>2.155262e+08</td>\n",
       "    </tr>\n",
       "  </tbody>\n",
       "</table>\n",
       "</div>"
      ],
      "text/plain": [
       "            count          mean           std           min           25%  \\\n",
       "orderid  222750.0  3.130027e+13  1.222774e+11  3.107520e+13  3.120360e+13   \n",
       "shopid   222750.0  9.433117e+07  5.695790e+07  1.000900e+04  4.980267e+07   \n",
       "userid   222750.0  9.802880e+07  6.839048e+07  1.000700e+04  3.508127e+07   \n",
       "\n",
       "                  50%           75%           max  \n",
       "orderid  3.130561e+13  3.140604e+13  3.150720e+13  \n",
       "shopid   9.033636e+07  1.475053e+08  2.154352e+08  \n",
       "userid   9.309625e+07  1.590612e+08  2.155262e+08  "
      ]
     },
     "execution_count": 5,
     "metadata": {},
     "output_type": "execute_result"
    }
   ],
   "source": [
    "d1.describe().T"
   ]
  },
  {
   "cell_type": "code",
   "execution_count": 6,
   "metadata": {},
   "outputs": [
    {
     "data": {
      "text/html": [
       "<div>\n",
       "<style scoped>\n",
       "    .dataframe tbody tr th:only-of-type {\n",
       "        vertical-align: middle;\n",
       "    }\n",
       "\n",
       "    .dataframe tbody tr th {\n",
       "        vertical-align: top;\n",
       "    }\n",
       "\n",
       "    .dataframe thead th {\n",
       "        text-align: right;\n",
       "    }\n",
       "</style>\n",
       "<table border=\"1\" class=\"dataframe\">\n",
       "  <thead>\n",
       "    <tr style=\"text-align: right;\">\n",
       "      <th></th>\n",
       "      <th>orderid</th>\n",
       "      <th>shopid</th>\n",
       "      <th>userid</th>\n",
       "      <th>event_time</th>\n",
       "    </tr>\n",
       "  </thead>\n",
       "  <tbody>\n",
       "    <tr>\n",
       "      <th>0</th>\n",
       "      <td>31076582227611</td>\n",
       "      <td>93950878</td>\n",
       "      <td>30530270</td>\n",
       "      <td>2019-12-27 00:23:03</td>\n",
       "    </tr>\n",
       "    <tr>\n",
       "      <th>1</th>\n",
       "      <td>31118059853484</td>\n",
       "      <td>156423439</td>\n",
       "      <td>46057927</td>\n",
       "      <td>2019-12-27 11:54:20</td>\n",
       "    </tr>\n",
       "    <tr>\n",
       "      <th>2</th>\n",
       "      <td>31123355095755</td>\n",
       "      <td>173699291</td>\n",
       "      <td>67341739</td>\n",
       "      <td>2019-12-27 13:22:35</td>\n",
       "    </tr>\n",
       "    <tr>\n",
       "      <th>3</th>\n",
       "      <td>31122059872723</td>\n",
       "      <td>63674025</td>\n",
       "      <td>149380322</td>\n",
       "      <td>2019-12-27 13:01:00</td>\n",
       "    </tr>\n",
       "    <tr>\n",
       "      <th>4</th>\n",
       "      <td>31117075665123</td>\n",
       "      <td>127249066</td>\n",
       "      <td>149493217</td>\n",
       "      <td>2019-12-27 11:37:55</td>\n",
       "    </tr>\n",
       "    <tr>\n",
       "      <th>5</th>\n",
       "      <td>31119725718155</td>\n",
       "      <td>173811070</td>\n",
       "      <td>116451780</td>\n",
       "      <td>2019-12-27 12:22:05</td>\n",
       "    </tr>\n",
       "    <tr>\n",
       "      <th>6</th>\n",
       "      <td>31151322178251</td>\n",
       "      <td>107921853</td>\n",
       "      <td>166741763</td>\n",
       "      <td>2019-12-27 21:08:43</td>\n",
       "    </tr>\n",
       "    <tr>\n",
       "      <th>7</th>\n",
       "      <td>31079856153738</td>\n",
       "      <td>178400128</td>\n",
       "      <td>61272835</td>\n",
       "      <td>2019-12-27 01:17:37</td>\n",
       "    </tr>\n",
       "    <tr>\n",
       "      <th>8</th>\n",
       "      <td>31118426867571</td>\n",
       "      <td>147941492</td>\n",
       "      <td>10986763</td>\n",
       "      <td>2019-12-27 12:00:27</td>\n",
       "    </tr>\n",
       "    <tr>\n",
       "      <th>9</th>\n",
       "      <td>31133458226149</td>\n",
       "      <td>164933170</td>\n",
       "      <td>135957741</td>\n",
       "      <td>2019-12-27 16:10:59</td>\n",
       "    </tr>\n",
       "  </tbody>\n",
       "</table>\n",
       "</div>"
      ],
      "text/plain": [
       "          orderid     shopid     userid          event_time\n",
       "0  31076582227611   93950878   30530270 2019-12-27 00:23:03\n",
       "1  31118059853484  156423439   46057927 2019-12-27 11:54:20\n",
       "2  31123355095755  173699291   67341739 2019-12-27 13:22:35\n",
       "3  31122059872723   63674025  149380322 2019-12-27 13:01:00\n",
       "4  31117075665123  127249066  149493217 2019-12-27 11:37:55\n",
       "5  31119725718155  173811070  116451780 2019-12-27 12:22:05\n",
       "6  31151322178251  107921853  166741763 2019-12-27 21:08:43\n",
       "7  31079856153738  178400128   61272835 2019-12-27 01:17:37\n",
       "8  31118426867571  147941492   10986763 2019-12-27 12:00:27\n",
       "9  31133458226149  164933170  135957741 2019-12-27 16:10:59"
      ]
     },
     "execution_count": 6,
     "metadata": {},
     "output_type": "execute_result"
    }
   ],
   "source": [
    "d1.head(10)"
   ]
  },
  {
   "cell_type": "markdown",
   "metadata": {},
   "source": [
    "Retrieve brushing `orderid` and all relevant `orderid`s.\n",
    "\n",
    "**Warning**: the following cell may run more than 5 minutes."
   ]
  },
  {
   "cell_type": "code",
   "execution_count": 7,
   "metadata": {},
   "outputs": [
    {
     "data": {
      "text/plain": [
       "Timedelta('0 days 01:00:00')"
      ]
     },
     "execution_count": 7,
     "metadata": {},
     "output_type": "execute_result"
    }
   ],
   "source": [
    "delta = pd.Timedelta(hours=1)\n",
    "delta"
   ]
  },
  {
   "cell_type": "code",
   "execution_count": 37,
   "metadata": {
    "tags": [
     "outputPrepend",
     "outputPrepend"
    ]
   },
   "outputs": [
    {
     "name": "stdout",
     "output_type": "stream",
     "text": [
      "time_diff:  345.02176308631897\n"
     ]
    }
   ],
   "source": [
    "import time\n",
    "t1= time.time()\n",
    "\n",
    "delta = pd.Timedelta(hours=1)\n",
    "order_list = set() # store other rows that relevant to a brushing rows\n",
    "shop_query = dict() # to store query for shopid to quickly access\n",
    "\n",
    "i = 0\n",
    "while i < row:\n",
    "    # if i % 10000 == 0:\n",
    "    #     print(i)\n",
    "\n",
    "    r = d1.iloc[i]\n",
    "    end_time = r.event_time + delta\n",
    "    previous_time = r.event_time - delta\n",
    "    \n",
    "    q = shop_query[r.shopid] if r.shopid in shop_query else d1[d1.shopid == r.shopid]\n",
    "    shop_query[r.shopid] = q\n",
    "\n",
    "    q_n = q[q.event_time.between(r.event_time, end_time)]\n",
    "    q_p = q[q.event_time.between(previous_time, r.event_time)]\n",
    "\n",
    "    con_rate_p = len(q_p)/q_p.userid.nunique()\n",
    "    con_rate_n = len(q_n)/q_n.userid.nunique()\n",
    "\n",
    "    if con_rate_p >= 3:\n",
    "        # order_brushing.append(r.orderid)\n",
    "        order_list.update(list(q_p.orderid.unique()))\n",
    "    if con_rate_n >= 3:\n",
    "        order_list.update(list(q_n.orderid.unique()))\n",
    "\n",
    "    i+=1\n",
    "t2= time.time()\n",
    "time_diff = t2-t1\n",
    "print(\"time_diff: \",time_diff)"
   ]
  },
  {
   "cell_type": "code",
   "execution_count": 29,
   "metadata": {},
   "outputs": [
    {
     "name": "stdout",
     "output_type": "stream",
     "text": [
      "end_time:  2019-12-27 01:23:03\n",
      "previous_time:  2019-12-26 23:23:03\n"
     ]
    },
    {
     "data": {
      "text/plain": [
       "2"
      ]
     },
     "execution_count": 29,
     "metadata": {},
     "output_type": "execute_result"
    }
   ],
   "source": [
    "\n",
    "delta = pd.Timedelta(hours=1)\n",
    "order_list = set() # store other rows that relevant to a brushing rows\n",
    "shop_query = dict()\n",
    "i = 0\n",
    "r = d1.iloc[i]\n",
    "\n",
    "end_time = r.event_time + delta\n",
    "previous_time = r.event_time - delta\n",
    "print (\"end_time: \", end_time)\n",
    "print (\"previous_time: \", previous_time)\n",
    "\n",
    "q = shop_query[r.shopid] if r.shopid in shop_query else d1[d1.shopid == r.shopid]\n",
    "shop_query[r.shopid] = q\n",
    "\n",
    "q_n = q[q.event_time.between(r.event_time, end_time)]\n",
    "q_p = q[q.event_time.between(previous_time, r.event_time)]\n",
    "\n",
    "con_rate_p = len(q_p)/q_p.userid.nunique()\n",
    "con_rate_n = len(q_n)/q_n.userid.nunique()\n",
    "\n",
    "if con_rate_p >= 3:\n",
    "    # order_brushing.append(r.orderid)\n",
    "    order_list.update(list(q_p.orderid.unique()))\n",
    "if con_rate_n >= 3:\n",
    "    order_list.update(list(q_n.orderid.unique()))\n",
    "q_n.userid.nunique()\n",
    "t2"
   ]
  },
  {
   "cell_type": "code",
   "execution_count": 34,
   "metadata": {},
   "outputs": [
    {
     "data": {
      "text/html": [
       "<div>\n",
       "<style scoped>\n",
       "    .dataframe tbody tr th:only-of-type {\n",
       "        vertical-align: middle;\n",
       "    }\n",
       "\n",
       "    .dataframe tbody tr th {\n",
       "        vertical-align: top;\n",
       "    }\n",
       "\n",
       "    .dataframe thead th {\n",
       "        text-align: right;\n",
       "    }\n",
       "</style>\n",
       "<table border=\"1\" class=\"dataframe\">\n",
       "  <thead>\n",
       "    <tr style=\"text-align: right;\">\n",
       "      <th></th>\n",
       "      <th>orderid</th>\n",
       "      <th>shopid</th>\n",
       "      <th>userid</th>\n",
       "      <th>event_time</th>\n",
       "    </tr>\n",
       "  </thead>\n",
       "  <tbody>\n",
       "    <tr>\n",
       "      <th>0</th>\n",
       "      <td>31076582227611</td>\n",
       "      <td>93950878</td>\n",
       "      <td>30530270</td>\n",
       "      <td>2019-12-27 00:23:03</td>\n",
       "    </tr>\n",
       "    <tr>\n",
       "      <th>151368</th>\n",
       "      <td>31078565549911</td>\n",
       "      <td>93950878</td>\n",
       "      <td>76581354</td>\n",
       "      <td>2019-12-27 00:56:05</td>\n",
       "    </tr>\n",
       "  </tbody>\n",
       "</table>\n",
       "</div>"
      ],
      "text/plain": [
       "               orderid    shopid    userid          event_time\n",
       "0       31076582227611  93950878  30530270 2019-12-27 00:23:03\n",
       "151368  31078565549911  93950878  76581354 2019-12-27 00:56:05"
      ]
     },
     "execution_count": 34,
     "metadata": {},
     "output_type": "execute_result"
    }
   ],
   "source": [
    "q_n"
   ]
  },
  {
   "cell_type": "code",
   "execution_count": null,
   "metadata": {},
   "outputs": [],
   "source": [
    "orderid            31076582227611\n",
    "shopid                   93950878\n",
    "userid                   30530270\n",
    "event_time    2019-12-27 00:23:03\n",
    "Name: 0, dtype: object"
   ]
  },
  {
   "cell_type": "code",
   "execution_count": 14,
   "metadata": {},
   "outputs": [
    {
     "data": {
      "text/html": [
       "<div>\n",
       "<style scoped>\n",
       "    .dataframe tbody tr th:only-of-type {\n",
       "        vertical-align: middle;\n",
       "    }\n",
       "\n",
       "    .dataframe tbody tr th {\n",
       "        vertical-align: top;\n",
       "    }\n",
       "\n",
       "    .dataframe thead th {\n",
       "        text-align: right;\n",
       "    }\n",
       "</style>\n",
       "<table border=\"1\" class=\"dataframe\">\n",
       "  <thead>\n",
       "    <tr style=\"text-align: right;\">\n",
       "      <th></th>\n",
       "      <th>orderid</th>\n",
       "      <th>shopid</th>\n",
       "      <th>userid</th>\n",
       "      <th>event_time</th>\n",
       "    </tr>\n",
       "  </thead>\n",
       "  <tbody>\n",
       "    <tr>\n",
       "      <th>177</th>\n",
       "      <td>31099557240661</td>\n",
       "      <td>28091290</td>\n",
       "      <td>114498557</td>\n",
       "      <td>2019-12-27 06:45:58</td>\n",
       "    </tr>\n",
       "    <tr>\n",
       "      <th>194</th>\n",
       "      <td>31129438449839</td>\n",
       "      <td>80049863</td>\n",
       "      <td>123158564</td>\n",
       "      <td>2019-12-27 15:03:58</td>\n",
       "    </tr>\n",
       "    <tr>\n",
       "      <th>199</th>\n",
       "      <td>31103266871471</td>\n",
       "      <td>210197928</td>\n",
       "      <td>52867898</td>\n",
       "      <td>2019-12-27 07:47:47</td>\n",
       "    </tr>\n",
       "    <tr>\n",
       "      <th>282</th>\n",
       "      <td>31253137889114</td>\n",
       "      <td>188546697</td>\n",
       "      <td>31916119</td>\n",
       "      <td>2019-12-29 01:25:38</td>\n",
       "    </tr>\n",
       "    <tr>\n",
       "      <th>747</th>\n",
       "      <td>31162510043474</td>\n",
       "      <td>86368642</td>\n",
       "      <td>144612139</td>\n",
       "      <td>2019-12-28 00:15:10</td>\n",
       "    </tr>\n",
       "    <tr>\n",
       "      <th>...</th>\n",
       "      <td>...</td>\n",
       "      <td>...</td>\n",
       "      <td>...</td>\n",
       "      <td>...</td>\n",
       "    </tr>\n",
       "    <tr>\n",
       "      <th>221142</th>\n",
       "      <td>31309404517642</td>\n",
       "      <td>203531250</td>\n",
       "      <td>114282846</td>\n",
       "      <td>2019-12-29 17:03:24</td>\n",
       "    </tr>\n",
       "    <tr>\n",
       "      <th>221157</th>\n",
       "      <td>31328905645846</td>\n",
       "      <td>156883302</td>\n",
       "      <td>188025647</td>\n",
       "      <td>2019-12-29 22:28:26</td>\n",
       "    </tr>\n",
       "    <tr>\n",
       "      <th>221458</th>\n",
       "      <td>31393444980595</td>\n",
       "      <td>4149345</td>\n",
       "      <td>212325226</td>\n",
       "      <td>2019-12-30 16:24:04</td>\n",
       "    </tr>\n",
       "    <tr>\n",
       "      <th>221583</th>\n",
       "      <td>31392733708712</td>\n",
       "      <td>66337054</td>\n",
       "      <td>122507717</td>\n",
       "      <td>2019-12-30 16:12:13</td>\n",
       "    </tr>\n",
       "    <tr>\n",
       "      <th>222253</th>\n",
       "      <td>31076728841460</td>\n",
       "      <td>141025402</td>\n",
       "      <td>613919</td>\n",
       "      <td>2019-12-27 00:25:29</td>\n",
       "    </tr>\n",
       "  </tbody>\n",
       "</table>\n",
       "<p>1134 rows × 4 columns</p>\n",
       "</div>"
      ],
      "text/plain": [
       "               orderid     shopid     userid          event_time\n",
       "177     31099557240661   28091290  114498557 2019-12-27 06:45:58\n",
       "194     31129438449839   80049863  123158564 2019-12-27 15:03:58\n",
       "199     31103266871471  210197928   52867898 2019-12-27 07:47:47\n",
       "282     31253137889114  188546697   31916119 2019-12-29 01:25:38\n",
       "747     31162510043474   86368642  144612139 2019-12-28 00:15:10\n",
       "...                ...        ...        ...                 ...\n",
       "221142  31309404517642  203531250  114282846 2019-12-29 17:03:24\n",
       "221157  31328905645846  156883302  188025647 2019-12-29 22:28:26\n",
       "221458  31393444980595    4149345  212325226 2019-12-30 16:24:04\n",
       "221583  31392733708712   66337054  122507717 2019-12-30 16:12:13\n",
       "222253  31076728841460  141025402     613919 2019-12-27 00:25:29\n",
       "\n",
       "[1134 rows x 4 columns]"
      ]
     },
     "execution_count": 14,
     "metadata": {},
     "output_type": "execute_result"
    }
   ],
   "source": [
    "d2"
   ]
  },
  {
   "cell_type": "markdown",
   "metadata": {},
   "source": [
    "Query data set"
   ]
  },
  {
   "cell_type": "code",
   "execution_count": 35,
   "metadata": {},
   "outputs": [],
   "source": [
    "d2 = d1[d1.orderid.isin(order_list)]"
   ]
  },
  {
   "cell_type": "code",
   "execution_count": 36,
   "metadata": {},
   "outputs": [
    {
     "data": {
      "text/html": [
       "<div>\n",
       "<style scoped>\n",
       "    .dataframe tbody tr th:only-of-type {\n",
       "        vertical-align: middle;\n",
       "    }\n",
       "\n",
       "    .dataframe tbody tr th {\n",
       "        vertical-align: top;\n",
       "    }\n",
       "\n",
       "    .dataframe thead th {\n",
       "        text-align: right;\n",
       "    }\n",
       "</style>\n",
       "<table border=\"1\" class=\"dataframe\">\n",
       "  <thead>\n",
       "    <tr style=\"text-align: right;\">\n",
       "      <th></th>\n",
       "      <th>orderid</th>\n",
       "      <th>shopid</th>\n",
       "      <th>userid</th>\n",
       "      <th>event_time</th>\n",
       "    </tr>\n",
       "  </thead>\n",
       "  <tbody>\n",
       "  </tbody>\n",
       "</table>\n",
       "</div>"
      ],
      "text/plain": [
       "Empty DataFrame\n",
       "Columns: [orderid, shopid, userid, event_time]\n",
       "Index: []"
      ]
     },
     "execution_count": 36,
     "metadata": {},
     "output_type": "execute_result"
    }
   ],
   "source": [
    "d2"
   ]
  },
  {
   "cell_type": "code",
   "execution_count": 48,
   "metadata": {},
   "outputs": [
    {
     "name": "stdout",
     "output_type": "stream",
     "text": [
      "(1134, 4)\n"
     ]
    }
   ],
   "source": [
    "print(d2.shape)\n",
    "d2_row, d2_column = d2.shape"
   ]
  },
  {
   "cell_type": "markdown",
   "metadata": {},
   "source": [
    "Define a function to find all `userid` with highest user proportion."
   ]
  },
  {
   "cell_type": "code",
   "execution_count": 49,
   "metadata": {},
   "outputs": [],
   "source": [
    "def find_max(userid_list, user_p_list):\n",
    "    max_value = max(user_p_list)\n",
    "    maxs_index = []\n",
    "    for i, value in enumerate(user_p_list):\n",
    "        if value == max_value:\n",
    "            maxs_index.append(i)\n",
    "    max_user = [ userid_list[i] for i in maxs_index]\n",
    "    return max_value, set(max_user)"
   ]
  },
  {
   "cell_type": "markdown",
   "metadata": {},
   "source": [
    "Define a dictionary to store `shopid` with `userid` and maximum user proportion for that `userid`s"
   ]
  },
  {
   "cell_type": "code",
   "execution_count": 50,
   "metadata": {},
   "outputs": [],
   "source": [
    "shop_list = dict()\n",
    "\n",
    "def add_to_list(shopid, max_tuples):\n",
    "    if shopid not in shop_list:\n",
    "        shop_list[shopid] = max_tuples\n",
    "        return\n",
    "    \n",
    "    max_value, max_user = shop_list[shopid]\n",
    "    max_v, max_u = max_tuples\n",
    "    if max_v > max_value:\n",
    "        shop_list[shopid] = max_tuples\n",
    "    elif max_v == max_value:\n",
    "        shop_list[shopid] = (max_value, max_user.union(max_u))\n"
   ]
  },
  {
   "cell_type": "markdown",
   "metadata": {},
   "source": [
    "Process in brushing order, find `userid` for each case and then put into shop_list"
   ]
  },
  {
   "cell_type": "code",
   "execution_count": 51,
   "metadata": {},
   "outputs": [],
   "source": [
    "d2_uniq_shop = d2.shopid.unique()\n",
    "for shopid in d2_uniq_shop:\n",
    "    q = d2[d2.shopid == shopid]\n",
    "\n",
    "    user_list = q.userid.unique()\n",
    "    sum_order = len(q)\n",
    "    user_proportion = []\n",
    "    for userid in user_list:\n",
    "        user_proportion.append(len(q[q.userid == userid])/sum_order)\n",
    "\n",
    "    max_value, max_user = find_max(user_list,user_proportion)\n",
    "    add_to_list(shopid, (max_value, max_user))"
   ]
  },
  {
   "cell_type": "code",
   "execution_count": 52,
   "metadata": {},
   "outputs": [
    {
     "data": {
      "text/plain": [
       "308"
      ]
     },
     "execution_count": 52,
     "metadata": {},
     "output_type": "execute_result"
    }
   ],
   "source": [
    "len(d2_uniq_shop)"
   ]
  },
  {
   "cell_type": "markdown",
   "metadata": {},
   "source": [
    "Get unique `shopid`"
   ]
  },
  {
   "cell_type": "code",
   "execution_count": 53,
   "metadata": {},
   "outputs": [],
   "source": [
    "unique_shopid = d1.shopid.unique()"
   ]
  },
  {
   "cell_type": "markdown",
   "metadata": {},
   "source": [
    "Process `userid` for each `shopid`"
   ]
  },
  {
   "cell_type": "code",
   "execution_count": 54,
   "metadata": {
    "tags": [
     "outputPrepend",
     "outputPrepend",
     "outputPrepend",
     "outputPrepend",
     "outputPrepend",
     "outputPrepend",
     "outputPrepend",
     "outputPrepend",
     "outputPrepend",
     "outputPrepend",
     "outputPrepend",
     "outputPrepend",
     "outputPrepend",
     "outputPrepend",
     "outputPrepend",
     "outputPrepend",
     "outputPrepend",
     "outputPrepend",
     "outputPrepend",
     "outputPrepend",
     "outputPrepend",
     "outputPrepend",
     "outputPrepend",
     "outputPrepend",
     "outputPrepend",
     "outputPrepend",
     "outputPrepend",
     "outputPrepend",
     "outputPrepend",
     "outputPrepend",
     "outputPrepend",
     "outputPrepend",
     "outputPrepend",
     "outputPrepend",
     "outputPrepend",
     "outputPrepend",
     "outputPrepend",
     "outputPrepend",
     "outputPrepend",
     "outputPrepend",
     "outputPrepend",
     "outputPrepend",
     "outputPrepend",
     "outputPrepend",
     "outputPrepend",
     "outputPrepend",
     "outputPrepend",
     "outputPrepend",
     "outputPrepend",
     "outputPrepend",
     "outputPrepend",
     "outputPrepend",
     "outputPrepend",
     "outputPrepend",
     "outputPrepend",
     "outputPrepend",
     "outputPrepend",
     "outputPrepend",
     "outputPrepend",
     "outputPrepend",
     "outputPrepend",
     "outputPrepend",
     "outputPrepend",
     "outputPrepend",
     "outputPrepend",
     "outputPrepend",
     "outputPrepend",
     "outputPrepend",
     "outputPrepend",
     "outputPrepend",
     "outputPrepend",
     "outputPrepend",
     "outputPrepend",
     "outputPrepend",
     "outputPrepend",
     "outputPrepend",
     "outputPrepend",
     "outputPrepend",
     "outputPrepend",
     "outputPrepend",
     "outputPrepend",
     "outputPrepend",
     "outputPrepend",
     "outputPrepend",
     "outputPrepend",
     "outputPrepend",
     "outputPrepend",
     "outputPrepend",
     "outputPrepend",
     "outputPrepend",
     "outputPrepend",
     "outputPrepend",
     "outputPrepend",
     "outputPrepend",
     "outputPrepend",
     "outputPrepend",
     "outputPrepend",
     "outputPrepend",
     "outputPrepend",
     "outputPrepend",
     "outputPrepend",
     "outputPrepend",
     "outputPrepend",
     "outputPrepend",
     "outputPrepend",
     "outputPrepend",
     "outputPrepend",
     "outputPrepend",
     "outputPrepend",
     "outputPrepend",
     "outputPrepend",
     "outputPrepend",
     "outputPrepend",
     "outputPrepend",
     "outputPrepend",
     "outputPrepend",
     "outputPrepend",
     "outputPrepend",
     "outputPrepend",
     "outputPrepend",
     "outputPrepend"
    ]
   },
   "outputs": [],
   "source": [
    "userid_shopid = []\n",
    "for shopid in unique_shopid:\n",
    "    userid = \"0\"\n",
    "    if shopid in shop_list:\n",
    "        max_value, max_user = shop_list[shopid]\n",
    "        userid = \"&\".join([str(u) for u in sorted(list(max_user))])\n",
    "    userid_shopid.append(userid)"
   ]
  },
  {
   "cell_type": "markdown",
   "metadata": {},
   "source": [
    "Save submission"
   ]
  },
  {
   "cell_type": "code",
   "execution_count": 55,
   "metadata": {},
   "outputs": [],
   "source": [
    "sms = pd.DataFrame({\n",
    "    \"shopid\": unique_shopid,\n",
    "    \"userid\": userid_shopid\n",
    "})"
   ]
  },
  {
   "cell_type": "code",
   "execution_count": 56,
   "metadata": {},
   "outputs": [
    {
     "data": {
      "text/html": [
       "<div>\n",
       "<style scoped>\n",
       "    .dataframe tbody tr th:only-of-type {\n",
       "        vertical-align: middle;\n",
       "    }\n",
       "\n",
       "    .dataframe tbody tr th {\n",
       "        vertical-align: top;\n",
       "    }\n",
       "\n",
       "    .dataframe thead th {\n",
       "        text-align: right;\n",
       "    }\n",
       "</style>\n",
       "<table border=\"1\" class=\"dataframe\">\n",
       "  <thead>\n",
       "    <tr style=\"text-align: right;\">\n",
       "      <th></th>\n",
       "      <th>shopid</th>\n",
       "      <th>userid</th>\n",
       "    </tr>\n",
       "  </thead>\n",
       "  <tbody>\n",
       "    <tr>\n",
       "      <th>34</th>\n",
       "      <td>1175477</td>\n",
       "      <td>122277324</td>\n",
       "    </tr>\n",
       "    <tr>\n",
       "      <th>70</th>\n",
       "      <td>66861410</td>\n",
       "      <td>213502289</td>\n",
       "    </tr>\n",
       "    <tr>\n",
       "      <th>72</th>\n",
       "      <td>8715449</td>\n",
       "      <td>9753706</td>\n",
       "    </tr>\n",
       "    <tr>\n",
       "      <th>140</th>\n",
       "      <td>58543771</td>\n",
       "      <td>61893096</td>\n",
       "    </tr>\n",
       "    <tr>\n",
       "      <th>141</th>\n",
       "      <td>156883302</td>\n",
       "      <td>76102350&amp;188025647</td>\n",
       "    </tr>\n",
       "    <tr>\n",
       "      <th>...</th>\n",
       "      <td>...</td>\n",
       "      <td>...</td>\n",
       "    </tr>\n",
       "    <tr>\n",
       "      <th>12754</th>\n",
       "      <td>78837196</td>\n",
       "      <td>78903959</td>\n",
       "    </tr>\n",
       "    <tr>\n",
       "      <th>12954</th>\n",
       "      <td>189544563</td>\n",
       "      <td>799445</td>\n",
       "    </tr>\n",
       "    <tr>\n",
       "      <th>13958</th>\n",
       "      <td>64369518</td>\n",
       "      <td>172591713</td>\n",
       "    </tr>\n",
       "    <tr>\n",
       "      <th>14302</th>\n",
       "      <td>83234229</td>\n",
       "      <td>181942741</td>\n",
       "    </tr>\n",
       "    <tr>\n",
       "      <th>15912</th>\n",
       "      <td>157939195</td>\n",
       "      <td>69563623</td>\n",
       "    </tr>\n",
       "  </tbody>\n",
       "</table>\n",
       "<p>308 rows × 2 columns</p>\n",
       "</div>"
      ],
      "text/plain": [
       "          shopid              userid\n",
       "34       1175477           122277324\n",
       "70      66861410           213502289\n",
       "72       8715449             9753706\n",
       "140     58543771            61893096\n",
       "141    156883302  76102350&188025647\n",
       "...          ...                 ...\n",
       "12754   78837196            78903959\n",
       "12954  189544563              799445\n",
       "13958   64369518           172591713\n",
       "14302   83234229           181942741\n",
       "15912  157939195            69563623\n",
       "\n",
       "[308 rows x 2 columns]"
      ]
     },
     "execution_count": 56,
     "metadata": {},
     "output_type": "execute_result"
    }
   ],
   "source": [
    "sms[sms.userid != \"0\"]"
   ]
  },
  {
   "cell_type": "code",
   "execution_count": 57,
   "metadata": {},
   "outputs": [],
   "source": [
    "sms.to_csv(\"./data/submission.csv\", index=False)"
   ]
  }
 ],
 "metadata": {
  "kernelspec": {
   "display_name": "Python 3",
   "language": "python",
   "name": "python3"
  },
  "language_info": {
   "codemirror_mode": {
    "name": "ipython",
    "version": 3
   },
   "file_extension": ".py",
   "mimetype": "text/x-python",
   "name": "python",
   "nbconvert_exporter": "python",
   "pygments_lexer": "ipython3",
   "version": "3.8.5"
  }
 },
 "nbformat": 4,
 "nbformat_minor": 2
}
