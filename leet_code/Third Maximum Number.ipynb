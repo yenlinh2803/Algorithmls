{
 "cells": [
  {
   "cell_type": "code",
   "execution_count": 2,
   "metadata": {},
   "outputs": [],
   "source": [
    "# Given a non-empty array of integers, return the third maximum number in this array. \n",
    "# If it does not exist, return the maximum number. The time complexity must be in O(n).\n",
    "\n",
    "# Example 1:\n",
    "# Input: [3, 2, 1]\n",
    "\n",
    "# Output: 1\n",
    "\n",
    "# Explanation: The third maximum is 1.\n",
    "# Example 2:\n",
    "# Input: [1, 2]\n",
    "# Output: 2\n",
    "# Explanation: The third maximum does not exist, so the maximum (2) is returned instead.\n",
    "\n",
    "# Example 3:\n",
    "# Input: [2, 2, 3, 1]\n",
    "# Output: 1\n",
    "\n",
    "# Example 4:\n",
    "# Input: [1,1,2]\n",
    "# Output: 1\n",
    "\n",
    "# Example 4:\n",
    "# Input: [1,2,-2147483648]\n",
    "\n",
    "# Explanation: Note that the third maximum here means the third maximum distinct number.\n",
    "# Both numbers with value 2 are both considered as second maximum."
   ]
  },
  {
   "cell_type": "code",
   "execution_count": 17,
   "metadata": {},
   "outputs": [
    {
     "name": "stdout",
     "output_type": "stream",
     "text": [
      "[3, 2, 1]\n",
      "1\n"
     ]
    }
   ],
   "source": [
    "nums = [2, 2, 3, 1]\n",
    "nums= sorted(nums)\n",
    "nums = list(dict.fromkeys(nums))\n",
    "nums.sort(reverse=True)\n",
    "third_max = nums[2]\n",
    "print(nums)\n",
    "print(third_max)\n",
    "\n"
   ]
  },
  {
   "cell_type": "code",
   "execution_count": 8,
   "metadata": {},
   "outputs": [
    {
     "name": "stdout",
     "output_type": "stream",
     "text": [
      "2\n",
      "1\n",
      "2\n"
     ]
    }
   ],
   "source": [
    "nums = [1,1,2]\n",
    "max_1 = max(nums)\n",
    "max_2 = 0\n",
    "max_3 = 0\n",
    "if len(nums)<3:\n",
    "    max_3= max_1\n",
    "else:\n",
    "    for i in range(0,len(nums)):\n",
    "        if nums[i]>= max_2 and  nums[i] < max_1:\n",
    "            max_2 = nums[i]\n",
    "    for i in range(0,len(nums)):\n",
    "        if nums[i]>= max_3 and  nums[i] < max_2:\n",
    "            max_3 = nums[i]\n",
    "\n",
    "    if max_3==0: \n",
    "        max_3= max_1\n",
    "    \n",
    "print(max_1)\n",
    "print(max_2)\n",
    "print(max_3)"
   ]
  },
  {
   "cell_type": "code",
   "execution_count": 6,
   "metadata": {},
   "outputs": [
    {
     "ename": "NameError",
     "evalue": "name 'List' is not defined",
     "output_type": "error",
     "traceback": [
      "\u001b[0;31m---------------------------------------------------------------------------\u001b[0m",
      "\u001b[0;31mNameError\u001b[0m                                 Traceback (most recent call last)",
      "\u001b[0;32m<ipython-input-6-d1c7f5204048>\u001b[0m in \u001b[0;36m<module>\u001b[0;34m\u001b[0m\n\u001b[0;32m----> 1\u001b[0;31m \u001b[0;32mclass\u001b[0m \u001b[0mSolution\u001b[0m\u001b[0;34m:\u001b[0m\u001b[0;34m\u001b[0m\u001b[0;34m\u001b[0m\u001b[0m\n\u001b[0m\u001b[1;32m      2\u001b[0m     \u001b[0;32mdef\u001b[0m \u001b[0mthirdMax\u001b[0m\u001b[0;34m(\u001b[0m\u001b[0mself\u001b[0m\u001b[0;34m,\u001b[0m \u001b[0mnums\u001b[0m\u001b[0;34m:\u001b[0m \u001b[0mList\u001b[0m\u001b[0;34m[\u001b[0m\u001b[0mint\u001b[0m\u001b[0;34m]\u001b[0m\u001b[0;34m)\u001b[0m \u001b[0;34m->\u001b[0m \u001b[0mint\u001b[0m\u001b[0;34m:\u001b[0m\u001b[0;34m\u001b[0m\u001b[0;34m\u001b[0m\u001b[0m\n\u001b[1;32m      3\u001b[0m         \u001b[0mmin_1\u001b[0m \u001b[0;34m=\u001b[0m \u001b[0mmin\u001b[0m\u001b[0;34m(\u001b[0m\u001b[0mnums\u001b[0m\u001b[0;34m)\u001b[0m\u001b[0;34m\u001b[0m\u001b[0;34m\u001b[0m\u001b[0m\n\u001b[1;32m      4\u001b[0m         \u001b[0mmax_1\u001b[0m \u001b[0;34m=\u001b[0m \u001b[0mmax\u001b[0m\u001b[0;34m(\u001b[0m\u001b[0mnums\u001b[0m\u001b[0;34m)\u001b[0m\u001b[0;34m\u001b[0m\u001b[0;34m\u001b[0m\u001b[0m\n\u001b[1;32m      5\u001b[0m         \u001b[0mmax_2\u001b[0m \u001b[0;34m=\u001b[0m \u001b[0mmin_1\u001b[0m\u001b[0;34m\u001b[0m\u001b[0;34m\u001b[0m\u001b[0m\n",
      "\u001b[0;32m<ipython-input-6-d1c7f5204048>\u001b[0m in \u001b[0;36mSolution\u001b[0;34m()\u001b[0m\n\u001b[1;32m      1\u001b[0m \u001b[0;32mclass\u001b[0m \u001b[0mSolution\u001b[0m\u001b[0;34m:\u001b[0m\u001b[0;34m\u001b[0m\u001b[0;34m\u001b[0m\u001b[0m\n\u001b[0;32m----> 2\u001b[0;31m     \u001b[0;32mdef\u001b[0m \u001b[0mthirdMax\u001b[0m\u001b[0;34m(\u001b[0m\u001b[0mself\u001b[0m\u001b[0;34m,\u001b[0m \u001b[0mnums\u001b[0m\u001b[0;34m:\u001b[0m \u001b[0mList\u001b[0m\u001b[0;34m[\u001b[0m\u001b[0mint\u001b[0m\u001b[0;34m]\u001b[0m\u001b[0;34m)\u001b[0m \u001b[0;34m->\u001b[0m \u001b[0mint\u001b[0m\u001b[0;34m:\u001b[0m\u001b[0;34m\u001b[0m\u001b[0;34m\u001b[0m\u001b[0m\n\u001b[0m\u001b[1;32m      3\u001b[0m         \u001b[0mmin_1\u001b[0m \u001b[0;34m=\u001b[0m \u001b[0mmin\u001b[0m\u001b[0;34m(\u001b[0m\u001b[0mnums\u001b[0m\u001b[0;34m)\u001b[0m\u001b[0;34m\u001b[0m\u001b[0;34m\u001b[0m\u001b[0m\n\u001b[1;32m      4\u001b[0m         \u001b[0mmax_1\u001b[0m \u001b[0;34m=\u001b[0m \u001b[0mmax\u001b[0m\u001b[0;34m(\u001b[0m\u001b[0mnums\u001b[0m\u001b[0;34m)\u001b[0m\u001b[0;34m\u001b[0m\u001b[0;34m\u001b[0m\u001b[0m\n\u001b[1;32m      5\u001b[0m         \u001b[0mmax_2\u001b[0m \u001b[0;34m=\u001b[0m \u001b[0mmin_1\u001b[0m\u001b[0;34m\u001b[0m\u001b[0;34m\u001b[0m\u001b[0m\n",
      "\u001b[0;31mNameError\u001b[0m: name 'List' is not defined"
     ]
    }
   ],
   "source": [
    "# class Solution:\n",
    "#     def thirdMax(self, nums: List[int]) -> int:\n",
    "#         min_1 = min(nums)\n",
    "#         max_1 = max(nums)\n",
    "#         max_2 = min_1\n",
    "#         max_3 = min_1\n",
    "        \n",
    "#         if len(nums)<3:\n",
    "#             return max_1\n",
    "#         else:\n",
    "#             for i in range(0,len(nums)):\n",
    "#                 try:\n",
    "#                     if nums[i]>= max_2 and  nums[i] < max_1:\n",
    "#                         max_2 = nums[i]\n",
    "#                 except:\n",
    "#                     max_2= max_1\n",
    "#             for i in range(0,len(nums)):\n",
    "#                 try:\n",
    "#                     if nums[i]>= max_3 and  nums[i] < max_2:\n",
    "#                         max_3 = nums[i]\n",
    "#                 except:\n",
    "#                     max_3= max_2\n",
    "                    \n",
    "#         print(max_1)\n",
    "#         print(max_2)\n",
    "#         print(max_3)\n",
    "#         return max_3\n",
    "        "
   ]
  },
  {
   "cell_type": "code",
   "execution_count": 12,
   "metadata": {},
   "outputs": [
    {
     "name": "stdout",
     "output_type": "stream",
     "text": [
      "max_1:  2\n",
      "max_2:  -2147483648\n",
      "max_3:  0\n"
     ]
    }
   ],
   "source": [
    "class Solution:\n",
    "    def thirdMax(self, nums: List[int]) -> int:\n",
    "        max_1 = max(nums)\n",
    "        max_2 = 0\n",
    "        max_3 = 0\n",
    "        if len(nums)<3:\n",
    "            return max_1\n",
    "        else:\n",
    "            nums= sorted(nums)\n",
    "            nums = list(dict.fromkeys(nums))\n",
    "            nums.sort(reverse=True)\n",
    "            if len(nums)<3:\n",
    "                return max_1\n",
    "            else:\n",
    "                third_max = nums[2]\n",
    "                return third_max"
   ]
  },
  {
   "cell_type": "code",
   "execution_count": 11,
   "metadata": {},
   "outputs": [
    {
     "data": {
      "text/plain": [
       "2"
      ]
     },
     "execution_count": 11,
     "metadata": {},
     "output_type": "execute_result"
    }
   ],
   "source": [
    "max_3"
   ]
  },
  {
   "cell_type": "code",
   "execution_count": 18,
   "metadata": {},
   "outputs": [
    {
     "ename": "NameError",
     "evalue": "name 'sys' is not defined",
     "output_type": "error",
     "traceback": [
      "\u001b[0;31m---------------------------------------------------------------------------\u001b[0m",
      "\u001b[0;31mNameError\u001b[0m                                 Traceback (most recent call last)",
      "\u001b[0;32m<ipython-input-18-2c5a2c531ea0>\u001b[0m in \u001b[0;36m<module>\u001b[0;34m\u001b[0m\n\u001b[0;32m----> 1\u001b[0;31m \u001b[0msys\u001b[0m\u001b[0;34m.\u001b[0m\u001b[0mmaxsize\u001b[0m\u001b[0;34m\u001b[0m\u001b[0;34m\u001b[0m\u001b[0m\n\u001b[0m",
      "\u001b[0;31mNameError\u001b[0m: name 'sys' is not defined"
     ]
    }
   ],
   "source": [
    "sys.maxsize"
   ]
  },
  {
   "cell_type": "code",
   "execution_count": null,
   "metadata": {},
   "outputs": [],
   "source": []
  }
 ],
 "metadata": {
  "kernelspec": {
   "display_name": "Python 3",
   "language": "python",
   "name": "python3"
  },
  "language_info": {
   "codemirror_mode": {
    "name": "ipython",
    "version": 3
   },
   "file_extension": ".py",
   "mimetype": "text/x-python",
   "name": "python",
   "nbconvert_exporter": "python",
   "pygments_lexer": "ipython3",
   "version": "3.8.5"
  }
 },
 "nbformat": 4,
 "nbformat_minor": 4
}
