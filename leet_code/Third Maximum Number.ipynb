{
 "cells": [
  {
   "cell_type": "code",
   "execution_count": 1,
   "metadata": {},
   "outputs": [],
   "source": [
    "# Given a non-empty array of integers, return the third maximum number in this array. \n",
    "# If it does not exist, return the maximum number. The time complexity must be in O(n).\n",
    "\n",
    "# Example 1:\n",
    "# Input: [3, 2, 1]\n",
    "\n",
    "# Output: 1\n",
    "\n",
    "# Explanation: The third maximum is 1.\n",
    "# Example 2:\n",
    "# Input: [1, 2]\n",
    "# Output: 2\n",
    "# Explanation: The third maximum does not exist, so the maximum (2) is returned instead.\n",
    "\n",
    "# Example 3:\n",
    "# Input: [2, 2, 3, 1]\n",
    "# Output: 1\n",
    "\n",
    "# Explanation: Note that the third maximum here means the third maximum distinct number.\n",
    "# Both numbers with value 2 are both considered as second maximum."
   ]
  },
  {
   "cell_type": "code",
   "execution_count": 17,
   "metadata": {},
   "outputs": [
    {
     "name": "stdout",
     "output_type": "stream",
     "text": [
      "[1, 2, 2, 3]\n",
      "[1, 2, 3]\n"
     ]
    }
   ],
   "source": [
    "nums = [2, 2, 3, 1]\n",
    "nums= sorted(nums)\n",
    "print(nums)\n",
    "ind = 1 \n",
    "for i in range(1,len(nums)):\n",
    "    if nums[i]!=nums[i-1]:\n",
    "        nums[ind]=nums[i]\n",
    "        ind+=1\n",
    "new_arr = [nums[i] for i in range(0,ind)] \n",
    "print(new_arr)\n",
    "\n"
   ]
  },
  {
   "cell_type": "code",
   "execution_count": 14,
   "metadata": {},
   "outputs": [
    {
     "data": {
      "text/plain": [
       "[2, 2, 3, 1]"
      ]
     },
     "execution_count": 14,
     "metadata": {},
     "output_type": "execute_result"
    }
   ],
   "source": [
    "nums = [2, 2, 3, 1]\n",
    "# nums = sorted(list(set(nums)), reverse=True)\n",
    "# nums[0] if len(nums) < 3 else nums[2]\n",
    "nums"
   ]
  },
  {
   "cell_type": "code",
   "execution_count": 15,
   "metadata": {},
   "outputs": [
    {
     "data": {
      "text/plain": [
       "{1, 2, 3}"
      ]
     },
     "execution_count": 15,
     "metadata": {},
     "output_type": "execute_result"
    }
   ],
   "source": [
    "set(nums)"
   ]
  },
  {
   "cell_type": "code",
   "execution_count": null,
   "metadata": {},
   "outputs": [],
   "source": []
  }
 ],
 "metadata": {
  "kernelspec": {
   "display_name": "Python 3",
   "language": "python",
   "name": "python3"
  },
  "language_info": {
   "codemirror_mode": {
    "name": "ipython",
    "version": 3
   },
   "file_extension": ".py",
   "mimetype": "text/x-python",
   "name": "python",
   "nbconvert_exporter": "python",
   "pygments_lexer": "ipython3",
   "version": "3.8.5"
  }
 },
 "nbformat": 4,
 "nbformat_minor": 4
}
