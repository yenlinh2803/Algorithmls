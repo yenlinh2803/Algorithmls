{
 "cells": [
  {
   "cell_type": "code",
   "execution_count": null,
   "metadata": {},
   "outputs": [],
   "source": [
    "# Example 1:\n",
    "\n",
    "# Input: arr = [2,1]\n",
    "# Output: false\n",
    "    \n",
    "# Example 2:\n",
    "\n",
    "# Input: arr = [3,5,5]\n",
    "# Output: false\n",
    "    \n",
    "# Example 3:\n",
    "\n",
    "# Input: arr = [0,3,2,1]\n",
    "# Output: true\n",
    "\n",
    "# Input: [2,0,2]\n",
    "# Output: false\n",
    "\n",
    "# Input: arr = [0,1,2,3,4,5,6,7,8,9]\n",
    "# Output: false\n",
    "\n",
    "# Input: arr = [2]\n",
    "# Output: false"
   ]
  },
  {
   "cell_type": "code",
   "execution_count": 82,
   "metadata": {},
   "outputs": [
    {
     "name": "stdout",
     "output_type": "stream",
     "text": [
      "False\n"
     ]
    },
    {
     "ename": "IndexError",
     "evalue": "list index out of range",
     "output_type": "error",
     "traceback": [
      "\u001b[0;31m---------------------------------------------------------------------------\u001b[0m",
      "\u001b[0;31mIndexError\u001b[0m                                Traceback (most recent call last)",
      "\u001b[0;32m<ipython-input-82-632f343fd30b>\u001b[0m in \u001b[0;36m<module>\u001b[0;34m\u001b[0m\n\u001b[1;32m      6\u001b[0m \u001b[0;32mif\u001b[0m \u001b[0mn\u001b[0m\u001b[0;34m<\u001b[0m\u001b[0;36m3\u001b[0m\u001b[0;34m:\u001b[0m\u001b[0;34m\u001b[0m\u001b[0;34m\u001b[0m\u001b[0m\n\u001b[1;32m      7\u001b[0m     \u001b[0mprint\u001b[0m\u001b[0;34m(\u001b[0m\u001b[0;34m\"False\"\u001b[0m\u001b[0;34m)\u001b[0m\u001b[0;34m\u001b[0m\u001b[0;34m\u001b[0m\u001b[0m\n\u001b[0;32m----> 8\u001b[0;31m \u001b[0;32mwhile\u001b[0m \u001b[0mpeak_id\u001b[0m\u001b[0;34m<=\u001b[0m \u001b[0mn\u001b[0m\u001b[0;34m-\u001b[0m\u001b[0;36m1\u001b[0m \u001b[0;32mand\u001b[0m \u001b[0marr\u001b[0m\u001b[0;34m[\u001b[0m\u001b[0mpeak_id\u001b[0m\u001b[0;34m]\u001b[0m\u001b[0;34m<\u001b[0m\u001b[0marr\u001b[0m\u001b[0;34m[\u001b[0m\u001b[0mpeak_id\u001b[0m\u001b[0;34m+\u001b[0m\u001b[0;36m1\u001b[0m\u001b[0;34m]\u001b[0m\u001b[0;34m:\u001b[0m\u001b[0;34m\u001b[0m\u001b[0;34m\u001b[0m\u001b[0m\n\u001b[0m\u001b[1;32m      9\u001b[0m     \u001b[0mpeak_id\u001b[0m \u001b[0;34m+=\u001b[0m\u001b[0;36m1\u001b[0m\u001b[0;34m\u001b[0m\u001b[0;34m\u001b[0m\u001b[0m\n\u001b[1;32m     10\u001b[0m     \u001b[0;32mif\u001b[0m \u001b[0mpeak_id\u001b[0m\u001b[0;34m+\u001b[0m\u001b[0;36m1\u001b[0m\u001b[0;34m>=\u001b[0m\u001b[0mn\u001b[0m\u001b[0;34m:\u001b[0m\u001b[0;34m\u001b[0m\u001b[0;34m\u001b[0m\u001b[0m\n",
      "\u001b[0;31mIndexError\u001b[0m: list index out of range"
     ]
    }
   ],
   "source": [
    "arr = [2]\n",
    "n = len(arr)\n",
    "peak_id = 0\n",
    "down_times = 0 \n",
    "\n",
    "if n<3:\n",
    "    print(\"False\")\n",
    "while peak_id<= n-1 and arr[peak_id]<arr[peak_id+1]:\n",
    "    peak_id +=1\n",
    "    if peak_id+1>=n:\n",
    "        break \n",
    "\n",
    "if peak_id ==0 and peak_id==n-1:\n",
    "    print(\"False\")\n",
    "\n",
    "for i in range(peak_id+1,n):\n",
    "    if arr[i]>=arr[i-1]:\n",
    "        down_times+=1\n",
    "\n",
    "if down_times>=1 or peak_id==0 or peak_id==n-1:\n",
    "    print(\"False\")\n",
    "else: \n",
    "    print(\"true\")\n",
    "\n",
    "        \n",
    "    \n"
   ]
  },
  {
   "cell_type": "code",
   "execution_count": 70,
   "metadata": {},
   "outputs": [
    {
     "data": {
      "text/plain": [
       "0"
      ]
     },
     "execution_count": 70,
     "metadata": {},
     "output_type": "execute_result"
    }
   ],
   "source": [
    "peak_id"
   ]
  },
  {
   "cell_type": "code",
   "execution_count": null,
   "metadata": {},
   "outputs": [],
   "source": [
    "class Solution:\n",
    "    def validMountainArray(self, arr: List[int]) -> bool:\n",
    "        n = len(arr)\n",
    "        peak_id = 0\n",
    "        down_times = 0 \n",
    "        if n<3:\n",
    "            return False\n",
    "        while peak_id< n and arr[peak_id]<arr[peak_id+1]:\n",
    "            peak_id +=1\n",
    "            if peak_id+1>=n:\n",
    "                break \n",
    "\n",
    "        if peak_id ==0 and peak_id==n-1:\n",
    "            return False\n",
    "\n",
    "        for i in range(peak_id+1,n):\n",
    "            if arr[i]>=arr[i-1]:\n",
    "                down_times+=1\n",
    "\n",
    "        if down_times>=1 or peak_id==0 or peak_id==n-1:\n",
    "            return False\n",
    "        else: \n",
    "            return True"
   ]
  }
 ],
 "metadata": {
  "kernelspec": {
   "display_name": "Python 3",
   "language": "python",
   "name": "python3"
  },
  "language_info": {
   "codemirror_mode": {
    "name": "ipython",
    "version": 3
   },
   "file_extension": ".py",
   "mimetype": "text/x-python",
   "name": "python",
   "nbconvert_exporter": "python",
   "pygments_lexer": "ipython3",
   "version": "3.7.4"
  }
 },
 "nbformat": 4,
 "nbformat_minor": 2
}
