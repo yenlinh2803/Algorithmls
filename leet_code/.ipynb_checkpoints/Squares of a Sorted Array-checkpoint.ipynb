{
 "cells": [
  {
   "cell_type": "code",
   "execution_count": null,
   "metadata": {},
   "outputs": [],
   "source": [
    "# Given an integer array nums sorted in non-decreasing order, return an array of the squares of each number sorted in non-decreasing order.\n",
    "# Example 1:\n",
    "\n",
    "# Input: nums = [-4,-1,0,3,10]\n",
    "# Output: [0,1,9,16,100]\n",
    "# Explanation: After squaring, the array becomes [16,1,0,9,100].\n",
    "# After sorting, it becomes [0,1,9,16,100].\n",
    "# Example 2:\n",
    "\n",
    "# Input: nums = [-7,-3,2,3,11]\n",
    "# Output: [4,9,9,49,121]\n"
   ]
  },
  {
   "cell_type": "code",
   "execution_count": 9,
   "metadata": {},
   "outputs": [
    {
     "data": {
      "text/plain": [
       "[4, 9, 9, 49, 121]"
      ]
     },
     "execution_count": 9,
     "metadata": {},
     "output_type": "execute_result"
    }
   ],
   "source": [
    "nums = [-7,-3,2,3,11]\n",
    "right_ind= len(nums)-1\n",
    "left_ind = 0\n",
    "curr_ind= len(nums)-1\n",
    "new_arr = [0 for i in nums]\n",
    "while curr_ind>= 0:\n",
    "    if abs(nums[left_ind])>= abs(nums[right_ind]):\n",
    "        new_arr[curr_ind] = (nums[left_ind])**2\n",
    "        left_ind+=1\n",
    "    else:\n",
    "        new_arr[curr_ind] = (nums[right_ind])**2\n",
    "        right_ind-=1\n",
    "    curr_ind-=1\n",
    "        \n",
    "\n",
    "new_arr\n",
    "    "
   ]
  },
  {
   "cell_type": "code",
   "execution_count": null,
   "metadata": {},
   "outputs": [],
   "source": []
  }
 ],
 "metadata": {
  "kernelspec": {
   "display_name": "Python 3",
   "language": "python",
   "name": "python3"
  },
  "language_info": {
   "codemirror_mode": {
    "name": "ipython",
    "version": 3
   },
   "file_extension": ".py",
   "mimetype": "text/x-python",
   "name": "python",
   "nbconvert_exporter": "python",
   "pygments_lexer": "ipython3",
   "version": "3.7.4"
  }
 },
 "nbformat": 4,
 "nbformat_minor": 2
}
