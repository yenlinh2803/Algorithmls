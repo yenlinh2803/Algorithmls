{
 "cells": [
  {
   "cell_type": "code",
   "execution_count": null,
   "metadata": {},
   "outputs": [],
   "source": [
    "# convert binary number to integer\n",
    "# There are 2 ways:\n",
    "# Solution 1\n",
    "    # (101) in binary\n",
    "    # 1×2^2+0×2^1+1×2^0=5\n",
    "# Solution 2\n",
    "    # binary: 101 \n",
    "    # num = (num << 1) | x\n",
    "    # num = 1\n",
    "    # num = (num<<1)| = (1<<1) = 2\n",
    "    # num = (num<<1) = (2<<1) = 5\n",
    "\n",
    "def getDecimalValue(arr):\n",
    "    # convert to number\n",
    "    num = 0\n",
    "    currentPower = 0\n",
    "    for i in range (len(arr) - 1, -1, -1):\n",
    "        num += arr[i] << currentPower\n",
    "        currentPower += 1\n",
    "    return num\n",
    "\n",
    "# a= 3 \n",
    "# b = 5\n",
    "# c = 3|5 = 7 \n",
    "# print(a,b,c)\n",
    "# print(f\"bin(a) = {bin(a)} & bin(b) = {bin(b)} & bin(c) = {bin(c)}\")\n",
    "# bin(a) = 0b11 & bin(b) = 0b101 & bin(c) = 0b111"
   ]
  },
  {
   "cell_type": "code",
   "execution_count": 14,
   "metadata": {},
   "outputs": [
    {
     "name": "stdout",
     "output_type": "stream",
     "text": [
      "3 5 7\n",
      "bin(a) = 0b11 & bin(b) = 0b101 & bin(c) = 0b111\n"
     ]
    }
   ],
   "source": [
    "a= 3 \n",
    "b = 5\n",
    "c = 3|5\n",
    "print(a,b,c)\n",
    "print(f\"bin(a) = {bin(a)} & bin(b) = {bin(b)} & bin(c) = {bin(c)}\")"
   ]
  },
  {
   "cell_type": "code",
   "execution_count": null,
   "metadata": {},
   "outputs": [],
   "source": []
  }
 ],
 "metadata": {
  "kernelspec": {
   "display_name": "Python 3",
   "language": "python",
   "name": "python3"
  },
  "language_info": {
   "codemirror_mode": {
    "name": "ipython",
    "version": 3
   },
   "file_extension": ".py",
   "mimetype": "text/x-python",
   "name": "python",
   "nbconvert_exporter": "python",
   "pygments_lexer": "ipython3",
   "version": "3.8.5"
  }
 },
 "nbformat": 4,
 "nbformat_minor": 4
}
