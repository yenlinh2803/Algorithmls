{
 "cells": [
  {
   "cell_type": "code",
   "execution_count": null,
   "metadata": {},
   "outputs": [],
   "source": [
    "# Given an array of integers A sorted in non-decreasing order, return an array of the squares of each number, also in sorted non-decreasing order.\n",
    "# Input: [-4,-1,0,3,10]\n",
    "# Output: [0,1,9,16,100]\n",
    "\n",
    "# Input: [-7,-3,2,3,11]\n",
    "# Output: [4,9,9,49,121]"
   ]
  },
  {
   "cell_type": "code",
   "execution_count": 11,
   "metadata": {},
   "outputs": [
    {
     "name": "stdout",
     "output_type": "stream",
     "text": [
      "Before sort \n",
      "-6 -3 -1 2 4 5 "
     ]
    }
   ],
   "source": [
    "arr = [-6, -3, -1, 2, 4, 5 ] \n",
    "arr_abs = [6, 3, 1, 2, 4, 5 ] \n",
    "n = len(arr) \n",
    " \n",
    "print(\"Before sort \") \n",
    "for i in range(n): \n",
    "    print(arr[i], end =\" \" ) "
   ]
  },
  {
   "cell_type": "code",
   "execution_count": 12,
   "metadata": {},
   "outputs": [
    {
     "name": "stdout",
     "output_type": "stream",
     "text": [
      "result_arr:  [1, 4, 9, 16, 25, 36]\n"
     ]
    }
   ],
   "source": [
    "def sort_array(arr):\n",
    "    arr_len = len(arr)\n",
    "    left = 0\n",
    "    right = arr_len-1\n",
    "    curr_ind = arr_len-1\n",
    "    result_arr = [0 for i in arr]\n",
    "    while curr_ind>=0:\n",
    "        if abs(arr[left])>=abs(arr[right]):\n",
    "            result_arr[curr_ind]= arr[left] * arr[left]\n",
    "            left+=1\n",
    "        else:\n",
    "            result_arr[curr_ind]= arr[right] * arr[right]\n",
    "            right -=1\n",
    "        curr_ind -=1\n",
    "    return result_arr\n",
    "\n",
    "result_arr = sort_array(arr)\n",
    "print(\"result_arr: \",result_arr)\n",
    "            \n",
    "        "
   ]
  },
  {
   "cell_type": "code",
   "execution_count": 5,
   "metadata": {},
   "outputs": [],
   "source": []
  },
  {
   "cell_type": "code",
   "execution_count": null,
   "metadata": {},
   "outputs": [],
   "source": [
    "# def sortSquares(arr, n):\n",
    "#     left, right = 0, n - 1\n",
    "#     index = n - 1\n",
    "#     result = [0 for x in arr]\n",
    "#     while index >= 0:\n",
    "#         print(\"index= {} & left = {} & right= {}\".format(index,left,right))\n",
    "#         if abs(arr[left]) >= abs(arr[right]):\n",
    "#             print(\"abs(arr[left]): \",abs(arr[left]))\n",
    "#             print(\"abs(arr[right]): \",abs(arr[right]))\n",
    "#             result[index] = arr[left] * arr[left]\n",
    "#             left += 1\n",
    "#         else:\n",
    "#             print(\"abs(arr[left]): \",abs(arr[left]))\n",
    "#             print(\"abs(arr[right]): \",abs(arr[right]))\n",
    "#             result[index] = arr[right] * arr[right]\n",
    "#             right -= 1\n",
    "#         index -= 1\n",
    "#         print(\"result: \",result)\n",
    "#     for i in range(n): \n",
    "#         arr[i] = result[i]"
   ]
  }
 ],
 "metadata": {
  "kernelspec": {
   "display_name": "Python 3",
   "language": "python",
   "name": "python3"
  },
  "language_info": {
   "codemirror_mode": {
    "name": "ipython",
    "version": 3
   },
   "file_extension": ".py",
   "mimetype": "text/x-python",
   "name": "python",
   "nbconvert_exporter": "python",
   "pygments_lexer": "ipython3",
   "version": "3.7.4"
  }
 },
 "nbformat": 4,
 "nbformat_minor": 2
}
