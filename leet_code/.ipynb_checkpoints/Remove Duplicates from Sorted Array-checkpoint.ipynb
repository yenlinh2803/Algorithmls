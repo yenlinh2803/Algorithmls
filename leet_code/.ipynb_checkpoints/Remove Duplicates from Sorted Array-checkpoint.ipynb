{
 "cells": [
  {
   "cell_type": "code",
   "execution_count": null,
   "metadata": {},
   "outputs": [],
   "source": [
    "# Input: nums = [1,1,2]\n",
    "# Output: 2, nums = [1,2]\n",
    "# Explanation: Your function should return length = 2, with the first two elements of nums being 1 and 2 respectively. It doesn't matter what you leave beyond the returned length.\n"
   ]
  },
  {
   "cell_type": "code",
   "execution_count": null,
   "metadata": {},
   "outputs": [],
   "source": [
    "# Input: nums = [0,0,1,1,1,2,2,3,3,4]\n",
    "# Output: 5, nums = [0,1,2,3,4]\n",
    "# Explanation: Your function should return length = 5, with the first five elements of nums being modified to 0, 1, 2, 3, and 4 respectively. It doesn't matter what values are set beyond the returned length.\n",
    "\n"
   ]
  },
  {
   "cell_type": "code",
   "execution_count": 4,
   "metadata": {},
   "outputs": [],
   "source": [
    "nums = [0,0,1,1,1,2,2,3,3,4]\n",
    "new_arr=[]\n",
    "ind = 1\n",
    "nb =0\n",
    "for i in range(1,len(nums)):\n",
    "    if nums[i]!= nums[i-1]:\n",
    "        nums[ind]=nums[i]\n",
    "        ind +=1\n",
    "\n",
    "new_arr = [i for i in range(0,ind)]"
   ]
  },
  {
   "cell_type": "code",
   "execution_count": 7,
   "metadata": {},
   "outputs": [],
   "source": [
    "def removeDuplicates(nums):\n",
    "    ind = 1\n",
    "    nb =0\n",
    "    if (nums.length == 0):\n",
    "        ind =0 \n",
    "    for i in range(1,len(nums)):\n",
    "        if nums[i]!= nums[i-1]:\n",
    "            nums[ind]=nums[i]\n",
    "            ind +=1\n",
    "    new_arr = [i for i in range(0,ind)]\n",
    "    return ind"
   ]
  },
  {
   "cell_type": "code",
   "execution_count": null,
   "metadata": {},
   "outputs": [],
   "source": []
  }
 ],
 "metadata": {
  "kernelspec": {
   "display_name": "Python 3",
   "language": "python",
   "name": "python3"
  },
  "language_info": {
   "codemirror_mode": {
    "name": "ipython",
    "version": 3
   },
   "file_extension": ".py",
   "mimetype": "text/x-python",
   "name": "python",
   "nbconvert_exporter": "python",
   "pygments_lexer": "ipython3",
   "version": "3.7.4"
  }
 },
 "nbformat": 4,
 "nbformat_minor": 2
}
