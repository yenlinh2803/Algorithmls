{
 "cells": [
  {
   "cell_type": "code",
   "execution_count": 1,
   "metadata": {},
   "outputs": [],
   "source": [
    "# Example 1:\n",
    "# Input: nums = [12,345,2,6,7896]\n",
    "# Output: 2\n",
    "# Explanation: \n",
    "# 12 contains 2 digits (even number of digits). \n",
    "# 345 contains 3 digits (odd number of digits). \n",
    "# 2 contains 1 digit (odd number of digits). \n",
    "# 6 contains 1 digit (odd number of digits). \n",
    "# 7896 contains 4 digits (even number of digits). \n",
    "# Therefore only 12 and 7896 contain an even number of digits."
   ]
  },
  {
   "cell_type": "code",
   "execution_count": 2,
   "metadata": {},
   "outputs": [],
   "source": [
    "# Input: nums = [555,901,482,1771]\n",
    "# Output: 1 \n",
    "# Explanation: \n",
    "# Only 1771 contains an even number of digits."
   ]
  },
  {
   "cell_type": "code",
   "execution_count": null,
   "metadata": {},
   "outputs": [],
   "source": [
    "# def findNumbers(nums):\n",
    "#     c=0\n",
    "#     for i in nums: #iterating through list\n",
    "#         D=i\n",
    "#         digitcount=0\n",
    "#         while(D>0):\n",
    "#             n=n//10\n",
    "#             digitcount+=1 \n",
    "#         if(digitcount%2==0):\n",
    "#             c=c+1\n",
    "#     return c"
   ]
  },
  {
   "cell_type": "code",
   "execution_count": 3,
   "metadata": {},
   "outputs": [],
   "source": [
    "# Constraints:\n",
    "# 1 <= nums.length <= 500\n",
    "# 1 <= nums[i] <= 10^5"
   ]
  },
  {
   "cell_type": "code",
   "execution_count": 51,
   "metadata": {},
   "outputs": [],
   "source": [
    "# nums = [12,345,2,6,7896,4,34,342344,34557]\n",
    "nums = [437,315,322,431,686,264,442]"
   ]
  },
  {
   "cell_type": "code",
   "execution_count": 58,
   "metadata": {},
   "outputs": [
    {
     "name": "stdout",
     "output_type": "stream",
     "text": [
      "i: 437\n",
      "nb_char: 3\n",
      "i: 315\n",
      "nb_char: 3\n",
      "i: 322\n",
      "nb_char: 3\n",
      "i: 431\n",
      "nb_char: 3\n",
      "i: 686\n",
      "nb_char: 3\n",
      "i: 264\n",
      "nb_char: 3\n",
      "i: 442\n",
      "nb_char: 3\n",
      "nb_even:  0\n"
     ]
    }
   ],
   "source": [
    "def find_even_nb_digits(nums):\n",
    "    nb_even = 0\n",
    "    for i in nums:\n",
    "        print(\"i:\",i)\n",
    "        nb_char = 0 \n",
    "        while i>0:\n",
    "            i=i//10\n",
    "            nb_char+=1\n",
    "        print(\"nb_char:\",nb_char)\n",
    "        if nb_char%2==0:\n",
    "            nb_even+=1\n",
    "            print(\"yes\")\n",
    "    print(\"nb_even: \",nb_even)\n",
    "    return nb_even\n",
    "nb_even = find_even_nb_digits(nums)"
   ]
  },
  {
   "cell_type": "code",
   "execution_count": null,
   "metadata": {},
   "outputs": [],
   "source": []
  }
 ],
 "metadata": {
  "kernelspec": {
   "display_name": "Python 3",
   "language": "python",
   "name": "python3"
  },
  "language_info": {
   "codemirror_mode": {
    "name": "ipython",
    "version": 3
   },
   "file_extension": ".py",
   "mimetype": "text/x-python",
   "name": "python",
   "nbconvert_exporter": "python",
   "pygments_lexer": "ipython3",
   "version": "3.7.4"
  }
 },
 "nbformat": 4,
 "nbformat_minor": 2
}
