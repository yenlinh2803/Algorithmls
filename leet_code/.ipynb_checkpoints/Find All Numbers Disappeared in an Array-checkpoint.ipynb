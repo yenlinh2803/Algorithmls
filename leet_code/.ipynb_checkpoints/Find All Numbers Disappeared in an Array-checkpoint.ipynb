{
 "cells": [
  {
   "cell_type": "code",
   "execution_count": 1,
   "metadata": {},
   "outputs": [],
   "source": [
    "# Given an array of integers where 1 ≤ a[i] ≤ n (n = size of array), some elements appear twice and others appear once.\n",
    "\n",
    "# Find all the elements of [1, n] inclusive that do not appear in this array.\n",
    "\n",
    "# Could you do it without extra space and in O(n) runtime? You may assume the returned list does not count as extra space.\n",
    "\n",
    "# Example:\n",
    "\n",
    "# Input:\n",
    "# [4,3,2,7,8,2,3,1]\n",
    "\n",
    "# Output:\n",
    "# [5,6]\n",
    "\n",
    "# Hide Hint #1  \n",
    "# This is a really easy problem if you decide to use additional memory. \n",
    "# For those trying to write an initial solution using additional memory, think counters!\n",
    "\n",
    "# Hide Hint #2  \n",
    "# However, the trick really is to not use any additional space than what is already available to use. \n",
    "# Sometimes, multiple passes over the input array help find the solution. \n",
    "# However, theres an interesting piece of information in this problem that makes it easy to re-use the input array itself for the solution.\n",
    "\n",
    "# Hide Hint #3\n",
    "# The problem specifies that the numbers in the array will be in the range [1, n] where n is the number of elements in the array. Can we use this information and modify the array in-place somehow to find what we need?\n",
    "\n",
    "# [4,3,2,7,8,2,3,1]\n",
    "\n",
    "# [1,1]\n"
   ]
  },
  {
   "cell_type": "code",
   "execution_count": 34,
   "metadata": {},
   "outputs": [
    {
     "name": "stdout",
     "output_type": "stream",
     "text": [
      "[1, 2, 3, 4, 7, 8]\n",
      "check_nb= 1 & & arr_ind=0\n",
      "nums[arr_ind]= 1 & arr_ind=0: \n",
      "check_nb= 2 & & arr_ind=1\n",
      "nums[arr_ind]= 2 & arr_ind=1: \n",
      "check_nb= 3 & & arr_ind=2\n",
      "nums[arr_ind]= 3 & arr_ind=2: \n",
      "check_nb= 4 & & arr_ind=3\n",
      "nums[arr_ind]= 4 & arr_ind=3: \n",
      "check_nb= 5 & & arr_ind=4\n",
      "nums[arr_ind]= 7 & arr_ind=4: \n",
      "check_nb= 6 & & arr_ind=4\n",
      "nums[arr_ind]= 7 & arr_ind=4: \n",
      "check_nb= 7 & & arr_ind=4\n",
      "nums[arr_ind]= 7 & arr_ind=4: \n",
      "check_nb= 8 & & arr_ind=5\n",
      "nums[arr_ind]= 8 & arr_ind=5: \n"
     ]
    }
   ],
   "source": [
    "nums = [4,3,2,7,8,2,3,1]\n",
    "len_nums = len(nums)\n",
    "# min_a = min(nums)\n",
    "# max_a = max(nums)\n",
    "nums = sorted(nums)\n",
    "nums = list(dict.fromkeys(nums))\n",
    "print(nums)\n",
    "miss_arr = []\n",
    "check_nb = 1\n",
    "arr_ind = 0 \n",
    "while check_nb<= len_nums:\n",
    "    print(\"check_nb= {} & & arr_ind={}\".format(check_nb,arr_ind))\n",
    "    try:\n",
    "        print(\"nums[arr_ind]= {} & arr_ind={}: \".format(nums[arr_ind],arr_ind))\n",
    "        if check_nb!=nums[arr_ind]:\n",
    "            miss_arr.append(check_nb)\n",
    "        else:\n",
    "            arr_ind+=1\n",
    "    except:\n",
    "        miss_arr.append(check_nb)\n",
    "    check_nb+=1\n",
    "    \n",
    "miss_arr"
   ]
  },
  {
   "cell_type": "code",
   "execution_count": 35,
   "metadata": {},
   "outputs": [
    {
     "data": {
      "text/plain": [
       "[5, 6]"
      ]
     },
     "execution_count": 35,
     "metadata": {},
     "output_type": "execute_result"
    }
   ],
   "source": [
    "class Solution:\n",
    "    def findDisappearedNumbers(self, nums: List[int]) -> List[int]:\n",
    "        if len(nums)==0:\n",
    "            return []\n",
    "        len_nums = len(nums)\n",
    "        # min_a = min(nums)\n",
    "        # max_a = max(nums)\n",
    "        nums = sorted(nums)\n",
    "        nums = list(dict.fromkeys(nums))\n",
    "        print(nums)\n",
    "        miss_arr = []\n",
    "        check_nb = 1\n",
    "        arr_ind = 0 \n",
    "        while check_nb<= len_nums:\n",
    "            print(\"check_nb= {} & & arr_ind={}\".format(check_nb,arr_ind))\n",
    "            try:\n",
    "                print(\"nums[arr_ind]= {} & arr_ind={}: \".format(nums[arr_ind],arr_ind))\n",
    "                if check_nb!=nums[arr_ind]:\n",
    "                    miss_arr.append(check_nb)\n",
    "                else:\n",
    "                    arr_ind+=1\n",
    "            except:\n",
    "                miss_arr.append(check_nb)\n",
    "            check_nb+=1\n",
    "        return miss_arr"
   ]
  },
  {
   "cell_type": "code",
   "execution_count": null,
   "metadata": {},
   "outputs": [],
   "source": []
  }
 ],
 "metadata": {
  "kernelspec": {
   "display_name": "Python 3",
   "language": "python",
   "name": "python3"
  },
  "language_info": {
   "codemirror_mode": {
    "name": "ipython",
    "version": 3
   },
   "file_extension": ".py",
   "mimetype": "text/x-python",
   "name": "python",
   "nbconvert_exporter": "python",
   "pygments_lexer": "ipython3",
   "version": "3.8.5"
  }
 },
 "nbformat": 4,
 "nbformat_minor": 4
}
