{
 "cells": [
  {
   "cell_type": "code",
   "execution_count": 22,
   "metadata": {},
   "outputs": [],
   "source": [
    "# Given an array nums, write a function to move all 0's to the end of it while maintaining the relative order of the non-zero elements.\n",
    "\n",
    "# Example:\n",
    "\n",
    "# Input: [0,1,0,3,12]\n",
    "# Output: [1,3,12,0,0]\n",
    "# Note:\n",
    "\n",
    "# You must do this in-place without making a copy of the array.\n",
    "# Minimize the total number of operations.\n",
    "\n",
    "# Ex: [1]\n",
    "# output: [1]\n",
    "\n",
    "\n",
    "# Ex: [0,1]\n",
    "# output: [1,0]"
   ]
  },
  {
   "cell_type": "code",
   "execution_count": 28,
   "metadata": {},
   "outputs": [
    {
     "name": "stdout",
     "output_type": "stream",
     "text": [
      "0\n",
      "1\n"
     ]
    },
    {
     "data": {
      "text/plain": [
       "[1, 0]"
      ]
     },
     "execution_count": 28,
     "metadata": {},
     "output_type": "execute_result"
    }
   ],
   "source": [
    "nums = [0,1]\n",
    "def moveZeroes(nums):\n",
    "    new_ind = 0\n",
    "    nb_zero = 0\n",
    "    if len(nums)<=1:\n",
    "        return nums\n",
    "    else:\n",
    "        for i in range(0,len(nums)):\n",
    "            print(nums[i])\n",
    "            if nums[i]!=0:\n",
    "                nums[new_ind]=nums[i]\n",
    "                new_ind+=1\n",
    "            else:\n",
    "                nb_zero+=1\n",
    "        for i in range(0,nb_zero):\n",
    "            nums[len(nums)-i-1]=0\n",
    "    return nums\n",
    "\n",
    "nums = moveZeroes(nums)\n",
    "nums"
   ]
  },
  {
   "cell_type": "code",
   "execution_count": 26,
   "metadata": {},
   "outputs": [
    {
     "data": {
      "text/plain": [
       "[1, 0]"
      ]
     },
     "execution_count": 26,
     "metadata": {},
     "output_type": "execute_result"
    }
   ],
   "source": [
    "    def moveZeroes(self, nums: List[int]) -> None:\n",
    "        \"\"\"\n",
    "        Do not return anything, modify nums in-place instead.\n",
    "        \"\"\"\n",
    "        new_ind = 0\n",
    "        nb_zero = 0\n",
    "        if len(nums)<=1:\n",
    "            return nums\n",
    "        else:\n",
    "            for i in range(0,len(nums)):\n",
    "                print(nums[i])\n",
    "                if nums[i]!=0:\n",
    "                    nums[new_ind]=nums[i]\n",
    "                    new_ind+=1\n",
    "                else:\n",
    "                    nb_zero+=1\n",
    "            for i in range(0,nb_zero):\n",
    "                nums[len(nums)-i-1]=0\n",
    "        return nums"
   ]
  },
  {
   "cell_type": "code",
   "execution_count": null,
   "metadata": {},
   "outputs": [],
   "source": []
  }
 ],
 "metadata": {
  "kernelspec": {
   "display_name": "Python 3",
   "language": "python",
   "name": "python3"
  },
  "language_info": {
   "codemirror_mode": {
    "name": "ipython",
    "version": 3
   },
   "file_extension": ".py",
   "mimetype": "text/x-python",
   "name": "python",
   "nbconvert_exporter": "python",
   "pygments_lexer": "ipython3",
   "version": "3.7.4"
  }
 },
 "nbformat": 4,
 "nbformat_minor": 2
}
