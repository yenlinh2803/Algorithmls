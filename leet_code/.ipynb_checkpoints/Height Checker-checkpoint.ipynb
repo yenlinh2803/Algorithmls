{
 "cells": [
  {
   "cell_type": "code",
   "execution_count": null,
   "metadata": {},
   "outputs": [],
   "source": [
    "# Students are asked to stand in non-decreasing order of heights for an annual photo.\n",
    "\n",
    "# Return the minimum number of students that must move in order for all students to be standing in non-decreasing order of height.\n",
    "\n",
    "# Notice that when a group of students is selected they can reorder in any possible way between themselves and the non selected students remain on their seats.\n",
    "# Example 1:\n",
    "\n",
    "# Input: heights = [1,1,4,2,1,3]\n",
    "# Output: 3\n",
    "# Explanation: \n",
    "# Current array : [1,1,4,2,1,3]\n",
    "# Target array  : [1,1,1,2,3,4]\n",
    "# On index 2 (0-based) we have 4 vs 1 so we have to move this student.\n",
    "# On index 4 (0-based) we have 1 vs 3 so we have to move this student.\n",
    "# On index 5 (0-based) we have 3 vs 4 so we have to move this student.\n",
    "\n",
    "# Example 2:\n",
    "# Input: heights = [5,1,2,3,4]\n",
    "# Output: 5\n",
    "    \n",
    "# Example 3:\n",
    "# Input: heights = [1,2,3,4,5]\n",
    "# Output: 0\n"
   ]
  },
  {
   "cell_type": "code",
   "execution_count": 2,
   "metadata": {},
   "outputs": [
    {
     "data": {
      "text/plain": [
       "5"
      ]
     },
     "execution_count": 2,
     "metadata": {},
     "output_type": "execute_result"
    }
   ],
   "source": [
    "heights = [5,1,2,3,4]\n",
    "new_arr = sorted(heights)\n",
    "count_nb = 0\n",
    "for i in range(0,len(heights)):\n",
    "    if heights[i]!=new_arr[i]:\n",
    "        count_nb+=1\n",
    "count_nb"
   ]
  },
  {
   "cell_type": "code",
   "execution_count": null,
   "metadata": {},
   "outputs": [],
   "source": []
  }
 ],
 "metadata": {
  "kernelspec": {
   "display_name": "Python 3",
   "language": "python",
   "name": "python3"
  },
  "language_info": {
   "codemirror_mode": {
    "name": "ipython",
    "version": 3
   },
   "file_extension": ".py",
   "mimetype": "text/x-python",
   "name": "python",
   "nbconvert_exporter": "python",
   "pygments_lexer": "ipython3",
   "version": "3.8.5"
  }
 },
 "nbformat": 4,
 "nbformat_minor": 2
}
