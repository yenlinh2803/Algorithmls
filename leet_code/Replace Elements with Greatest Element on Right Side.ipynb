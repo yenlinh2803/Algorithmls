{
 "cells": [
  {
   "cell_type": "code",
   "execution_count": 2,
   "metadata": {},
   "outputs": [],
   "source": [
    "# Example 1:\n",
    "\n",
    "# Input: arr = [17,18,5,4,6,1]\n",
    "# Output: [18,6,6,6,1,-1]\n",
    "\n"
   ]
  },
  {
   "cell_type": "code",
   "execution_count": 39,
   "metadata": {},
   "outputs": [],
   "source": [
    "arr = [17,18,5,4,6,1]\n",
    "idx = 0\n",
    "n = len(arr)"
   ]
  },
  {
   "cell_type": "code",
   "execution_count": 36,
   "metadata": {},
   "outputs": [],
   "source": [
    "for i in range(0,len(arr)):\n",
    "    new_arr = arr[i+1:n]\n",
    "    max_sub_arr = 0\n",
    "    for j in new_arr:\n",
    "        if j>=max_sub_arr:\n",
    "            max_sub_arr= j\n",
    "#     arr[i]=max_sub_arr\n",
    "    if len(new_arr)==0:\n",
    "        arr[i]=-1\n",
    "    else:\n",
    "        arr[i]=max_sub_arr\n",
    "arr"
   ]
  },
  {
   "cell_type": "code",
   "execution_count": 50,
   "metadata": {},
   "outputs": [
    {
     "name": "stdout",
     "output_type": "stream",
     "text": [
      "5\n",
      "maxRight: -1 & arr[i]: 1\n",
      "arr: [17, 18, 5, 4, 6, -1]\n",
      "4\n",
      "maxRight: 1 & arr[i]: 6\n",
      "arr: [17, 18, 5, 4, 1, -1]\n",
      "3\n",
      "maxRight: 6 & arr[i]: 4\n",
      "arr: [17, 18, 5, 6, 1, -1]\n",
      "2\n",
      "maxRight: 6 & arr[i]: 5\n",
      "arr: [17, 18, 6, 6, 1, -1]\n",
      "1\n",
      "maxRight: 6 & arr[i]: 18\n",
      "arr: [17, 6, 6, 6, 1, -1]\n",
      "0\n",
      "maxRight: 18 & arr[i]: 17\n",
      "arr: [18, 6, 6, 6, 1, -1]\n"
     ]
    },
    {
     "data": {
      "text/plain": [
       "[18, 6, 6, 6, 1, -1]"
      ]
     },
     "execution_count": 50,
     "metadata": {},
     "output_type": "execute_result"
    }
   ],
   "source": [
    "arr = [17,18,5,4,6,1]\n",
    "maxRight = -1\n",
    "for i in range(len(arr)-1, -1, -1):\n",
    "    print(i)\n",
    "    print(\"maxRight: {} & arr[i]: {}\".format(maxRight, arr[i]))\n",
    "    temp = max(maxRight, arr[i])\n",
    "    arr[i] = maxRight\n",
    "    maxRight = temp\n",
    "    print(\"arr:\", arr)\n",
    "arr"
   ]
  },
  {
   "cell_type": "code",
   "execution_count": 45,
   "metadata": {},
   "outputs": [
    {
     "data": {
      "text/plain": [
       "range(5, -1)"
      ]
     },
     "execution_count": 45,
     "metadata": {},
     "output_type": "execute_result"
    }
   ],
   "source": []
  },
  {
   "cell_type": "code",
   "execution_count": null,
   "metadata": {},
   "outputs": [],
   "source": []
  }
 ],
 "metadata": {
  "kernelspec": {
   "display_name": "Python 3",
   "language": "python",
   "name": "python3"
  },
  "language_info": {
   "codemirror_mode": {
    "name": "ipython",
    "version": 3
   },
   "file_extension": ".py",
   "mimetype": "text/x-python",
   "name": "python",
   "nbconvert_exporter": "python",
   "pygments_lexer": "ipython3",
   "version": "3.7.4"
  }
 },
 "nbformat": 4,
 "nbformat_minor": 2
}
