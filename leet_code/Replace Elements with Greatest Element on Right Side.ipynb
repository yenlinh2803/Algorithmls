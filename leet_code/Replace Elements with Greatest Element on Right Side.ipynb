{
 "cells": [
  {
   "cell_type": "code",
   "execution_count": null,
   "metadata": {},
   "outputs": [],
   "source": [
    "# Example 1:\n",
    "\n",
    "# Input: arr = [17,18,5,4,6,1]\n",
    "# Output: [18,6,6,6,1,-1]\n",
    "\n"
   ]
  },
  {
   "cell_type": "code",
   "execution_count": 17,
   "metadata": {},
   "outputs": [],
   "source": [
    "arr = [17,18,5,4,6,1]\n",
    "idx = 0\n",
    "n = len(arr)\n",
    "max_nb = arr[0]\n",
    "max_idx_rep = 0 \n",
    "new_max_idx = 0\n",
    "id_start = 0 \n",
    "for i in range(0,len(arr),-1):\n",
    "    print(\"arr[i]= {} & max_nb = {}\".format(arr[i],max_nb))"
   ]
  },
  {
   "cell_type": "code",
   "execution_count": 18,
   "metadata": {},
   "outputs": [
    {
     "data": {
      "text/plain": [
       "[17, 18, 5]"
      ]
     },
     "execution_count": 18,
     "metadata": {},
     "output_type": "execute_result"
    }
   ],
   "source": [
    "arr[0:3]"
   ]
  },
  {
   "cell_type": "code",
   "execution_count": 15,
   "metadata": {},
   "outputs": [],
   "source": [
    "# arr = [17,18,5,4,6,1]\n",
    "# idx = 0\n",
    "# n = len(arr)\n",
    "# max_nb = arr[0]\n",
    "# max_idx_rep = 0 \n",
    "# new_max_idx = 0\n",
    "# id_start = 0 \n",
    "# while max_idx_rep<n-1:\n",
    "#     for i in range(id_start,len(arr)):\n",
    "#         print(\"arr[i]= {} & max_nb = {}\".format(arr[i],max_nb))\n",
    "#         print(\"max_idx_rep: \",max_idx_rep)\n",
    "#         if arr[i]> max_nb:\n",
    "#             max_nb = arr[i]\n",
    "#             new_max_idx = i \n",
    "#         arr[max_idx_rep] = max_nb\n",
    "#         id_start = new_max_idx\n",
    "#     max_idx_rep +=1\n",
    "#     id_start = new_max_idx\n",
    "    \n",
    "# arr"
   ]
  },
  {
   "cell_type": "code",
   "execution_count": null,
   "metadata": {},
   "outputs": [],
   "source": []
  }
 ],
 "metadata": {
  "kernelspec": {
   "display_name": "Python 3",
   "language": "python",
   "name": "python3"
  },
  "language_info": {
   "codemirror_mode": {
    "name": "ipython",
    "version": 3
   },
   "file_extension": ".py",
   "mimetype": "text/x-python",
   "name": "python",
   "nbconvert_exporter": "python",
   "pygments_lexer": "ipython3",
   "version": "3.7.4"
  }
 },
 "nbformat": 4,
 "nbformat_minor": 2
}
