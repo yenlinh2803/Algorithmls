{
 "cells": [
  {
   "cell_type": "code",
   "execution_count": 1,
   "metadata": {},
   "outputs": [],
   "source": [
    "# Design your implementation of the linked list. You can choose to use a singly or doubly linked list.\n",
    "# A node in a singly linked list should have two attributes: val and next. val is the value of the current node, and next is a pointer/reference to the next node.\n",
    "# If you want to use the doubly linked list, you will need one more attribute prev to indicate the previous node in the linked list. Assume all nodes in the linked list are 0-indexed.\n",
    "\n",
    "# Implement the MyLinkedList class:\n",
    "\n",
    "# MyLinkedList() Initializes the MyLinkedList object.\n",
    "# int get(int index) Get the value of the indexth node in the linked list. If the index is invalid, return -1.\n",
    "# void addAtHead(int val) Add a node of value val before the first element of the linked list. After the insertion, the new node will be the first node of the linked list.\n",
    "# void addAtTail(int val) Append a node of value val as the last element of the linked list.\n",
    "# void addAtIndex(int index, int val) Add a node of value val before the indexth node in the linked list. If index equals the length of the linked list, the node will be appended to the end of the linked list. If index is greater than the length, the node will not be inserted.\n",
    "# void deleteAtIndex(int index) Delete the indexth node in the linked list, if the index is valid.\n"
   ]
  },
  {
   "cell_type": "code",
   "execution_count": 2,
   "metadata": {},
   "outputs": [],
   "source": [
    "# Input\n",
    "# [\"MyLinkedList\", \"addAtHead\", \"addAtTail\", \"addAtIndex\", \"get\", \"deleteAtIndex\", \"get\"]\n",
    "# [[], [1], [3], [1, 2], [1], [1], [1]]\n",
    "# Output\n",
    "# [null, null, null, null, 2, null, 3]\n",
    "\n",
    "# Explanation\n",
    "# MyLinkedList myLinkedList = new MyLinkedList();\n",
    "# myLinkedList.addAtHead(1);\n",
    "# myLinkedList.addAtTail(3);\n",
    "# myLinkedList.addAtIndex(1, 2);    // linked list becomes 1->2->3\n",
    "# myLinkedList.get(1);              // return 2\n",
    "# myLinkedList.deleteAtIndex(1);    // now the linked list is 1->3\n",
    "# myLinkedList.get(1);              // return 3"
   ]
  },
  {
   "cell_type": "code",
   "execution_count": null,
   "metadata": {},
   "outputs": [],
   "source": [
    "# Constraints:\n",
    "\n",
    "# 0 <= index, val <= 1000\n",
    "# Please do not use the built-in LinkedList library.\n",
    "# At most 2000 calls will be made to get, addAtHead, addAtTail,  addAtIndex and deleteAtIndex.\n"
   ]
  }
 ],
 "metadata": {
  "kernelspec": {
   "display_name": "Python 3",
   "language": "python",
   "name": "python3"
  },
  "language_info": {
   "codemirror_mode": {
    "name": "ipython",
    "version": 3
   },
   "file_extension": ".py",
   "mimetype": "text/x-python",
   "name": "python",
   "nbconvert_exporter": "python",
   "pygments_lexer": "ipython3",
   "version": "3.8.5"
  }
 },
 "nbformat": 4,
 "nbformat_minor": 4
}
