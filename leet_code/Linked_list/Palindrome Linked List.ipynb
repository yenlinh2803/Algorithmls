{
 "cells": [
  {
   "cell_type": "code",
   "execution_count": null,
   "metadata": {},
   "outputs": [],
   "source": [
    "\n",
    "# Input: head = [1,2,2,1]\n",
    "# Output: true\n",
    "\n",
    "    \n",
    "# Input: head = [1,2]\n",
    "# Output: false"
   ]
  },
  {
   "cell_type": "code",
   "execution_count": null,
   "metadata": {},
   "outputs": [],
   "source": [
    "a=[1,2,2,1]\n",
    "n  = len(a)=4 \n",
    "k = 4/2 =2\n",
    "i = len - 2 =2 \n",
    "--> n-k =2; k-1 = 1 \n",
    "a[2]=a[1] -> a[n-k]=a[k-1]\n",
    "k= k-1=1 --> n-k=3; k-1=0\n",
    "a[3]=a[0]-> a[n-k]= n[k-1]\n",
    "\n",
    "\n",
    "\n",
    "a= [1,2,3,2,1]\n",
    "n = len(a) = 5\n",
    "mid= roundup(5/2) = 2\n",
    "k = mid-1= 1\n",
    "--> n-k-1 = 3; k=1\n",
    "a[3] = a[1] -> a[n-k-1]=a[k]\n",
    "k=k-1 =0 \n",
    "--> n-k-1=4; k=0\n",
    "a[4] = a[0] -> a[n-k-1] = a[n-k]"
   ]
  },
  {
   "cell_type": "code",
   "execution_count": null,
   "metadata": {},
   "outputs": [],
   "source": [
    "# Definition for singly-linked list.\n",
    "# class ListNode:\n",
    "#     def __init__(self, val=0, next=None):\n",
    "#         self.val = val\n",
    "#         self.next = next\n",
    "class Solution:\n",
    "    def isPalindrome(self, head: ListNode) -> bool:\n",
    "        if head==None:\n",
    "            return None \n",
    "        arr_list =[]\n",
    "        new_head = head\n",
    "        while new_head!= None:\n",
    "            arr_list.append(new_head.val)\n",
    "            new_head= new_head.next\n",
    "        \n",
    "        n = len(arr_list)\n",
    "        mid = n//2\n",
    "\n",
    "        k= mid\n",
    "        while k>0:\n",
    "            print(\"k: \",k)\n",
    "            if arr_list[n-k]==arr_list[k-1]:\n",
    "                k-=1\n",
    "            else:\n",
    "                return False  \n",
    "\n",
    "        return True\n",
    "                \n",
    "            "
   ]
  },
  {
   "cell_type": "code",
   "execution_count": null,
   "metadata": {},
   "outputs": [],
   "source": [
    "# Leet code 1st solution:\n",
    "def isPalindrome(self, head: ListNode) -> bool:\n",
    "    vals = []\n",
    "    current_node = head\n",
    "    while current_node is not None:\n",
    "        vals.append(current_node.val)\n",
    "        current_node = current_node.next\n",
    "    return vals == vals[::-1]\n",
    "            \n",
    "\n",
    "            "
   ]
  },
  {
   "cell_type": "code",
   "execution_count": null,
   "metadata": {},
   "outputs": [],
   "source": [
    "# Leet code 2nd solution:\n",
    "def isPalindrome(self, head: ListNode) -> bool:\n",
    "\n",
    "    self.front_pointer = head\n",
    "\n",
    "    def recursively_check(current_node=head):\n",
    "        if current_node is not None:\n",
    "            if not recursively_check(current_node.next):\n",
    "                return False\n",
    "            if self.front_pointer.val != current_node.val:\n",
    "                return False\n",
    "            self.front_pointer = self.front_pointer.next\n",
    "        return True\n",
    "\n",
    "    return recursively_check()"
   ]
  }
 ],
 "metadata": {
  "kernelspec": {
   "display_name": "Python 3",
   "language": "python",
   "name": "python3"
  },
  "language_info": {
   "codemirror_mode": {
    "name": "ipython",
    "version": 3
   },
   "file_extension": ".py",
   "mimetype": "text/x-python",
   "name": "python",
   "nbconvert_exporter": "python",
   "pygments_lexer": "ipython3",
   "version": "3.8.5"
  }
 },
 "nbformat": 4,
 "nbformat_minor": 4
}
