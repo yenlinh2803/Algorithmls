{
 "cells": [
  {
   "cell_type": "code",
   "execution_count": null,
   "metadata": {},
   "outputs": [],
   "source": [
    "# Input\n",
    "# [1,2]\n",
    "# 1\n",
    "# Output\n",
    "# [1,2]\n",
    "# Expected\n",
    "# [1]\n",
    "\n",
    "\n",
    "# Input:\n",
    "# [1,2]\n",
    "# 2\n",
    "# Output:\n",
    "# [1,2]\n",
    "# Expected:\n",
    "# [2]"
   ]
  },
  {
   "cell_type": "code",
   "execution_count": null,
   "metadata": {},
   "outputs": [],
   "source": [
    "# Online solution, create for dummy first_node before the head ListNode(0)\n",
    "\n",
    "# Definition for singly-linked list.\n",
    "# class ListNode:\n",
    "#     def __init__(self, val=0, next=None):\n",
    "#         self.val = val\n",
    "#         self.next = next\n",
    "class Solution:\n",
    "    def removeNthFromEnd(self, head: ListNode, n: int) -> ListNode:\n",
    "        if head==None or head.next==None:\n",
    "            return None \n",
    "        \n",
    "        temp_head = head\n",
    "        len_list = 0\n",
    "        while temp_head!= None:\n",
    "            len_list += 1\n",
    "            temp_head = temp_head.next \n",
    "        \n",
    "        dummy = ListNode(0)\n",
    "        dummy.next = head \n",
    "        \n",
    "        len_2 = len_list-n\n",
    "        print(\"len_2 = \", len_2)\n",
    "        temp_head = dummy\n",
    "        print(\"dummy = \",temp_head)\n",
    "    \n",
    "        while len_2 > 0:\n",
    "            len_2 -=1\n",
    "            temp_head = temp_head.next\n",
    "            \n",
    "        temp_head.next = temp_head.next.next\n",
    "        \n",
    "        print(\"Finally\")\n",
    "        print(\"dummy.next = \", dummy.next )\n",
    "        print(\"head = \",head)\n",
    "        return head\n",
    "            \n",
    "            \n",
    "            \n",
    "            \n",
    "            \n",
    "        "
   ]
  }
 ],
 "metadata": {
  "kernelspec": {
   "display_name": "Python 3",
   "language": "python",
   "name": "python3"
  },
  "language_info": {
   "codemirror_mode": {
    "name": "ipython",
    "version": 3
   },
   "file_extension": ".py",
   "mimetype": "text/x-python",
   "name": "python",
   "nbconvert_exporter": "python",
   "pygments_lexer": "ipython3",
   "version": "3.8.5"
  }
 },
 "nbformat": 4,
 "nbformat_minor": 4
}
