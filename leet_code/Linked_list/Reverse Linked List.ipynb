{
 "cells": [
  {
   "cell_type": "code",
   "execution_count": 89,
   "metadata": {},
   "outputs": [],
   "source": [
    "# Example:\n",
    "\n",
    "# Input: 1->2->3->4->5->NULL\n",
    "# Output: 5->4->3->2->1->NULL\n",
    "    "
   ]
  },
  {
   "cell_type": "code",
   "execution_count": 104,
   "metadata": {},
   "outputs": [],
   "source": [
    "class ListNode:\n",
    "    def __init__(self, val=0, next=None):\n",
    "        self.val = val\n",
    "        self.next = next\n",
    "    \n",
    "    def printList(self): \n",
    "        temp = self\n",
    "        while(temp): \n",
    "            print (\" %d\" %(temp.val))\n",
    "            temp = temp.next\n",
    "            \n",
    "    def deleteNode(self, node):\n",
    "        if node.next is not None:\n",
    "            node.val = node.next.val\n",
    "            node.next = node.next.next\n",
    "    \n",
    "    def reverseList(self):\n",
    "        arr =[]\n",
    "        head = self\n",
    "        while head != None:\n",
    "            arr.append(head.val)\n",
    "            head= head.next\n",
    "        i = len(arr)\n",
    "        head = self\n",
    "        while head != None:\n",
    "            print(f\"i = {i} & arr[{i-1}] = {arr[i-1]}\")\n",
    "            head.val = arr[i-1]\n",
    "            head = head.next\n",
    "            i=i-1 \n",
    "            \n",
    "        return head \n",
    "        \n",
    "        "
   ]
  },
  {
   "cell_type": "code",
   "execution_count": 112,
   "metadata": {},
   "outputs": [
    {
     "name": "stdout",
     "output_type": "stream",
     "text": [
      " 1\n",
      " 2\n",
      " 3\n",
      " 4\n",
      " 5\n"
     ]
    }
   ],
   "source": [
    "tail = ListNode(val = 5)\n",
    "head_3 = ListNode(val = 4, next= tail)\n",
    "head_2 = ListNode(val = 3, next= head_3)\n",
    "head_1 = ListNode(val = 2, next= head_2)\n",
    "head_0 = ListNode(val = 1, next= head_1)\n",
    "head_0.printList()\n",
    "# head_0.reverseList()\n",
    "# print(\"-\"*100)\n",
    "# head_0.printList()"
   ]
  },
  {
   "cell_type": "code",
   "execution_count": 110,
   "metadata": {},
   "outputs": [],
   "source": [
    "#         self.next = next\n",
    "class Solution:\n",
    "    def reverseList(self, head: ListNode) -> ListNode:\n",
    "        previousNode = None\n",
    "        while head != None:\n",
    "            print(\"head.val = \", head.val)\n",
    "            print(\"head.next.val = \", head.next.val)\n",
    "            next_node = head.next \n",
    "            head.next = previousNode\n",
    "            previousNode = head\n",
    "            head = next_node\n",
    "        return previousNode\n",
    "    \n",
    "# 1->2->3->4->5->null\n",
    "# 3->2->1-> null\n"
   ]
  },
  {
   "cell_type": "code",
   "execution_count": 106,
   "metadata": {},
   "outputs": [],
   "source": [
    "# Anh Quan solution \n",
    "class Solution:\n",
    "    def reverseList(self, head: ListNode) -> ListNode:\n",
    "#       // arr =[a,b]\n",
    "#       // for i in range(len(arr), 0, -1):\n",
    "#       // arr[i].next = arr[i-1]\n",
    "        arr = []\n",
    "        head_temp = head\n",
    "        while head_temp!= None:\n",
    "            arr.append(head_temp)\n",
    "            head_temp = head_temp.next\n",
    "        for i in range(len(arr)-1, 0 , -1):\n",
    "            print(\"i= \", i)\n",
    "            print(f\"arr[{i-1}]= \", arr[i-1])\n",
    "            print(f\"arr[{i}].val = {arr[i].val}\")\n",
    "            print(f\"arr[{i}].next = {arr[i].next}\")\n",
    "            arr[i].next = arr[i-1]\n",
    "            print(f\"arr[{i}].next.val = {arr[i].next.val}\")\n",
    "        if len(arr) >0:\n",
    "            arr[0].next=None\n",
    "            return arr[len(arr)-1]\n",
    "        return None"
   ]
  },
  {
   "cell_type": "code",
   "execution_count": null,
   "metadata": {},
   "outputs": [],
   "source": [
    "# Linh code solution \n",
    "class Solution:\n",
    "    def reverseList(self, head: ListNode) -> ListNode:\n",
    "        arr =[]\n",
    "        head_temp = head\n",
    "        while head_temp != None:\n",
    "            arr.append(head_temp.val)\n",
    "            head_temp= head_temp.next\n",
    "        i = len(arr)\n",
    "        print(\"arr = \",arr)\n",
    "        head_temp = head\n",
    "        # 1->2->3->none\n",
    "        # [1,2,3]\n",
    "        # 3->2->1->none\n",
    "      \n",
    "        while head_temp != None:\n",
    "            print(f\"i = {i} & arr[{i-1}] = {arr[i-1]}\")\n",
    "            head_temp.val = arr[i-1]\n",
    "            head_temp = head_temp.next\n",
    "            i=i-1 \n",
    "        return head"
   ]
  },
  {
   "cell_type": "code",
   "execution_count": 111,
   "metadata": {},
   "outputs": [
    {
     "name": "stdout",
     "output_type": "stream",
     "text": [
      "head.val =  1\n",
      "head.next.val =  2\n",
      "head.val =  2\n",
      "head.next.val =  3\n",
      "head.val =  3\n",
      "head.next.val =  4\n",
      "head.val =  4\n",
      "head.next.val =  5\n",
      "head.val =  5\n"
     ]
    },
    {
     "ename": "AttributeError",
     "evalue": "'NoneType' object has no attribute 'val'",
     "output_type": "error",
     "traceback": [
      "\u001b[0;31m---------------------------------------------------------------------------\u001b[0m",
      "\u001b[0;31mAttributeError\u001b[0m                            Traceback (most recent call last)",
      "\u001b[0;32m<ipython-input-111-6c4cf8cfd605>\u001b[0m in \u001b[0;36m<module>\u001b[0;34m\u001b[0m\n\u001b[0;32m----> 1\u001b[0;31m \u001b[0mpreviousNode\u001b[0m \u001b[0;34m=\u001b[0m \u001b[0mSolution\u001b[0m\u001b[0;34m(\u001b[0m\u001b[0;34m)\u001b[0m\u001b[0;34m.\u001b[0m\u001b[0mreverseList\u001b[0m\u001b[0;34m(\u001b[0m\u001b[0mhead_0\u001b[0m\u001b[0;34m)\u001b[0m\u001b[0;34m\u001b[0m\u001b[0;34m\u001b[0m\u001b[0m\n\u001b[0m\u001b[1;32m      2\u001b[0m \u001b[0;31m# previousNode.printList()\u001b[0m\u001b[0;34m\u001b[0m\u001b[0;34m\u001b[0m\u001b[0;34m\u001b[0m\u001b[0m\n\u001b[1;32m      3\u001b[0m \u001b[0mprint\u001b[0m\u001b[0;34m(\u001b[0m\u001b[0mpreviousNode\u001b[0m\u001b[0;34m.\u001b[0m\u001b[0mval\u001b[0m\u001b[0;34m)\u001b[0m\u001b[0;34m\u001b[0m\u001b[0;34m\u001b[0m\u001b[0m\n\u001b[1;32m      4\u001b[0m \u001b[0mprint\u001b[0m\u001b[0;34m(\u001b[0m\u001b[0mpreviousNode\u001b[0m\u001b[0;34m.\u001b[0m\u001b[0mnext\u001b[0m\u001b[0;34m.\u001b[0m\u001b[0mval\u001b[0m\u001b[0;34m)\u001b[0m\u001b[0;34m\u001b[0m\u001b[0;34m\u001b[0m\u001b[0m\n\u001b[1;32m      5\u001b[0m \u001b[0mprint\u001b[0m\u001b[0;34m(\u001b[0m\u001b[0mpreviousNode\u001b[0m\u001b[0;34m.\u001b[0m\u001b[0mnext\u001b[0m\u001b[0;34m.\u001b[0m\u001b[0mnext\u001b[0m\u001b[0;34m.\u001b[0m\u001b[0mval\u001b[0m\u001b[0;34m)\u001b[0m\u001b[0;34m\u001b[0m\u001b[0;34m\u001b[0m\u001b[0m\n",
      "\u001b[0;32m<ipython-input-110-5aa45ac1513d>\u001b[0m in \u001b[0;36mreverseList\u001b[0;34m(self, head)\u001b[0m\n\u001b[1;32m      5\u001b[0m         \u001b[0;32mwhile\u001b[0m \u001b[0mhead\u001b[0m \u001b[0;34m!=\u001b[0m \u001b[0;32mNone\u001b[0m\u001b[0;34m:\u001b[0m\u001b[0;34m\u001b[0m\u001b[0;34m\u001b[0m\u001b[0m\n\u001b[1;32m      6\u001b[0m             \u001b[0mprint\u001b[0m\u001b[0;34m(\u001b[0m\u001b[0;34m\"head.val = \"\u001b[0m\u001b[0;34m,\u001b[0m \u001b[0mhead\u001b[0m\u001b[0;34m.\u001b[0m\u001b[0mval\u001b[0m\u001b[0;34m)\u001b[0m\u001b[0;34m\u001b[0m\u001b[0;34m\u001b[0m\u001b[0m\n\u001b[0;32m----> 7\u001b[0;31m             \u001b[0mprint\u001b[0m\u001b[0;34m(\u001b[0m\u001b[0;34m\"head.next.val = \"\u001b[0m\u001b[0;34m,\u001b[0m \u001b[0mhead\u001b[0m\u001b[0;34m.\u001b[0m\u001b[0mnext\u001b[0m\u001b[0;34m.\u001b[0m\u001b[0mval\u001b[0m\u001b[0;34m)\u001b[0m\u001b[0;34m\u001b[0m\u001b[0;34m\u001b[0m\u001b[0m\n\u001b[0m\u001b[1;32m      8\u001b[0m             \u001b[0mnext_node\u001b[0m \u001b[0;34m=\u001b[0m \u001b[0mhead\u001b[0m\u001b[0;34m.\u001b[0m\u001b[0mnext\u001b[0m\u001b[0;34m\u001b[0m\u001b[0;34m\u001b[0m\u001b[0m\n\u001b[1;32m      9\u001b[0m             \u001b[0mhead\u001b[0m\u001b[0;34m.\u001b[0m\u001b[0mnext\u001b[0m \u001b[0;34m=\u001b[0m \u001b[0mpreviousNode\u001b[0m\u001b[0;34m\u001b[0m\u001b[0;34m\u001b[0m\u001b[0m\n",
      "\u001b[0;31mAttributeError\u001b[0m: 'NoneType' object has no attribute 'val'"
     ]
    }
   ],
   "source": [
    "previousNode = Solution().reverseList(head_0)\n",
    "# previousNode.printList()\n",
    "print(previousNode.val)\n",
    "print(previousNode.next.val)\n",
    "print(previousNode.next.next.val)\n",
    "print(previousNode.next.next.next.val)\n",
    "print(previousNode.next.next.next.next.val)\n",
    "# print(previousNode.next.next.val)\n",
    "# previousNode.printList()"
   ]
  },
  {
   "cell_type": "code",
   "execution_count": 113,
   "metadata": {},
   "outputs": [
    {
     "data": {
      "text/plain": [
       "1"
      ]
     },
     "execution_count": 113,
     "metadata": {},
     "output_type": "execute_result"
    }
   ],
   "source": [
    "head_0.val "
   ]
  },
  {
   "cell_type": "code",
   "execution_count": null,
   "metadata": {},
   "outputs": [],
   "source": []
  }
 ],
 "metadata": {
  "kernelspec": {
   "display_name": "Python 3",
   "language": "python",
   "name": "python3"
  },
  "language_info": {
   "codemirror_mode": {
    "name": "ipython",
    "version": 3
   },
   "file_extension": ".py",
   "mimetype": "text/x-python",
   "name": "python",
   "nbconvert_exporter": "python",
   "pygments_lexer": "ipython3",
   "version": "3.8.5"
  }
 },
 "nbformat": 4,
 "nbformat_minor": 4
}
