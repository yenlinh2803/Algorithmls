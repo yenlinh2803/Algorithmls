{
 "cells": [
  {
   "cell_type": "code",
   "execution_count": null,
   "metadata": {},
   "outputs": [],
   "source": []
  },
  {
   "cell_type": "code",
   "execution_count": null,
   "metadata": {},
   "outputs": [],
   "source": [
    "# Linh code solution:\n",
    "\n",
    "# Definition for singly-linked list.\n",
    "# class ListNode:\n",
    "#     def __init__(self, val=0, next=None):\n",
    "#         self.val = val\n",
    "#         self.next = next\n",
    "class Solution:\n",
    "    def addTwoNumbers(self, l1: ListNode, l2: ListNode) -> ListNode:\n",
    "        if l1 == None:\n",
    "            return l2\n",
    "        if l2 == None:\n",
    "            return l1\n",
    "        result_list = ListNode(0)\n",
    "        plus = 0 \n",
    "        curr = result_list\n",
    "        while l1!= None or l2!=None:\n",
    "            if l1!= None:\n",
    "                l1_val = l1.val\n",
    "                l1 = l1.next\n",
    "            else: \n",
    "                l1_val = 0\n",
    "            if l2!=None: \n",
    "                l2_val = l2.val\n",
    "                l2 = l2.next\n",
    "            else: \n",
    "                l2_val = 0 \n",
    "            \n",
    "            new_val = l1_val+l2_val + plus\n",
    "            plus = 0 \n",
    "            if new_val > 9:\n",
    "                to_add = new_val-10\n",
    "                plus +=1 \n",
    "            else:\n",
    "                to_add = new_val\n",
    "            curr.next = ListNode(to_add)\n",
    "            \n",
    "            \n",
    "            curr = curr.next\n",
    "        if plus>0:\n",
    "            curr.next = ListNode(plus)\n",
    "        print(\"result_list.next: \",result_list.next)\n",
    "        return result_list.next"
   ]
  }
 ],
 "metadata": {
  "kernelspec": {
   "display_name": "Python 3",
   "language": "python",
   "name": "python3"
  },
  "language_info": {
   "codemirror_mode": {
    "name": "ipython",
    "version": 3
   },
   "file_extension": ".py",
   "mimetype": "text/x-python",
   "name": "python",
   "nbconvert_exporter": "python",
   "pygments_lexer": "ipython3",
   "version": "3.8.5"
  }
 },
 "nbformat": 4,
 "nbformat_minor": 4
}
