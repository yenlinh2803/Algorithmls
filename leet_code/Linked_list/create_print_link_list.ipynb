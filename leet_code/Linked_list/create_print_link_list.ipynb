{
 "cells": [
  {
   "cell_type": "code",
   "execution_count": 1,
   "metadata": {},
   "outputs": [
    {
     "name": "stdout",
     "output_type": "stream",
     "text": [
      "i:  4\n",
      "root None\n",
      "arr[4]: 5\n",
      "i:  3\n",
      "root:  5\n",
      "arr[3]: 4\n",
      "i:  2\n",
      "root:  4\n",
      "arr[2]: 3\n",
      "i:  1\n",
      "root:  3\n",
      "arr[1]: 2\n",
      "i:  0\n",
      "root:  2\n",
      "arr[0]: 1\n",
      "1 2 3 4 5 root:  <__main__.Node object at 0x7f8e55b9edc0>\n"
     ]
    }
   ],
   "source": [
    "class Node:  \n",
    "    def __init__(self, data):  \n",
    "        self.data = data  \n",
    "        self.next = next\n",
    "# function to insert Node  \n",
    "def insert(root, item):  \n",
    "    temp = Node(0)  \n",
    "    temp.data = item  \n",
    "    temp.next = root  \n",
    "    root = temp \n",
    "    return root  \n",
    "  \n",
    "def display(root):  \n",
    "    while (root != None):  \n",
    "        print(root.data, end=\" \")  \n",
    "        root = root.next\n",
    "        \n",
    "def arrayToList(arr, n):  \n",
    "    root = None \n",
    "    for i in range(n - 1, -1, -1): \n",
    "        print(\"i: \",i)\n",
    "        if root == None:\n",
    "            print(\"root None\")\n",
    "        else:\n",
    "            print(\"root: \",root.data)\n",
    "        print(f\"arr[{i}]:\",arr[i])\n",
    "        root = insert(root, arr[i]) \n",
    "        \n",
    "    return root  \n",
    "  \n",
    "# Driver code  \n",
    "if __name__ == '__main__':  \n",
    "    arr = [1, 2, 3, 4, 5];  \n",
    "    n = len(arr)  \n",
    "    root = arrayToList(arr, n);  \n",
    "    display(root)  \n",
    "    print(\"root: \", root)"
   ]
  },
  {
   "cell_type": "code",
   "execution_count": null,
   "metadata": {},
   "outputs": [],
   "source": []
  }
 ],
 "metadata": {
  "kernelspec": {
   "display_name": "Python 3",
   "language": "python",
   "name": "python3"
  },
  "language_info": {
   "codemirror_mode": {
    "name": "ipython",
    "version": 3
   },
   "file_extension": ".py",
   "mimetype": "text/x-python",
   "name": "python",
   "nbconvert_exporter": "python",
   "pygments_lexer": "ipython3",
   "version": "3.8.5"
  }
 },
 "nbformat": 4,
 "nbformat_minor": 4
}
