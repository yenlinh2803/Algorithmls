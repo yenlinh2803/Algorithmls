{
 "cells": [
  {
   "cell_type": "code",
   "execution_count": null,
   "metadata": {},
   "outputs": [],
   "source": [
    "# Input: head = [1,2,3,4,5], k = 2\n",
    "# Output: [1,4,3,2,5]\n",
    "\n",
    "# Input: head = [7,9,6,6,7,8,3,0,9,5], k = 5\n",
    "# Output: [7,9,6,6,8,7,3,0,9,5]\n",
    "\n",
    "# Input: head = [1], k = 1\n",
    "# Output: [1]\n",
    "\n",
    "# Input: head = [1,2], k = 1\n",
    "# Output: [2,1]\n",
    "\n",
    "# Input: head = [1,2,3], k = 2\n",
    "# Output: [1,2,3]"
   ]
  },
  {
   "cell_type": "code",
   "execution_count": 4,
   "metadata": {},
   "outputs": [
    {
     "data": {
      "text/plain": [
       "8"
      ]
     },
     "execution_count": 4,
     "metadata": {},
     "output_type": "execute_result"
    }
   ],
   "source": [
    "# linh code solution\n",
    "\n",
    "# Definition for singly-linked list.\n",
    "# class ListNode:\n",
    "#     def __init__(self, val=0, next=None):\n",
    "#         self.val = val\n",
    "#         self.next = next\n",
    "class Solution:\n",
    "    def swapNodes(self, head: ListNode, k: int) -> ListNode:\n",
    "        if head== None:\n",
    "            return None\n",
    "        temp_head = head \n",
    "        swap_list = []\n",
    "        while temp_head!=None:\n",
    "            swap_list.append(temp_head)\n",
    "            temp_head = temp_head.next \n",
    "        if len(swap_list) ==1:\n",
    "            return head\n",
    "        node_k_left = swap_list[k-1]\n",
    "        node_k_right = swap_list[-k]\n",
    "        temp_val = node_k_left.val\n",
    "        node_k_left.val = node_k_right.val \n",
    "        node_k_right.val = temp_val\n",
    "        # print(\"head: \",head)\n",
    "        return head\n",
    "        "
   ]
  },
  {
   "cell_type": "code",
   "execution_count": null,
   "metadata": {},
   "outputs": [],
   "source": [
    "# linh code solution 2 \n",
    "\n",
    "# Definition for singly-linked list.\n",
    "# class ListNode:\n",
    "#     def __init__(self, val=0, next=None):\n",
    "#         self.val = val\n",
    "#         self.next = next\n",
    "class Solution:\n",
    "    def swapNodes(self, head: ListNode, k: int) -> ListNode:\n",
    "        if head== None:\n",
    "            return None\n",
    "        \n",
    "        temp_head = head\n",
    "        len_list = 0 \n",
    "        while temp_head!= None:\n",
    "            len_list+=1\n",
    "            temp_head = temp_head.next\n",
    "        print(\"len_list: \",len_list)\n",
    "        k_left_node = head\n",
    "        for i in range(1,k):\n",
    "            k_left_node = k_left_node.next\n",
    "        \n",
    "        k_right_node = head\n",
    "        for i in range(1,len_list-k+1):\n",
    "            k_right_node = k_right_node.next \n",
    "            print(\"k_right_node.val = \",k_right_node.val)\n",
    "            \n",
    "        temp_left_node = k_left_node.val\n",
    "        k_left_node.val = k_right_node.val \n",
    "        k_right_node.val = temp_left_node\n",
    "        return head\n",
    "        \n",
    "        \n",
    "            "
   ]
  }
 ],
 "metadata": {
  "kernelspec": {
   "display_name": "Python 3",
   "language": "python",
   "name": "python3"
  },
  "language_info": {
   "codemirror_mode": {
    "name": "ipython",
    "version": 3
   },
   "file_extension": ".py",
   "mimetype": "text/x-python",
   "name": "python",
   "nbconvert_exporter": "python",
   "pygments_lexer": "ipython3",
   "version": "3.8.5"
  }
 },
 "nbformat": 4,
 "nbformat_minor": 4
}
