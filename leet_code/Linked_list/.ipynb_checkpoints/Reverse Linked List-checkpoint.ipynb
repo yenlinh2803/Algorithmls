{
 "cells": [
  {
   "cell_type": "code",
   "execution_count": 15,
   "metadata": {},
   "outputs": [],
   "source": [
    "# Example:\n",
    "\n",
    "# Input: 1->2->3->4->5->NULL\n",
    "# Output: 5->4->3->2->1->NULL\n",
    "    "
   ]
  },
  {
   "cell_type": "code",
   "execution_count": 39,
   "metadata": {},
   "outputs": [],
   "source": [
    "class ListNode:\n",
    "    def __init__(self, val=0, next=None):\n",
    "        self.val = val\n",
    "        self.next = next\n",
    "    \n",
    "    def printList(self): \n",
    "        temp = self\n",
    "        while(temp): \n",
    "            print (\" %d\" %(temp.val))\n",
    "            temp = temp.next\n",
    "            \n",
    "    def deleteNode(self, node):\n",
    "        if node.next is not None:\n",
    "            node.val = node.next.val\n",
    "            node.next = node.next.next\n",
    "    \n",
    "    def reverseList(self):\n",
    "        arr =[]\n",
    "        head = self\n",
    "        while head != None:\n",
    "            arr.append(head.val)\n",
    "            head= head.next\n",
    "        i = len(arr)\n",
    "        head = self\n",
    "        while head != None:\n",
    "            print(f\"i = {i} & arr[{i-1}] = {arr[i-1]}\")\n",
    "            head.val = arr[i-1]\n",
    "            head = head.next\n",
    "            i=i-1 \n",
    "        \n",
    "        "
   ]
  },
  {
   "cell_type": "code",
   "execution_count": 86,
   "metadata": {},
   "outputs": [
    {
     "name": "stdout",
     "output_type": "stream",
     "text": [
      " 1\n",
      " 2\n",
      " 3\n",
      " 4\n",
      " 5\n"
     ]
    }
   ],
   "source": [
    "tail = ListNode(val = 5)\n",
    "head_3 = ListNode(val = 4, next= tail)\n",
    "head_2 = ListNode(val = 3, next= head_3)\n",
    "head_1 = ListNode(val = 2, next= head_2)\n",
    "head_0 = ListNode(val = 1, next= head_1)\n",
    "head_0.printList()\n",
    "# head_0.reverseList()\n",
    "# print(\"-\"*100)\n",
    "# head_0.printList()"
   ]
  },
  {
   "cell_type": "code",
   "execution_count": 73,
   "metadata": {},
   "outputs": [],
   "source": [
    "#         self.next = next\n",
    "class Solution:\n",
    "    def reverseList(self, head: ListNode) -> ListNode:\n",
    "        previousNode = None\n",
    "        while head != None:\n",
    "            next_node = head.next \n",
    "            head.next = previousNode\n",
    "            previousNode = head\n",
    "            head = next_node\n",
    "        return previousNode"
   ]
  },
  {
   "cell_type": "code",
   "execution_count": 87,
   "metadata": {},
   "outputs": [],
   "source": [
    "# Anh Quan solution \n",
    "class Solution:\n",
    "    def reverseList(self, head: ListNode) -> ListNode:\n",
    "#       // arr =[a,b]\n",
    "#       // for i in range(len(arr), 0, -1):\n",
    "#       // arr[i].next = arr[i-1]\n",
    "        arr = []\n",
    "        head_temp = head\n",
    "        while head_temp!= None:\n",
    "            arr.append(head_temp)\n",
    "            head_temp = head_temp.next\n",
    "        for i in range(len(arr)-1, 0 , -1):\n",
    "            print(\"i: \", i)\n",
    "            print(f\"arr[{i-1}]: \", arr[i-1])\n",
    "            arr[i].next = arr[i-1]\n",
    "        if len(arr) >0:\n",
    "            arr[0].next=None\n",
    "            return arr[len(arr)-1]\n",
    "        return None"
   ]
  },
  {
   "cell_type": "code",
   "execution_count": null,
   "metadata": {},
   "outputs": [],
   "source": [
    "# Linh code solution \n",
    "class Solution:\n",
    "    def reverseList(self, head: ListNode) -> ListNode:\n",
    "        arr =[]\n",
    "        head_temp = head\n",
    "        while head_temp != None:\n",
    "            arr.append(head_temp.val)\n",
    "            head_temp= head_temp.next\n",
    "        i = len(arr)\n",
    "        print(\"arr = \",arr)\n",
    "        head_temp = head\n",
    "        # 1->2->3->none\n",
    "        # [1,2,3]\n",
    "        # 3->2->1->none\n",
    "      \n",
    "        while head_temp != None:\n",
    "            print(f\"i = {i} & arr[{i-1}] = {arr[i-1]}\")\n",
    "            head_temp.val = arr[i-1]\n",
    "            head_temp = head_temp.next\n",
    "            i=i-1 \n",
    "        return head"
   ]
  },
  {
   "cell_type": "code",
   "execution_count": 88,
   "metadata": {},
   "outputs": [
    {
     "name": "stdout",
     "output_type": "stream",
     "text": [
      "5\n",
      "4\n",
      "3\n",
      "2\n",
      "1\n"
     ]
    }
   ],
   "source": [
    "previousNode = Solution().reverseList(head_0)\n",
    "# previousNode.printList()\n",
    "print(previousNode.val)\n",
    "print(previousNode.next.val)\n",
    "print(previousNode.next.next.val)\n",
    "print(previousNode.next.next.next.val)\n",
    "print(previousNode.next.next.next.next.val)\n",
    "# print(previousNode.next.next.val)\n",
    "# previousNode.printList()"
   ]
  },
  {
   "cell_type": "code",
   "execution_count": null,
   "metadata": {},
   "outputs": [],
   "source": []
  }
 ],
 "metadata": {
  "kernelspec": {
   "display_name": "Python 3",
   "language": "python",
   "name": "python3"
  },
  "language_info": {
   "codemirror_mode": {
    "name": "ipython",
    "version": 3
   },
   "file_extension": ".py",
   "mimetype": "text/x-python",
   "name": "python",
   "nbconvert_exporter": "python",
   "pygments_lexer": "ipython3",
   "version": "3.8.5"
  }
 },
 "nbformat": 4,
 "nbformat_minor": 4
}
