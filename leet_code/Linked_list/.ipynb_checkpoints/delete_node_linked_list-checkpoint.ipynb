{
 "cells": [
  {
   "cell_type": "code",
   "execution_count": 61,
   "metadata": {},
   "outputs": [],
   "source": [
    "class ListNode:\n",
    "    def __init__(self, val=0, next=None):\n",
    "        self.val = val\n",
    "        self.next = next\n",
    "    \n",
    "    def printList(self): \n",
    "        temp = self\n",
    "        while(temp): \n",
    "            print (\" %d\" %(temp.val))\n",
    "            temp = temp.next\n",
    "            \n",
    "    def deleteNode(self, node):\n",
    "        \"\"\"\n",
    "        :type node: ListNode\n",
    "        :rtype: void Do not return anything, modify node in-place instead.\n",
    "        \"\"\"\n",
    "        if node.next is not None:\n",
    "            node.val = node.next.val\n",
    "            node.next = node.next.next"
   ]
  },
  {
   "cell_type": "code",
   "execution_count": 65,
   "metadata": {},
   "outputs": [
    {
     "name": "stdout",
     "output_type": "stream",
     "text": [
      " 2\n",
      " 3\n",
      " 1\n",
      " 7\n",
      "node.val:  3\n",
      "node.next.val:  1\n",
      " 1\n",
      " 7\n"
     ]
    }
   ],
   "source": [
    "tail = ListNode(val = 7)\n",
    "head_2 = ListNode(val=1, next = tail)\n",
    "head_1 = ListNode(val=3, next = head_2)\n",
    "head_0 = ListNode(val=2, next = head_1)\n",
    "head_0.printList()\n",
    "deleteNode(head_1)\n",
    "# head_0.next.val\n",
    "head_1.printList()"
   ]
  },
  {
   "cell_type": "code",
   "execution_count": 34,
   "metadata": {},
   "outputs": [
    {
     "name": "stdout",
     "output_type": "stream",
     "text": [
      "Created Linked List: \n",
      " 2\n",
      " 3\n",
      " 1\n",
      " 7\n",
      "\n",
      "Linked List after Deletion of 1:\n",
      " 2\n",
      " 3\n",
      " 7\n"
     ]
    }
   ],
   "source": [
    "# # A complete working Python3 program to\n",
    "# # demonstrate deletion in singly \n",
    "# # linked list with class \n",
    " \n",
    "# # Node class \n",
    "# class Node: \n",
    " \n",
    "#     # Constructor to initialize the node object \n",
    "#     def __init__(self, data): \n",
    "#         self.data = data \n",
    "#         self.next = None\n",
    " \n",
    "# class LinkedList: \n",
    " \n",
    "#     # Function to initialize head \n",
    "#     def __init__(self): \n",
    "#         self.head = None\n",
    " \n",
    "#     # Function to insert a new node at the beginning \n",
    "#     def push(self, new_data): \n",
    "#         new_node = Node(new_data) \n",
    "#         new_node.next = self.head \n",
    "#         self.head = new_node \n",
    " \n",
    "#     # Given a reference to the head of a list and a key, \n",
    "#     # delete the first occurence of key in linked list \n",
    "#     def deleteNode(self, key): \n",
    "         \n",
    "#         # Store head node \n",
    "#         temp = self.head \n",
    " \n",
    "#         # If head node itself holds the key to be deleted \n",
    "#         if (temp is not None): \n",
    "#             if (temp.data == key): \n",
    "#                 self.head = temp.next\n",
    "#                 temp = None\n",
    "#                 return\n",
    " \n",
    "#         # Search for the key to be deleted, keep track of the \n",
    "#         # previous node as we need to change 'prev.next' \n",
    "#         while(temp is not None): \n",
    "#             if temp.data == key: \n",
    "#                 break\n",
    "#             prev = temp \n",
    "#             temp = temp.next\n",
    " \n",
    "#         # if key was not present in linked list \n",
    "#         if(temp == None): \n",
    "#             return\n",
    " \n",
    "#         # Unlink the node from linked list \n",
    "#         prev.next = temp.next\n",
    " \n",
    "#         temp = None\n",
    " \n",
    " \n",
    "#     # Utility function to print the linked LinkedList \n",
    "#     def printList(self): \n",
    "#         temp = self.head \n",
    "#         while(temp): \n",
    "#             print (\" %d\" %(temp.data)), \n",
    "#             temp = temp.next\n",
    " \n",
    " \n",
    "# # Driver program \n",
    "# llist = LinkedList() \n",
    "# llist.push(7) \n",
    "# llist.push(1) \n",
    "# llist.push(3) \n",
    "# llist.push(2) \n",
    " \n",
    "# print (\"Created Linked List: \")\n",
    "# llist.printList() \n",
    "# llist.deleteNode(1) \n",
    "# print (\"\\nLinked List after Deletion of 1:\")\n",
    "# llist.printList() \n",
    " \n",
    "# # This code is contributed by Nikhil Kumar Singh (nickzuck_007) "
   ]
  },
  {
   "cell_type": "code",
   "execution_count": null,
   "metadata": {},
   "outputs": [],
   "source": []
  }
 ],
 "metadata": {
  "kernelspec": {
   "display_name": "Python 3",
   "language": "python",
   "name": "python3"
  },
  "language_info": {
   "codemirror_mode": {
    "name": "ipython",
    "version": 3
   },
   "file_extension": ".py",
   "mimetype": "text/x-python",
   "name": "python",
   "nbconvert_exporter": "python",
   "pygments_lexer": "ipython3",
   "version": "3.8.5"
  }
 },
 "nbformat": 4,
 "nbformat_minor": 4
}
