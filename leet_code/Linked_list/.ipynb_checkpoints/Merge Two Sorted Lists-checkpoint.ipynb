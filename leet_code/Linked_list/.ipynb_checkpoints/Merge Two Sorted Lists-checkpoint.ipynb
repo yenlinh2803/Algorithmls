{
 "cells": [
  {
   "cell_type": "code",
   "execution_count": null,
   "metadata": {},
   "outputs": [],
   "source": [
    "# Input: l1 = [1,2,4], l2 = [1,3,4]\n",
    "# Output: [1,1,2,3,4,4]\n",
    "    \n",
    "# Input: l1 = [], l2 = []\n",
    "# Output: []\n",
    "\n",
    "# Input: l1 = [], l2 = [0]\n",
    "# Output: [0]\n",
    "\n",
    "# Brainstorm\n",
    "        # 1->3 , 2 ->4 -> 5 => 1->2->3->4->5\n",
    "        # 1 <= 2 ? | -> 1\n",
    "        # 3 <= 2 ? | -> 1 -> 2\n",
    "        # 3 <= 4 ? | -> 1 -> 2 -> 3 -> 4 -> 5\n",
    "        # "
   ]
  },
  {
   "cell_type": "code",
   "execution_count": null,
   "metadata": {},
   "outputs": [],
   "source": [
    "# Linh code\n",
    "\n",
    "class Solution:\n",
    "    def mergeTwoLists(self, l1: ListNode, l2: ListNode) -> ListNode:\n",
    "        if l1== None and l2== None:\n",
    "            return None\n",
    "        \n",
    "        arr_node_list = []\n",
    "        while l1!= None:\n",
    "            arr_node_list.append(l1.val)\n",
    "            l1 = l1.next\n",
    "        print(\"arr_node_list: \",arr_node_list)\n",
    "        \n",
    "        while l2!= None:\n",
    "            arr_node_list.append(l2.val)\n",
    "            l2 = l2.next\n",
    "        print(\"arr_node_list: \",arr_node_list)\n",
    "        \n",
    "        arr_node_list = sorted(arr_node_list)\n",
    "        print(\"arr_node_list: \",arr_node_list)\n",
    "        \n",
    "        head = ListNode(val = arr_node_list[0])\n",
    "        head_2 = head\n",
    "        for i in range(1,len(arr_node_list)):\n",
    "            head.next = ListNode(val = arr_node_list[i])\n",
    "            head = head.next\n",
    "        \n",
    "        return head_2"
   ]
  },
  {
   "cell_type": "code",
   "execution_count": null,
   "metadata": {},
   "outputs": [],
   "source": [
    "# Linh code solution 2 --> Optimize \n",
    "\n",
    "# Definition for singly-linked list.\n",
    "# class ListNode:\n",
    "#     def __init__(self, val=0, next=None):\n",
    "#         self.val = val\n",
    "#         self.next = next\n",
    "class Solution:\n",
    "    def mergeTwoLists(self, l1: ListNode, l2: ListNode) -> ListNode:\n",
    "        if l1== None and l2== None:\n",
    "            return None\n",
    "        if l1== None:\n",
    "            return l2\n",
    "        if l2==None:\n",
    "            return l1\n",
    "        \n",
    "        first_node = l1\n",
    "        second_node = l2\n",
    "        new_head = ListNode(val= 123)\n",
    "        head = new_head\n",
    "        \n",
    "        while second_node!=None :\n",
    "            if first_node.val <= second_node.val:\n",
    "                temp = first_node\n",
    "                head.next = first_node\n",
    "                first_node = second_node\n",
    "                second_node = temp.next\n",
    "            else:\n",
    "                head.next = second_node\n",
    "                second_node = second_node.next\n",
    "            head = head.next\n",
    "            \n",
    "        head.next = first_node\n",
    "        return new_head.next "
   ]
  }
 ],
 "metadata": {
  "kernelspec": {
   "display_name": "Python 3",
   "language": "python",
   "name": "python3"
  },
  "language_info": {
   "codemirror_mode": {
    "name": "ipython",
    "version": 3
   },
   "file_extension": ".py",
   "mimetype": "text/x-python",
   "name": "python",
   "nbconvert_exporter": "python",
   "pygments_lexer": "ipython3",
   "version": "3.8.5"
  }
 },
 "nbformat": 4,
 "nbformat_minor": 4
}
