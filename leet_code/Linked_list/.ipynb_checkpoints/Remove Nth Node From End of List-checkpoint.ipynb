{
 "cells": [
  {
   "cell_type": "code",
   "execution_count": null,
   "metadata": {},
   "outputs": [],
   "source": []
  },
  {
   "cell_type": "code",
   "execution_count": null,
   "metadata": {},
   "outputs": [],
   "source": [
    "# linh draft code\n",
    "\n",
    "#Definition for singly-linked list.\n",
    "# class ListNode:\n",
    "#     def __init__(self, val=0, next=None):\n",
    "#         self.val = val\n",
    "#         self.next = next\n",
    "class Solution:\n",
    "    def removeNthFromEnd(self, head: ListNode, n: int) -> ListNode:\n",
    "        if head==None or head.next==None:\n",
    "            return None \n",
    "        list_node = []\n",
    "        temp_head = head\n",
    "        while temp_head!= None:\n",
    "            list_node.append(temp_head)\n",
    "            temp_head = temp_head.next\n",
    "        if len(list_node) == 1 or n> len(list_node):\n",
    "            return None \n",
    "        if len(list_node)== 2 :\n",
    "            node_n = list_node[-(n+1)]\n",
    "            node_n.next = None\n",
    "            print(\"len(list_node)== 2, return node_n = \",node_n)\n",
    "            return node_n\n",
    "        \n",
    "        node_n = list_node[-n]\n",
    "        if node_n.next!=None:\n",
    "            node_before = list_node[-(n+1)]\n",
    "            node_after = list_node[-(n-1)]\n",
    "        \n",
    "        print(\"node_before: \",node_before)\n",
    "        print(\"node_n: \",node_n)\n",
    "        print(\"node_after: \",node_after)\n",
    "        \n",
    "        node_before.next = node_after\n",
    "        return head\n",
    "        \n",
    "        \n",
    "        "
   ]
  }
 ],
 "metadata": {
  "kernelspec": {
   "display_name": "Python 3",
   "language": "python",
   "name": "python3"
  },
  "language_info": {
   "codemirror_mode": {
    "name": "ipython",
    "version": 3
   },
   "file_extension": ".py",
   "mimetype": "text/x-python",
   "name": "python",
   "nbconvert_exporter": "python",
   "pygments_lexer": "ipython3",
   "version": "3.8.5"
  }
 },
 "nbformat": 4,
 "nbformat_minor": 4
}
