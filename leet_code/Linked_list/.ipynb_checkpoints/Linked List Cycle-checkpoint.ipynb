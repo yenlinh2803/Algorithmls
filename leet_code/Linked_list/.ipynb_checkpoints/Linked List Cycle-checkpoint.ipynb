{
 "cells": [
  {
   "cell_type": "code",
   "execution_count": null,
   "metadata": {},
   "outputs": [],
   "source": [
    "# https://leetcode.com/problems/linked-list-cycle/"
   ]
  },
  {
   "cell_type": "code",
   "execution_count": 14,
   "metadata": {},
   "outputs": [],
   "source": [
    "class ListNode:\n",
    "    def __init__(self, val=0, next=None):\n",
    "        self.val = val\n",
    "        self.next = next\n",
    "    \n",
    "    def printList(self): \n",
    "        temp = self\n",
    "        while(temp): \n",
    "            print (\" %d\" %(temp.val))\n",
    "            temp = temp.next\n",
    "            \n",
    "    def deleteNode(self, node):\n",
    "        if node.next is not None:\n",
    "            node.val = node.next.val\n",
    "            node.next = node.next.next\n",
    "            \n",
    "\n",
    "class Solution:\n",
    "    def hasCycle(self, head: ListNode) -> bool:\n",
    "        if head == None :\n",
    "            return False \n",
    "        slow = head\n",
    "        fast = head.next\n",
    "        print(\"origin slow.val = \",slow.val)\n",
    "        print(\"origin fast.val = \",fast.val)\n",
    "        \n",
    "        while slow!= fast:\n",
    "            print(\"Loop\")\n",
    "            if fast == None or fast.next == None:\n",
    "                return False\n",
    "            slow = slow.next\n",
    "            fast = fast.next.next\n",
    "            print(\"new slow.val = \",  slow.val)\n",
    "            print(\"new fast.val = \",  fast.val)\n",
    "            \n",
    "        print(\"final slow.val = \",slow.val)\n",
    "        print(\"final fast.val = \",fast.val)    \n",
    "        return True\n",
    "    \n",
    "class Solution:\n",
    "    def hasCycle(self, head: ListNode) -> bool:\n",
    "        unique_node = set()\n",
    "        while head!=None:\n",
    "            if head in unique_node:\n",
    "                return True\n",
    "            unique_node.add(head)\n",
    "            head = head.next \n",
    "        return False "
   ]
  },
  {
   "cell_type": "code",
   "execution_count": 28,
   "metadata": {},
   "outputs": [
    {
     "name": "stdout",
     "output_type": "stream",
     "text": [
      " 3\n",
      " 2\n",
      " 0\n",
      " -4\n"
     ]
    }
   ],
   "source": [
    "# Create linked list cycle\n",
    "tail = ListNode(val = -4)\n",
    "head_3 = ListNode(val = 0, next= tail)\n",
    "head_2 = ListNode(val = 2, next= head_3)\n",
    "head_1 = ListNode(val = 3, next= head_2)\n",
    "tail.next = head_2\n",
    "head_1.printList()\n"
   ]
  },
  {
   "cell_type": "code",
   "execution_count": 30,
   "metadata": {},
   "outputs": [
    {
     "data": {
      "text/plain": [
       "False"
      ]
     },
     "execution_count": 30,
     "metadata": {},
     "output_type": "execute_result"
    }
   ],
   "source": [
    "# Run solution\n",
    "Solution().hasCycle(head_1)"
   ]
  },
  {
   "cell_type": "code",
   "execution_count": null,
   "metadata": {},
   "outputs": [],
   "source": []
  }
 ],
 "metadata": {
  "kernelspec": {
   "display_name": "Python 3",
   "language": "python",
   "name": "python3"
  },
  "language_info": {
   "codemirror_mode": {
    "name": "ipython",
    "version": 3
   },
   "file_extension": ".py",
   "mimetype": "text/x-python",
   "name": "python",
   "nbconvert_exporter": "python",
   "pygments_lexer": "ipython3",
   "version": "3.8.5"
  }
 },
 "nbformat": 4,
 "nbformat_minor": 4
}
