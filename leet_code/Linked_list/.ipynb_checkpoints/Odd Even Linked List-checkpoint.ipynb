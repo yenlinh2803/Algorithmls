{
 "cells": [
  {
   "cell_type": "code",
   "execution_count": null,
   "metadata": {},
   "outputs": [],
   "source": [
    "# Your input\n",
    "# [2,1,3,5,6,4,7]\n",
    "# Output\n",
    "# [2,3,6,7,1,5,4]\n",
    "# Expected\n",
    "# [2,3,6,7,1,5,4]\n",
    "\n",
    "# Example 1:\n",
    "# Input: 1->2->3->4->5->NULL\n",
    "# Output: 1->3->5->2->4->NULL\n",
    "\n",
    "\n",
    "# [2,1,3,5,6,4,7]\n",
    "# even= [1,5,4] # lẻ \n",
    "# odd = [2,3,6,7] # chẵn\n",
    "--> [2,3,6,7,1,5,4] # [odd,even]"
   ]
  },
  {
   "cell_type": "code",
   "execution_count": null,
   "metadata": {},
   "outputs": [],
   "source": [
    "# Linh code solution\n",
    "\n",
    "# Definition for singly-linked list.\n",
    "# class ListNode:\n",
    "#     def __init__(self, val=0, next=None):\n",
    "#         self.val = val\n",
    "#         self.next = next\n",
    "class Solution:\n",
    "    def oddEvenList(self, head: ListNode) -> ListNode:\n",
    "        if head== None:\n",
    "            return None\n",
    "        \n",
    "        odd_list = ListNode(val=123)\n",
    "        even_list = ListNode(val=0)\n",
    "        head_odd = odd_list\n",
    "        head_even = even_list\n",
    "        count_index = 0 \n",
    "        while head!= None:\n",
    "            if count_index%2==0:\n",
    "                odd_list.next = head\n",
    "                odd_list = odd_list.next \n",
    "            else:\n",
    "                even_list.next = head\n",
    "                even_list = even_list.next \n",
    "            head = head.next \n",
    "            count_index+=1\n",
    "        even_list .next = None\n",
    "        odd_list.next = head_even.next\n",
    "        # print(\"head_even: \",head_odd)\n",
    "        return head_odd.next"
   ]
  },
  {
   "cell_type": "code",
   "execution_count": null,
   "metadata": {},
   "outputs": [],
   "source": [
    "# Linh code following leet code solution explaination\n",
    "\n",
    "# Definition for singly-linked list.\n",
    "# class ListNode:\n",
    "#     def __init__(self, val=0, next=None):\n",
    "#         self.val = val\n",
    "#         self.next = next\n",
    "class Solution:\n",
    "    def oddEvenList(self, head: ListNode) -> ListNode:\n",
    "        if head== None:\n",
    "            return None\n",
    "        \n",
    "        odd = head\n",
    "        even = head.next\n",
    "        even_head = even\n",
    "        \n",
    "        while even!= None and even.next!=None:\n",
    "            # next_odd = odd.next\n",
    "            odd.next = even.next\n",
    "            odd = odd.next\n",
    "            even.next = odd.next\n",
    "            even = even.next\n",
    "        \n",
    "        odd.next = even_head\n",
    "        return head"
   ]
  }
 ],
 "metadata": {
  "kernelspec": {
   "display_name": "Python 3",
   "language": "python",
   "name": "python3"
  },
  "language_info": {
   "codemirror_mode": {
    "name": "ipython",
    "version": 3
   },
   "file_extension": ".py",
   "mimetype": "text/x-python",
   "name": "python",
   "nbconvert_exporter": "python",
   "pygments_lexer": "ipython3",
   "version": "3.8.5"
  }
 },
 "nbformat": 4,
 "nbformat_minor": 4
}
