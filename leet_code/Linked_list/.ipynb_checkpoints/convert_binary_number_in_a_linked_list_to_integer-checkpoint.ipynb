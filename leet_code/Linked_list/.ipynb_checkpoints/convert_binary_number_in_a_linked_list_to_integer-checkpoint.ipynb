{
 "cells": [
  {
   "cell_type": "code",
   "execution_count": 1,
   "metadata": {},
   "outputs": [],
   "source": [
    "# Given head which is a reference node to a singly-linked list. The value of each node in the linked list is either 0 or 1. The linked list holds the binary representation of a number.\n",
    "\n",
    "# Return the decimal value of the number in the linked list.\n",
    "\n",
    "# Input: head = [1,0,1]\n",
    "# Output: 5\n",
    "# Explanation: (101) in base 2 = (5) in base 10\n",
    "    \n",
    "# Example 2:\n",
    "# Input: head = [0]\n",
    "# Output: 0\n",
    "    \n",
    "# Example 3:\n",
    "# Input: head = [1]\n",
    "# Output: 1\n",
    "    \n",
    "# Example 4:\n",
    "# Input: head = [1,0,0,1,0,0,1,1,1,0,0,0,0,0,0]\n",
    "# Output: 18880\n",
    "\n",
    "# Example 5:\n",
    "# Input: head = [0,0]\n",
    "# Output: 0"
   ]
  },
  {
   "cell_type": "code",
   "execution_count": null,
   "metadata": {},
   "outputs": [],
   "source": [
    "# document read:\n",
    "# https://realpython.com/linked-lists-python/"
   ]
  },
  {
   "cell_type": "code",
   "execution_count": 3,
   "metadata": {},
   "outputs": [
    {
     "data": {
      "text/plain": [
       "1"
      ]
     },
     "execution_count": 3,
     "metadata": {},
     "output_type": "execute_result"
    }
   ],
   "source": [
    "a = [1,0,1]\n",
    "# 1*2^2+ 0*2^1 + 1*2^0 = 5 \n",
    "p =0 \n",
    "while p"
   ]
  },
  {
   "cell_type": "code",
   "execution_count": null,
   "metadata": {},
   "outputs": [],
   "source": []
  }
 ],
 "metadata": {
  "kernelspec": {
   "display_name": "Python 3",
   "language": "python",
   "name": "python3"
  },
  "language_info": {
   "codemirror_mode": {
    "name": "ipython",
    "version": 3
   },
   "file_extension": ".py",
   "mimetype": "text/x-python",
   "name": "python",
   "nbconvert_exporter": "python",
   "pygments_lexer": "ipython3",
   "version": "3.8.5"
  }
 },
 "nbformat": 4,
 "nbformat_minor": 4
}
