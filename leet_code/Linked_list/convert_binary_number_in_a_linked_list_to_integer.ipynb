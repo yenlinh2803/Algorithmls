{
 "cells": [
  {
   "cell_type": "code",
   "execution_count": 27,
   "metadata": {},
   "outputs": [],
   "source": [
    "# Given head which is a reference node to a singly-linked list. The value of each node in the linked list is either 0 or 1. The linked list holds the binary representation of a number.\n",
    "\n",
    "# Return the decimal value of the number in the linked list.\n",
    "\n",
    "# Input: head = [1,0,1]\n",
    "# Output: 5\n",
    "# Explanation: (101) in base 2 = (5) in base 10\n",
    "    \n",
    "# Example 2:\n",
    "# Input: head = [0]\n",
    "# Output: 0\n",
    "    \n",
    "# Example 3:\n",
    "# Input: head = [1]\n",
    "# Output: 1\n",
    "    \n",
    "# Example 4:\n",
    "# Input: head = [1,0,0,1,0,0,1,1,1,0,0,0,0,0,0]\n",
    "# Output: 18880\n",
    "\n",
    "# Example 5:\n",
    "# Input: head = [0,0]\n",
    "# Output: 0"
   ]
  },
  {
   "cell_type": "code",
   "execution_count": 28,
   "metadata": {},
   "outputs": [],
   "source": [
    "# document read:\n",
    "# https://realpython.com/linked-lists-python/"
   ]
  },
  {
   "cell_type": "code",
   "execution_count": 56,
   "metadata": {},
   "outputs": [
    {
     "name": "stdout",
     "output_type": "stream",
     "text": [
      "0\n"
     ]
    }
   ],
   "source": [
    "class ListNode:\n",
    "    def __init__(self, val=0, next=None):\n",
    "        self.val = val\n",
    "        self.next = next\n",
    "        \n",
    "tail = ListNode(val=1)\n",
    "head = ListNode(val=0, next=tail)\n",
    "head_2 = ListNode(val=1, next=head)\n",
    "# print(head)\n",
    "# arr = []\n",
    "# while head!= None:\n",
    "#     arr.append(head.val)\n",
    "#     head = head.next\n",
    "print(head_2.next.val)\n"
   ]
  },
  {
   "cell_type": "code",
   "execution_count": 39,
   "metadata": {},
   "outputs": [],
   "source": [
    "class Solution:\n",
    "    def getDecimalValue(self, head: ListNode) -> int:\n",
    "        arr = []\n",
    "        # convert to list\n",
    "        while head != None: \n",
    "            arr.append(head.val)\n",
    "            head = head.next\n",
    "            print(\"head: \",head)\n",
    "            \n",
    "        num = 0\n",
    "        currentPower = 0\n",
    "        for i in range (len(arr) - 1, -1, -1):\n",
    "            num += arr[i] << currentPower\n",
    "            currentPower += 1\n",
    "        return num"
   ]
  },
  {
   "cell_type": "code",
   "execution_count": 43,
   "metadata": {},
   "outputs": [
    {
     "ename": "AttributeError",
     "evalue": "'list' object has no attribute 'val'",
     "output_type": "error",
     "traceback": [
      "\u001b[0;31m---------------------------------------------------------------------------\u001b[0m",
      "\u001b[0;31mAttributeError\u001b[0m                            Traceback (most recent call last)",
      "\u001b[0;32m<ipython-input-43-8051b3f4d331>\u001b[0m in \u001b[0;36m<module>\u001b[0;34m\u001b[0m\n\u001b[0;32m----> 1\u001b[0;31m \u001b[0mnum\u001b[0m \u001b[0;34m=\u001b[0m \u001b[0mSolution\u001b[0m\u001b[0;34m(\u001b[0m\u001b[0;34m)\u001b[0m\u001b[0;34m.\u001b[0m\u001b[0mgetDecimalValue\u001b[0m\u001b[0;34m(\u001b[0m\u001b[0;34m[\u001b[0m\u001b[0;36m1\u001b[0m\u001b[0;34m,\u001b[0m\u001b[0;36m0\u001b[0m\u001b[0;34m,\u001b[0m\u001b[0;36m1\u001b[0m\u001b[0;34m]\u001b[0m\u001b[0;34m)\u001b[0m\u001b[0;34m\u001b[0m\u001b[0;34m\u001b[0m\u001b[0m\n\u001b[0m",
      "\u001b[0;32m<ipython-input-39-44aeb58b38e4>\u001b[0m in \u001b[0;36mgetDecimalValue\u001b[0;34m(self, head)\u001b[0m\n\u001b[1;32m      4\u001b[0m         \u001b[0;31m# convert to list\u001b[0m\u001b[0;34m\u001b[0m\u001b[0;34m\u001b[0m\u001b[0;34m\u001b[0m\u001b[0m\n\u001b[1;32m      5\u001b[0m         \u001b[0;32mwhile\u001b[0m \u001b[0mhead\u001b[0m \u001b[0;34m!=\u001b[0m \u001b[0;32mNone\u001b[0m\u001b[0;34m:\u001b[0m\u001b[0;34m\u001b[0m\u001b[0;34m\u001b[0m\u001b[0m\n\u001b[0;32m----> 6\u001b[0;31m             \u001b[0marr\u001b[0m\u001b[0;34m.\u001b[0m\u001b[0mappend\u001b[0m\u001b[0;34m(\u001b[0m\u001b[0mhead\u001b[0m\u001b[0;34m.\u001b[0m\u001b[0mval\u001b[0m\u001b[0;34m)\u001b[0m\u001b[0;34m\u001b[0m\u001b[0;34m\u001b[0m\u001b[0m\n\u001b[0m\u001b[1;32m      7\u001b[0m             \u001b[0mhead\u001b[0m \u001b[0;34m=\u001b[0m \u001b[0mhead\u001b[0m\u001b[0;34m.\u001b[0m\u001b[0mnext\u001b[0m\u001b[0;34m\u001b[0m\u001b[0;34m\u001b[0m\u001b[0m\n\u001b[1;32m      8\u001b[0m             \u001b[0mprint\u001b[0m\u001b[0;34m(\u001b[0m\u001b[0;34m\"head: \"\u001b[0m\u001b[0;34m,\u001b[0m\u001b[0mhead\u001b[0m\u001b[0;34m)\u001b[0m\u001b[0;34m\u001b[0m\u001b[0;34m\u001b[0m\u001b[0m\n",
      "\u001b[0;31mAttributeError\u001b[0m: 'list' object has no attribute 'val'"
     ]
    }
   ],
   "source": [
    "num = Solution().getDecimalValue([1,0,1])"
   ]
  },
  {
   "cell_type": "code",
   "execution_count": 38,
   "metadata": {
    "scrolled": true
   },
   "outputs": [
    {
     "name": "stdout",
     "output_type": "stream",
     "text": [
      "len(a):  3\n",
      "i= 2\n",
      "a[i]=   1\n",
      "1 << 0 =  1\n",
      "num after sum:  1\n",
      "----------\n",
      "i= 1\n",
      "a[i]=   0\n",
      "0 << 1 =  0\n",
      "num after sum:  1\n",
      "----------\n",
      "i= 0\n",
      "a[i]=   1\n",
      "1 << 2 =  4\n",
      "num after sum:  5\n",
      "----------\n"
     ]
    }
   ],
   "source": [
    "a = [1,0,1]\n",
    "print(\"len(a): \", len(a))\n",
    "num = 0\n",
    "currentPower = 0 \n",
    "for i in range (len(a) - 1, -1, -1):\n",
    "    print(\"i=\",i)\n",
    "    print(\"a[i]=  \",a[i])\n",
    "    num += a[i] << currentPower\n",
    "    print(f\"{a[i]} << {currentPower} = \",a[i] << currentPower)\n",
    "    print(\"num after sum: \", num)\n",
    "    currentPower += 1\n",
    "    print(\"-\"*10)"
   ]
  },
  {
   "cell_type": "code",
   "execution_count": 19,
   "metadata": {},
   "outputs": [
    {
     "name": "stdout",
     "output_type": "stream",
     "text": [
      "3\n"
     ]
    }
   ],
   "source": [
    "# [1,1,1]\n",
    "num = 1\n",
    "num = 1 <<1|1\n",
    "print(num)"
   ]
  },
  {
   "cell_type": "code",
   "execution_count": 10,
   "metadata": {},
   "outputs": [
    {
     "data": {
      "text/plain": [
       "1"
      ]
     },
     "execution_count": 10,
     "metadata": {},
     "output_type": "execute_result"
    }
   ],
   "source": [
    "5 >>2"
   ]
  },
  {
   "cell_type": "code",
   "execution_count": null,
   "metadata": {},
   "outputs": [],
   "source": []
  }
 ],
 "metadata": {
  "kernelspec": {
   "display_name": "Python 3",
   "language": "python",
   "name": "python3"
  },
  "language_info": {
   "codemirror_mode": {
    "name": "ipython",
    "version": 3
   },
   "file_extension": ".py",
   "mimetype": "text/x-python",
   "name": "python",
   "nbconvert_exporter": "python",
   "pygments_lexer": "ipython3",
   "version": "3.8.5"
  }
 },
 "nbformat": 4,
 "nbformat_minor": 4
}
