{
 "cells": [
  {
   "cell_type": "code",
   "execution_count": 1,
   "metadata": {},
   "outputs": [],
   "source": [
    "# Given a linked list, return the node where the cycle begins. If there is no cycle, return null.\n",
    "\n",
    "# There is a cycle in a linked list if there is some node in the list that can be reached again by continuously following the next pointer. Internally, pos is used to denote the index of the node that tail's next pointer is connected to. Note that pos is not passed as a parameter.\n",
    "\n",
    "# Notice that you should not modify the linked list.\n",
    "\n",
    "# Input: head = [3,2,0,-4], pos = 1\n",
    "# Output: tail connects to node index 1\n",
    "# Explanation: There is a cycle in the linked list, where tail connects to the second node."
   ]
  },
  {
   "cell_type": "code",
   "execution_count": null,
   "metadata": {},
   "outputs": [],
   "source": [
    "class Solution(object):\n",
    "    def getIntersect(self, head):\n",
    "        tortoise = head\n",
    "        hare = head\n",
    "\n",
    "        # A fast pointer will either loop around a cycle and meet the slow\n",
    "        # pointer or reach the `null` at the end of a non-cyclic list.\n",
    "        while hare is not None and hare.next is not None:\n",
    "            tortoise = tortoise.next\n",
    "            hare = hare.next.next\n",
    "            if tortoise == hare:\n",
    "                return tortoise\n",
    "\n",
    "        return None\n",
    "\n",
    "    def detectCycle(self, head):\n",
    "        if head is None:\n",
    "            return None\n",
    "\n",
    "        # If there is a cycle, the fast/slow pointers will intersect at some\n",
    "        # node. Otherwise, there is no cycle, so we cannot find an entrance to\n",
    "        # a cycle.\n",
    "        intersect = self.getIntersect(head)\n",
    "        if intersect is None:\n",
    "            return None\n",
    "\n",
    "        # To find the entrance to the cycle, we have two pointers traverse at\n",
    "        # the same speed -- one from the front of the list, and the other from\n",
    "        # the point of intersection.\n",
    "        ptr1 = head\n",
    "        ptr2 = intersect\n",
    "        while ptr1 != ptr2:\n",
    "            ptr1 = ptr1.next\n",
    "            ptr2 = ptr2.next\n",
    "\n",
    "        return ptr1\n"
   ]
  },
  {
   "cell_type": "code",
   "execution_count": null,
   "metadata": {},
   "outputs": [],
   "source": [
    "# Linh code solution\n",
    "# Definition for singly-linked list.\n",
    "# class ListNode:\n",
    "#     def __init__(self, x):\n",
    "#         self.val = x\n",
    "#         self.next = None\n",
    "\n",
    "class Solution(object):\n",
    "    def getIntersect(self, head):\n",
    "        if head == None: \n",
    "            return None\n",
    "        slow = head\n",
    "        fast = head\n",
    "        while fast != None and fast.next != None:\n",
    "            slow = slow.next\n",
    "            fast = fast.next.next\n",
    "            if slow == fast:\n",
    "                return slow\n",
    "        return None\n",
    "            \n",
    "\n",
    "    def detectCycle(self, head):\n",
    "        if head== None or head.next==None:\n",
    "            return None \n",
    "        intersection = self.getIntersect(head)\n",
    "        if intersection==None:\n",
    "            return None\n",
    "        start_node = head\n",
    "        while start_node!=intersection:\n",
    "            start_node=start_node.next\n",
    "            intersection = intersection.next\n",
    "            \n",
    "        return start_node\n"
   ]
  }
 ],
 "metadata": {
  "kernelspec": {
   "display_name": "Python 3",
   "language": "python",
   "name": "python3"
  },
  "language_info": {
   "codemirror_mode": {
    "name": "ipython",
    "version": 3
   },
   "file_extension": ".py",
   "mimetype": "text/x-python",
   "name": "python",
   "nbconvert_exporter": "python",
   "pygments_lexer": "ipython3",
   "version": "3.8.5"
  }
 },
 "nbformat": 4,
 "nbformat_minor": 4
}
