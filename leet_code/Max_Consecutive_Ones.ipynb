{
 "cells": [
  {
   "cell_type": "code",
   "execution_count": 13,
   "metadata": {},
   "outputs": [
    {
     "name": "stdout",
     "output_type": "stream",
     "text": [
      "1\n"
     ]
    }
   ],
   "source": [
    "# input_a  = [1,1,0,1,1,1,0,0,1,1,1,0,1,1,0,1,0,1,0,1,0,1,1,1,1,0]\n",
    "input_a= [1]\n",
    "find_a = 1 \n",
    "print(len(input_a))"
   ]
  },
  {
   "cell_type": "code",
   "execution_count": 15,
   "metadata": {},
   "outputs": [
    {
     "name": "stdout",
     "output_type": "stream",
     "text": [
      "curr_a= 1 & max_a= 1\n",
      "curr_a:  1\n"
     ]
    }
   ],
   "source": [
    "def consecutive(input_a):\n",
    "    max_a = 0\n",
    "    curr_a = 0 \n",
    "    for i in input_a:\n",
    "        if i== 0:\n",
    "            curr_a= 0\n",
    "            print(\"curr_a: \",curr_a)\n",
    "        else:\n",
    "            curr_a+= 1\n",
    "            if curr_a>=max_a:\n",
    "                max_a=curr_a\n",
    "                print(\"curr_a= {} & max_a= {}\".format(curr_a,max_a))\n",
    "        print(\"curr_a: \",curr_a)"
   ]
  },
  {
   "cell_type": "code",
   "execution_count": 16,
   "metadata": {},
   "outputs": [
    {
     "data": {
      "text/plain": [
       "1"
      ]
     },
     "execution_count": 16,
     "metadata": {},
     "output_type": "execute_result"
    }
   ],
   "source": [
    "max_a"
   ]
  },
  {
   "cell_type": "code",
   "execution_count": null,
   "metadata": {},
   "outputs": [],
   "source": []
  }
 ],
 "metadata": {
  "kernelspec": {
   "display_name": "Python 3",
   "language": "python",
   "name": "python3"
  },
  "language_info": {
   "codemirror_mode": {
    "name": "ipython",
    "version": 3
   },
   "file_extension": ".py",
   "mimetype": "text/x-python",
   "name": "python",
   "nbconvert_exporter": "python",
   "pygments_lexer": "ipython3",
   "version": "3.7.4"
  }
 },
 "nbformat": 4,
 "nbformat_minor": 2
}
