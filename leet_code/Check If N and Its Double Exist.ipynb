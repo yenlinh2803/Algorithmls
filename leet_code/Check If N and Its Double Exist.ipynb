{
 "cells": [
  {
   "cell_type": "code",
   "execution_count": 1,
   "metadata": {},
   "outputs": [],
   "source": [
    "# Example 1:\n",
    "# Input: arr = [10,2,5,3]\n",
    "# Output: true\n",
    "# Explanation: N = 10 is the double of M = 5,that is, 10 = 2 * 5.\n",
    "\n",
    "# Example 2:\n",
    "# Input: arr = [7,1,14,11]\n",
    "# Output: true\n",
    "# Explanation: N = 14 is the double of M = 7,that is, 14 = 2 * 7.\n",
    "    \n",
    "# Input: arr = [3,1,7,11]\n",
    "# Output: false\n",
    "# Explanation: In this case does not exist N and M, such that N = 2 * M.\n",
    "\n",
    "# Input: arr = [-2,0,10,-19,4,6,-8]\n",
    "# Output: false\n",
    "    \n",
    "# Input: arr= [-2,0,10,-19,4,6,-8]\n",
    "# Output: false"
   ]
  },
  {
   "cell_type": "code",
   "execution_count": 38,
   "metadata": {},
   "outputs": [
    {
     "name": "stdout",
     "output_type": "stream",
     "text": [
      "{-2: -4, 0: 0, 10: 20, -19: -38, 4: 8, 6: 12, -8: -16}\n",
      "[-1.0, 0.0, 5.0, 2.0, 3.0, -4.0]\n",
      "-1.0\n",
      "0.0\n",
      "5.0\n",
      "2.0\n",
      "3.0\n",
      "-4.0\n",
      "False\n"
     ]
    }
   ],
   "source": [
    "arr = [-2,0,10,-19,4,6,-8]\n",
    "search_list = []\n",
    "arr_dict = {}\n",
    "check_case = 0\n",
    "count_zero = 0\n",
    "for number in arr:\n",
    "    if number==0 :\n",
    "        count_zero+=1\n",
    "    arr_dict[number]= number*2\n",
    "    if number%2==0:\n",
    "        search_nb = number/2\n",
    "        search_list.append(search_nb)\n",
    "print(arr_dict)\n",
    "print(search_list)\n",
    "for nb in search_list:\n",
    "    print(nb)\n",
    "    try:\n",
    "        if count_zero>=2: \n",
    "            check_case+=1\n",
    "        if nb*2 == arr_dict[nb] and nb!=0:\n",
    "            print(\"arr_dict[nb]: \",arr_dict[nb])\n",
    "            check_case+=1\n",
    "            print(\"Yes\")\n",
    "        \n",
    "    except:\n",
    "        pass\n",
    "if check_case>=1:\n",
    "    print(\"True\")\n",
    "else:\n",
    "    print(\"False\")"
   ]
  },
  {
   "cell_type": "code",
   "execution_count": 43,
   "metadata": {},
   "outputs": [],
   "source": [
    "def find_doubble(arr):\n",
    "    search_list = []\n",
    "    arr_dict = {}\n",
    "    check_case = 0\n",
    "    count_zero = 0\n",
    "    for number in arr:\n",
    "        if number==0 :\n",
    "            count_zero+=1\n",
    "        arr_dict[number]= number*2\n",
    "        if number%2==0:\n",
    "            search_nb = number/2\n",
    "            search_list.append(search_nb)\n",
    "    print(arr_dict)\n",
    "    print(search_list)\n",
    "    for nb in search_list:\n",
    "        try:\n",
    "            if count_zero>=2: \n",
    "                check_case+=1\n",
    "            if nb*2 == arr_dict[nb] and nb!=0:\n",
    "                check_case+=1\n",
    "\n",
    "        except:\n",
    "            pass\n",
    "    if check_case>=1:\n",
    "        return True\n",
    "    else:\n",
    "        return False"
   ]
  },
  {
   "cell_type": "code",
   "execution_count": 44,
   "metadata": {},
   "outputs": [
    {
     "name": "stdout",
     "output_type": "stream",
     "text": [
      "{-2: -4, 0: 0, 10: 20, -19: -38, 4: 8, 6: 12, -8: -16}\n",
      "[-1.0, 0.0, 5.0, 2.0, 3.0, -4.0]\n"
     ]
    },
    {
     "data": {
      "text/plain": [
       "False"
      ]
     },
     "execution_count": 44,
     "metadata": {},
     "output_type": "execute_result"
    }
   ],
   "source": [
    "find_doubble(arr)"
   ]
  },
  {
   "cell_type": "code",
   "execution_count": null,
   "metadata": {},
   "outputs": [],
   "source": []
  }
 ],
 "metadata": {
  "kernelspec": {
   "display_name": "Python 3",
   "language": "python",
   "name": "python3"
  },
  "language_info": {
   "codemirror_mode": {
    "name": "ipython",
    "version": 3
   },
   "file_extension": ".py",
   "mimetype": "text/x-python",
   "name": "python",
   "nbconvert_exporter": "python",
   "pygments_lexer": "ipython3",
   "version": "3.7.4"
  }
 },
 "nbformat": 4,
 "nbformat_minor": 2
}
