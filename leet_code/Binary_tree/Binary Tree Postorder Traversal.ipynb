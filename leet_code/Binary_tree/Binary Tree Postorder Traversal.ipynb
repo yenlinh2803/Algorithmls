{
 "cells": [
  {
   "cell_type": "code",
   "execution_count": null,
   "metadata": {},
   "outputs": [],
   "source": []
  },
  {
   "cell_type": "code",
   "execution_count": null,
   "metadata": {},
   "outputs": [],
   "source": [
    "# Linh code solution\n",
    "# Recursion solution \n",
    "\n",
    "# Definition for a binary tree node.\n",
    "# class TreeNode:\n",
    "#     def __init__(self, val=0, left=None, right=None):\n",
    "#         self.val = val\n",
    "#         self.left = left\n",
    "#         self.right = right\n",
    "class Solution:\n",
    "    def postorderTraversal(self, root: TreeNode) -> List[int]:\n",
    "        out_put = []\n",
    "        if root:\n",
    "            out_put = self.postorderTraversal(root.left)\n",
    "            out_put = out_put + self.postorderTraversal(root.right)\n",
    "            out_put.append(root.val)\n",
    "        return out_put"
   ]
  },
  {
   "cell_type": "code",
   "execution_count": null,
   "metadata": {},
   "outputs": [],
   "source": [
    "# Stack solution\n",
    "# Approach 2: Iterative Preorder Traversal: Tweak the Order of the Output\n",
    "\n",
    "class Solution {\n",
    "    public List<Integer> postorderTraversal(TreeNode root) {\n",
    "        LinkedList<Integer> output = new LinkedList();\n",
    "        Deque<TreeNode> stack = new ArrayDeque();\n",
    "        \n",
    "        if (root == null) return output;\n",
    "\n",
    "        stack.push(root);\n",
    "        while (!stack.isEmpty()) {\n",
    "            root = stack.pop();\n",
    "            output.addFirst(root.val);\n",
    "            if (root.left != null) stack.push(root.left);\n",
    "            if (root.right != null) stack.push(root.right);\n",
    "        }\n",
    "\n",
    "        return output;\n",
    "    }\n",
    "}"
   ]
  },
  {
   "cell_type": "code",
   "execution_count": null,
   "metadata": {},
   "outputs": [],
   "source": [
    "# Stack solution\n",
    "# Approach 3: Iterative Postorder Traversal\n",
    "\n",
    "class Solution {\n",
    "    public List<Integer> postorderTraversal(TreeNode root) {\n",
    "        List<Integer> output = new ArrayList();\n",
    "        Deque<TreeNode> stack = new ArrayDeque();\n",
    "        \n",
    "        while (root != null || !stack.isEmpty()) {\n",
    "            // push nodes: right -> node -> left\n",
    "            while (root != null) {\n",
    "                if (root.right != null) {\n",
    "                    stack.push(root.right);    \n",
    "                }\n",
    "                stack.push(root);\n",
    "                root = root.left;    \n",
    "            }\n",
    "            \n",
    "            root = stack.pop();\n",
    "            \n",
    "            // if the right subtree is not yet processed\n",
    "            if (!stack.isEmpty() && root.right == stack.peek()) {\n",
    "                stack.pop();\n",
    "                stack.push(root);\n",
    "                root = root.right;  \n",
    "            // if we're on the leftmost leaf  \n",
    "            } else {\n",
    "                output.add(root.val);\n",
    "                root = null;     \n",
    "            }   \n",
    "        }\n",
    "\n",
    "        return output;\n",
    "    }\n",
    "}"
   ]
  }
 ],
 "metadata": {
  "kernelspec": {
   "display_name": "Python 3",
   "language": "python",
   "name": "python3"
  },
  "language_info": {
   "codemirror_mode": {
    "name": "ipython",
    "version": 3
   },
   "file_extension": ".py",
   "mimetype": "text/x-python",
   "name": "python",
   "nbconvert_exporter": "python",
   "pygments_lexer": "ipython3",
   "version": "3.8.5"
  }
 },
 "nbformat": 4,
 "nbformat_minor": 4
}
