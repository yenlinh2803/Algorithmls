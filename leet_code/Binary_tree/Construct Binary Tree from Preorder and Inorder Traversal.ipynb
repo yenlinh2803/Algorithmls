{
 "cells": [
  {
   "cell_type": "code",
   "execution_count": 1,
   "metadata": {},
   "outputs": [],
   "source": [
    "# Given preorder and inorder traversal of a tree, construct the binary tree.\n",
    "\n",
    "# Note:\n",
    "# You may assume that duplicates do not exist in the tree.\n",
    "\n",
    "# For example, given\n",
    "\n",
    "# preorder = [3,9,20,15,7]\n",
    "# inorder = [9,3,15,20,7]\n",
    "# Return the following binary tree:\n",
    "\n",
    "#     3\n",
    "#    / \\\n",
    "#   9  20\n",
    "#     /  \\\n",
    "#    15   7"
   ]
  },
  {
   "cell_type": "code",
   "execution_count": 2,
   "metadata": {},
   "outputs": [],
   "source": [
    "# # Definition for a binary tree node.\n",
    "# # class TreeNode:\n",
    "# #     def __init__(self, val=0, left=None, right=None):\n",
    "# #         self.val = val\n",
    "# #         self.left = left\n",
    "# #         self.right = right\n",
    "# class Solution:\n",
    "#     def buildTree(self, preorder: List[int], inorder: List[int]) -> TreeNode:\n",
    "        "
   ]
  },
  {
   "cell_type": "code",
   "execution_count": null,
   "metadata": {},
   "outputs": [],
   "source": []
  }
 ],
 "metadata": {
  "kernelspec": {
   "display_name": "Python 3",
   "language": "python",
   "name": "python3"
  },
  "language_info": {
   "codemirror_mode": {
    "name": "ipython",
    "version": 3
   },
   "file_extension": ".py",
   "mimetype": "text/x-python",
   "name": "python",
   "nbconvert_exporter": "python",
   "pygments_lexer": "ipython3",
   "version": "3.8.5"
  }
 },
 "nbformat": 4,
 "nbformat_minor": 4
}
