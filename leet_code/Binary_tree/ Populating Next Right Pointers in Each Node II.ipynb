{
 "cells": [
  {
   "cell_type": "code",
   "execution_count": 2,
   "metadata": {},
   "outputs": [],
   "source": [
    "# Given a binary tree\n",
    "\n",
    "# struct Node {\n",
    "#   int val;\n",
    "#   Node *left;\n",
    "#   Node *right;\n",
    "#   Node *next;\n",
    "# }\n",
    "# Populate each next pointer to point to its next right node. If there is no next right node, the next pointer should be set to NULL.\n",
    "\n",
    "# Initially, all next pointers are set to NULL.\n",
    "\n",
    " \n",
    "\n",
    "# Follow up:\n",
    "\n",
    "# You may only use constant extra space.\n",
    "# Recursive approach is fine, you may assume implicit stack space does not count as extra space for this problem.\n",
    "\n",
    "# Input: root = [1,2,3,4,5,null,7]\n",
    "# Output: [1,#,2,3,#,4,5,7,#]\n",
    "# Explanation: Given the above binary tree (Figure A), your function should populate each next pointer to point to its next right node, just like in Figure B. The serialized output is in level order as connected by the next pointers, with '#' signifying the end of each level.\n",
    " \n",
    "\n",
    "# Constraints:\n",
    "\n",
    "# The number of nodes in the given tree is less than 6000.\n",
    "# -100 <= node.val <= 100"
   ]
  },
  {
   "cell_type": "code",
   "execution_count": null,
   "metadata": {},
   "outputs": [],
   "source": []
  }
 ],
 "metadata": {
  "kernelspec": {
   "display_name": "Python 3",
   "language": "python",
   "name": "python3"
  },
  "language_info": {
   "codemirror_mode": {
    "name": "ipython",
    "version": 3
   },
   "file_extension": ".py",
   "mimetype": "text/x-python",
   "name": "python",
   "nbconvert_exporter": "python",
   "pygments_lexer": "ipython3",
   "version": "3.8.5"
  }
 },
 "nbformat": 4,
 "nbformat_minor": 4
}
