{
 "cells": [
  {
   "cell_type": "code",
   "execution_count": null,
   "metadata": {},
   "outputs": [],
   "source": [
    "# Example 1:\n",
    "\n",
    "# Input\n",
    "# [\"RecentCounter\", \"ping\", \"ping\", \"ping\", \"ping\"]\n",
    "# [[], [1], [100], [3001], [3002]]\n",
    "# Output\n",
    "# [null, 1, 2, 3, 3]\n",
    "\n",
    "# Explanation\n",
    "# RecentCounter recentCounter = new RecentCounter();\n",
    "# recentCounter.ping(1);     // requests = [1], range is [-2999,1], return 1\n",
    "# recentCounter.ping(100);   // requests = [1, 100], range is [-2900,100], return 2\n",
    "# recentCounter.ping(3001);  // requests = [1, 100, 3001], range is [1,3001], return 3\n",
    "# recentCounter.ping(3002);  // requests = [1, 100, 3001, 3002], range is [2,3002], return 3\n",
    "\n"
   ]
  },
  {
   "cell_type": "code",
   "execution_count": null,
   "metadata": {},
   "outputs": [],
   "source": [
    "class RecentCounter:\n",
    "\n",
    "    def __init__(self):\n",
    "        self.queue = []\n",
    "        \n",
    "\n",
    "    def ping(self, t: int) -> int:\n",
    "        self.queue.append(t)\n",
    "        while t-3000 > self.queue[0]:\n",
    "            self.queue = self.queue[1:]\n",
    "        return len(self.queue)"
   ]
  }
 ],
 "metadata": {
  "kernelspec": {
   "display_name": "Python 3",
   "language": "python",
   "name": "python3"
  },
  "language_info": {
   "codemirror_mode": {
    "name": "ipython",
    "version": 3
   },
   "file_extension": ".py",
   "mimetype": "text/x-python",
   "name": "python",
   "nbconvert_exporter": "python",
   "pygments_lexer": "ipython3",
   "version": "3.8.5"
  }
 },
 "nbformat": 4,
 "nbformat_minor": 4
}
