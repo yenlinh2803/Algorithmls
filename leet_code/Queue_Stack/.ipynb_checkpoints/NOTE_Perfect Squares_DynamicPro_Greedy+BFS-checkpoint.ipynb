{
 "cells": [
  {
   "cell_type": "code",
   "execution_count": 3,
   "metadata": {},
   "outputs": [],
   "source": [
    "import numpy as np\n",
    "def is_square(x):\n",
    "    y = np.sqrt(x)\n",
    "    return y == int(y)\n",
    "def get_list_square_smaller(x):\n",
    "    return [i for i in range(1, x) if is_square(i)]\n",
    "def get_smallest_sep(x):\n",
    "    if is_square(x):\n",
    "        return 1\n",
    "    else:\n",
    "        return 1 + min([get_smallest_sep(x - i) for i in get_list_square_smaller(x)])"
   ]
  },
  {
   "cell_type": "code",
   "execution_count": 5,
   "metadata": {},
   "outputs": [
    {
     "data": {
      "text/plain": [
       "4"
      ]
     },
     "execution_count": 5,
     "metadata": {},
     "output_type": "execute_result"
    }
   ],
   "source": [
    "get_smallest_sep(55)"
   ]
  },
  {
   "cell_type": "code",
   "execution_count": null,
   "metadata": {},
   "outputs": [],
   "source": [
    "#  stack over flow\n",
    "# Deep First Search\n",
    "\n",
    "class Solution:\n",
    "    def numSquares(self, n: int) -> int:\n",
    "        def is_square(n):\n",
    "            import numpy as np\n",
    "            y = np.sqrt(n)\n",
    "            return y == int(y)\n",
    "        def get_list_square_smaller(n):\n",
    "            return [i for i in range(1, n) if is_square(i)]\n",
    "\n",
    "        if is_square(n):\n",
    "            return 1\n",
    "        else:\n",
    "            return 1 + min([self.numSquares(n - i) for i in get_list_square_smaller(n)])\n",
    "        # return minNumSquares(n)"
   ]
  },
  {
   "cell_type": "code",
   "execution_count": null,
   "metadata": {},
   "outputs": [],
   "source": [
    "# Q's solution:\n",
    "# Deep First Search: Top down\n",
    "\n",
    "class Solution:\n",
    "    def numSquares(self, n: int) -> int:\n",
    "        res = {0:0}\n",
    "        squares = []\n",
    "        for i in range(1,n+1):\n",
    "            if i * i <= n:\n",
    "                squares.append(i*i)\n",
    "        def calc(num):\n",
    "            if num in res:\n",
    "                return res[num]\n",
    "            smallest = n\n",
    "            for i in range(len(squares)):\n",
    "                if squares[i] <= num:\n",
    "                    smallest = min(smallest, calc(num-squares[i]))\n",
    "                else:\n",
    "                    break\n",
    "            res[num] = smallest + 1\n",
    "            return res[num]\n",
    "        return calc(n)"
   ]
  },
  {
   "cell_type": "code",
   "execution_count": null,
   "metadata": {},
   "outputs": [],
   "source": [
    "# Deep First Search: Bottom up\n",
    "class Solution(object):\n",
    "    def numSquares(self, n):\n",
    "        \"\"\"\n",
    "        :type n: int\n",
    "        :rtype: int\n",
    "        \"\"\"\n",
    "        square_nums = [i**2 for i in range(0, int(math.sqrt(n))+1)]\n",
    "        \n",
    "        dp = [float('inf')] * (n+1)\n",
    "        # bottom case\n",
    "        dp[0] = 0\n",
    "        \n",
    "        for i in range(1, n+1):\n",
    "            for square in square_nums:\n",
    "                if i < square:\n",
    "                    break\n",
    "                dp[i] = min(dp[i], dp[i-square] + 1)\n",
    "        \n",
    "        return dp[-1]"
   ]
  }
 ],
 "metadata": {
  "kernelspec": {
   "display_name": "Python 3",
   "language": "python",
   "name": "python3"
  },
  "language_info": {
   "codemirror_mode": {
    "name": "ipython",
    "version": 3
   },
   "file_extension": ".py",
   "mimetype": "text/x-python",
   "name": "python",
   "nbconvert_exporter": "python",
   "pygments_lexer": "ipython3",
   "version": "3.8.5"
  }
 },
 "nbformat": 4,
 "nbformat_minor": 4
}
