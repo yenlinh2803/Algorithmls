{
 "cells": [
  {
   "cell_type": "code",
   "execution_count": null,
   "metadata": {},
   "outputs": [],
   "source": []
  },
  {
   "cell_type": "code",
   "execution_count": null,
   "metadata": {},
   "outputs": [],
   "source": [
    "# Note: \n",
    "# for i in range(len_t-1, -1,-1) \n",
    "# pop() & peek()\n",
    "# peek() = stack[-1]\n",
    "# pop(): get and remove the final value\n",
    "# peek: get but not remove the final value "
   ]
  },
  {
   "cell_type": "code",
   "execution_count": null,
   "metadata": {},
   "outputs": [],
   "source": [
    "# Linh code\n",
    "class Solution:\n",
    "    def dailyTemperatures(self, T: List[int]) -> List[int]:\n",
    "        if len(T) == 0:\n",
    "            return [0]\n",
    "        output = [0 for i in range(0,len(T))]\n",
    "        index_stack = []\n",
    "        \n",
    "        len_t = len(T)\n",
    "        for i in range(len_t-1, -1,-1):\n",
    "            print(\"i:\",i)\n",
    "            while len(index_stack)>0 and T[i]>=T[index_stack[-1]]:\n",
    "                index_stack.pop()\n",
    "            if len(index_stack)==0:\n",
    "                output[i]=0\n",
    "            else:\n",
    "                output[i] = index_stack[-1]-i\n",
    "            index_stack.append(i)\n",
    "        return output\n",
    "                \n",
    "                \n",
    "                "
   ]
  }
 ],
 "metadata": {
  "kernelspec": {
   "display_name": "Python 3",
   "language": "python",
   "name": "python3"
  },
  "language_info": {
   "codemirror_mode": {
    "name": "ipython",
    "version": 3
   },
   "file_extension": ".py",
   "mimetype": "text/x-python",
   "name": "python",
   "nbconvert_exporter": "python",
   "pygments_lexer": "ipython3",
   "version": "3.8.5"
  }
 },
 "nbformat": 4,
 "nbformat_minor": 4
}
