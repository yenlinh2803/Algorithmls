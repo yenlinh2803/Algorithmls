{
 "cells": [
  {
   "cell_type": "code",
   "execution_count": 42,
   "metadata": {},
   "outputs": [],
   "source": [
    "import collections"
   ]
  },
  {
   "cell_type": "code",
   "execution_count": null,
   "metadata": {},
   "outputs": [],
   "source": [
    "class Solution:\n",
    "    def openLock(self, deadends: List[str], target: str) -> int:\n",
    "        def neighbors(node):\n",
    "            neighbor_list = []\n",
    "            for i in range(0,4):\n",
    "                x=int(node[i])\n",
    "                for d in [-1,1]:\n",
    "                    change_value = (x+d)%10\n",
    "                    new_nb = node[:i]+str(change_value)+node[i+1:]\n",
    "                    neighbor_list.append(new_nb)\n",
    "            return neighbor_list\n",
    "        \n",
    "        check_list = {'0000'}\n",
    "        queue = collections.deque([('0000',0)])\n",
    "        deadends_temp = set(deadends)\n",
    "        while queue:\n",
    "            node , depth = queue.popleft()\n",
    "            if node ==target : return depth\n",
    "            if node in deadends_temp: continue \n",
    "            neighbor_list = neighbors(node)\n",
    "            for nb in neighbor_list: \n",
    "                if nb not in check_list:\n",
    "                    check_list.add(nb)\n",
    "                    queue.append((nb,depth+1))\n",
    "        return -1 \n",
    "        \n",
    "        "
   ]
  },
  {
   "cell_type": "code",
   "execution_count": null,
   "metadata": {},
   "outputs": [],
   "source": []
  }
 ],
 "metadata": {
  "kernelspec": {
   "display_name": "Python 3",
   "language": "python",
   "name": "python3"
  },
  "language_info": {
   "codemirror_mode": {
    "name": "ipython",
    "version": 3
   },
   "file_extension": ".py",
   "mimetype": "text/x-python",
   "name": "python",
   "nbconvert_exporter": "python",
   "pygments_lexer": "ipython3",
   "version": "3.8.5"
  }
 },
 "nbformat": 4,
 "nbformat_minor": 4
}
