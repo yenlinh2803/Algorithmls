{
 "cells": [
  {
   "cell_type": "code",
   "execution_count": null,
   "metadata": {},
   "outputs": [],
   "source": [
    "Input: nums is [1, 1, 1, 1, 1], S is 3. \n",
    "Output: 5\n",
    "Explanation: \n",
    "-1+1+1+1+1 = 3\n",
    "+1-1+1+1+1 = 3\n",
    "+1+1-1+1+1 = 3\n",
    "+1+1+1-1+1 = 3\n",
    "+1+1+1+1-1 = 3\n",
    "There are 5 ways to assign symbols to make the sum of nums be target 3."
   ]
  },
  {
   "cell_type": "code",
   "execution_count": null,
   "metadata": {},
   "outputs": [],
   "source": [
    "\n",
    "# AQ chỉ code:\n",
    "# Brute force : Time Limit voi python\n",
    "class Solution:\n",
    "    def findTargetSumWays(self, nums: List[int], S: int) -> int:\n",
    "        cnt = {\"value\":0}\n",
    "        def dfs(idx, currentSum):\n",
    "            if idx == len(nums):\n",
    "                if currentSum == S:\n",
    "                    cnt[\"value\"] = cnt[\"value\"] +1 \n",
    "                    return \n",
    "            else:\n",
    "                dfs(idx+1, currentSum + nums[idx] * 1)\n",
    "                dfs(idx+1, currentSum + nums[idx] * (-1))\n",
    "        \n",
    "        dfs(0, 0)\n",
    "        return cnt[\"value\"]"
   ]
  },
  {
   "cell_type": "code",
   "execution_count": null,
   "metadata": {},
   "outputs": [],
   "source": [
    "class Solution:\n",
    "    def findTargetSumWays(self, nums: List[int], S: int) -> int:\n",
    "        total_sum = sum(nums)\n",
    "        if total_sum < S or (total_sum + S)%2 != 0 :\n",
    "            return 0\n",
    "        required_sum = (total_sum + S) // 2\n",
    "        memo = [[0 for j in range(required_sum+1)]for i in range(len(nums)+1)]\n",
    "        memo[0][0] = 1    \n",
    "        for i in range(1, len(memo)):\n",
    "            for j in range(len(memo[0])):\n",
    "                if nums[i-1] <= j:\n",
    "                    memo[i][j] = memo[i-1][j-nums[i-1]] + memo[i-1][j]\n",
    "                else:\n",
    "                    memo[i][j] = memo[i-1][j]\n",
    "        return memo[-1][-1]"
   ]
  },
  {
   "cell_type": "code",
   "execution_count": 28,
   "metadata": {},
   "outputs": [],
   "source": [
    "nums = [1, 2, 1, 1, 1]\n",
    "S = 4"
   ]
  },
  {
   "cell_type": "code",
   "execution_count": 35,
   "metadata": {},
   "outputs": [
    {
     "name": "stdout",
     "output_type": "stream",
     "text": [
      "total_sum=  6\n",
      "required_sum=  5\n"
     ]
    }
   ],
   "source": [
    "total_sum = sum(nums)\n",
    "print(\"total_sum= \",total_sum)\n",
    "if total_sum < S or (total_sum + S)%2 != 0 :\n",
    "        print(\"total_sum < S or (total_sum + S)%2 != 0 then \",0)\n",
    "required_sum = (total_sum + S) // 2\n",
    "print(\"required_sum= \",required_sum)"
   ]
  },
  {
   "cell_type": "code",
   "execution_count": 36,
   "metadata": {},
   "outputs": [
    {
     "data": {
      "text/plain": [
       "[[0, 0, 0, 0, 0, 0],\n",
       " [0, 0, 0, 0, 0, 0],\n",
       " [0, 0, 0, 0, 0, 0],\n",
       " [0, 0, 0, 0, 0, 0],\n",
       " [0, 0, 0, 0, 0, 0],\n",
       " [0, 0, 0, 0, 0, 0]]"
      ]
     },
     "execution_count": 36,
     "metadata": {},
     "output_type": "execute_result"
    }
   ],
   "source": [
    "memo = [[0 for j in range(required_sum+1)]for i in range(len(nums)+1)]\n",
    "memo"
   ]
  },
  {
   "cell_type": "code",
   "execution_count": 37,
   "metadata": {},
   "outputs": [
    {
     "data": {
      "text/plain": [
       "[[1, 0, 0, 0, 0, 0],\n",
       " [0, 0, 0, 0, 0, 0],\n",
       " [0, 0, 0, 0, 0, 0],\n",
       " [0, 0, 0, 0, 0, 0],\n",
       " [0, 0, 0, 0, 0, 0],\n",
       " [0, 0, 0, 0, 0, 0]]"
      ]
     },
     "execution_count": 37,
     "metadata": {},
     "output_type": "execute_result"
    }
   ],
   "source": [
    "memo[0][0] = 1    \n",
    "memo"
   ]
  },
  {
   "cell_type": "code",
   "execution_count": 38,
   "metadata": {},
   "outputs": [
    {
     "data": {
      "text/plain": [
       "0"
      ]
     },
     "execution_count": 38,
     "metadata": {},
     "output_type": "execute_result"
    }
   ],
   "source": [
    "(total_sum + S)%2"
   ]
  },
  {
   "cell_type": "code",
   "execution_count": 39,
   "metadata": {},
   "outputs": [
    {
     "name": "stdout",
     "output_type": "stream",
     "text": [
      "i: 1 & j: 0\n",
      "memo: \n",
      " [[1, 0, 0, 0, 0, 0], [1, 0, 0, 0, 0, 0], [0, 0, 0, 0, 0, 0], [0, 0, 0, 0, 0, 0], [0, 0, 0, 0, 0, 0], [0, 0, 0, 0, 0, 0]]\n",
      "i: 1 & j: 1\n",
      "memo[i][j] = memo[i-1][j-nums[i-1]] + memo[i-1][j]\n",
      "memo[1][1] = memo[0][1-nums[0]] + memo[0][1]\n",
      "memo[1][1] = 1 + 0\n",
      "memo: \n",
      " [[1, 0, 0, 0, 0, 0], [1, 1, 0, 0, 0, 0], [0, 0, 0, 0, 0, 0], [0, 0, 0, 0, 0, 0], [0, 0, 0, 0, 0, 0], [0, 0, 0, 0, 0, 0]]\n",
      "i: 1 & j: 2\n",
      "memo[i][j] = memo[i-1][j-nums[i-1]] + memo[i-1][j]\n",
      "memo[1][2] = memo[0][2-nums[0]] + memo[0][2]\n",
      "memo[1][2] = 0 + 0\n",
      "memo: \n",
      " [[1, 0, 0, 0, 0, 0], [1, 1, 0, 0, 0, 0], [0, 0, 0, 0, 0, 0], [0, 0, 0, 0, 0, 0], [0, 0, 0, 0, 0, 0], [0, 0, 0, 0, 0, 0]]\n",
      "i: 1 & j: 3\n",
      "memo[i][j] = memo[i-1][j-nums[i-1]] + memo[i-1][j]\n",
      "memo[1][3] = memo[0][3-nums[0]] + memo[0][3]\n",
      "memo[1][3] = 0 + 0\n",
      "memo: \n",
      " [[1, 0, 0, 0, 0, 0], [1, 1, 0, 0, 0, 0], [0, 0, 0, 0, 0, 0], [0, 0, 0, 0, 0, 0], [0, 0, 0, 0, 0, 0], [0, 0, 0, 0, 0, 0]]\n",
      "i: 1 & j: 4\n",
      "memo[i][j] = memo[i-1][j-nums[i-1]] + memo[i-1][j]\n",
      "memo[1][4] = memo[0][4-nums[0]] + memo[0][4]\n",
      "memo[1][4] = 0 + 0\n",
      "memo: \n",
      " [[1, 0, 0, 0, 0, 0], [1, 1, 0, 0, 0, 0], [0, 0, 0, 0, 0, 0], [0, 0, 0, 0, 0, 0], [0, 0, 0, 0, 0, 0], [0, 0, 0, 0, 0, 0]]\n",
      "i: 1 & j: 5\n",
      "memo[i][j] = memo[i-1][j-nums[i-1]] + memo[i-1][j]\n",
      "memo[1][5] = memo[0][5-nums[0]] + memo[0][5]\n",
      "memo[1][5] = 0 + 0\n",
      "memo: \n",
      " [[1, 0, 0, 0, 0, 0], [1, 1, 0, 0, 0, 0], [0, 0, 0, 0, 0, 0], [0, 0, 0, 0, 0, 0], [0, 0, 0, 0, 0, 0], [0, 0, 0, 0, 0, 0]]\n",
      "i: 2 & j: 0\n",
      "memo: \n",
      " [[1, 0, 0, 0, 0, 0], [1, 1, 0, 0, 0, 0], [1, 0, 0, 0, 0, 0], [0, 0, 0, 0, 0, 0], [0, 0, 0, 0, 0, 0], [0, 0, 0, 0, 0, 0]]\n",
      "i: 2 & j: 1\n",
      "memo: \n",
      " [[1, 0, 0, 0, 0, 0], [1, 1, 0, 0, 0, 0], [1, 1, 0, 0, 0, 0], [0, 0, 0, 0, 0, 0], [0, 0, 0, 0, 0, 0], [0, 0, 0, 0, 0, 0]]\n",
      "i: 2 & j: 2\n",
      "memo[i][j] = memo[i-1][j-nums[i-1]] + memo[i-1][j]\n",
      "memo[2][2] = memo[1][2-nums[1]] + memo[1][2]\n",
      "memo[2][2] = 1 + 0\n",
      "memo: \n",
      " [[1, 0, 0, 0, 0, 0], [1, 1, 0, 0, 0, 0], [1, 1, 1, 0, 0, 0], [0, 0, 0, 0, 0, 0], [0, 0, 0, 0, 0, 0], [0, 0, 0, 0, 0, 0]]\n",
      "i: 2 & j: 3\n",
      "memo[i][j] = memo[i-1][j-nums[i-1]] + memo[i-1][j]\n",
      "memo[2][3] = memo[1][3-nums[1]] + memo[1][3]\n",
      "memo[2][3] = 1 + 0\n",
      "memo: \n",
      " [[1, 0, 0, 0, 0, 0], [1, 1, 0, 0, 0, 0], [1, 1, 1, 1, 0, 0], [0, 0, 0, 0, 0, 0], [0, 0, 0, 0, 0, 0], [0, 0, 0, 0, 0, 0]]\n",
      "i: 2 & j: 4\n",
      "memo[i][j] = memo[i-1][j-nums[i-1]] + memo[i-1][j]\n",
      "memo[2][4] = memo[1][4-nums[1]] + memo[1][4]\n",
      "memo[2][4] = 0 + 0\n",
      "memo: \n",
      " [[1, 0, 0, 0, 0, 0], [1, 1, 0, 0, 0, 0], [1, 1, 1, 1, 0, 0], [0, 0, 0, 0, 0, 0], [0, 0, 0, 0, 0, 0], [0, 0, 0, 0, 0, 0]]\n",
      "i: 2 & j: 5\n",
      "memo[i][j] = memo[i-1][j-nums[i-1]] + memo[i-1][j]\n",
      "memo[2][5] = memo[1][5-nums[1]] + memo[1][5]\n",
      "memo[2][5] = 0 + 0\n",
      "memo: \n",
      " [[1, 0, 0, 0, 0, 0], [1, 1, 0, 0, 0, 0], [1, 1, 1, 1, 0, 0], [0, 0, 0, 0, 0, 0], [0, 0, 0, 0, 0, 0], [0, 0, 0, 0, 0, 0]]\n",
      "i: 3 & j: 0\n",
      "memo: \n",
      " [[1, 0, 0, 0, 0, 0], [1, 1, 0, 0, 0, 0], [1, 1, 1, 1, 0, 0], [1, 0, 0, 0, 0, 0], [0, 0, 0, 0, 0, 0], [0, 0, 0, 0, 0, 0]]\n",
      "i: 3 & j: 1\n",
      "memo[i][j] = memo[i-1][j-nums[i-1]] + memo[i-1][j]\n",
      "memo[3][1] = memo[2][1-nums[2]] + memo[2][1]\n",
      "memo[3][1] = 1 + 1\n",
      "memo: \n",
      " [[1, 0, 0, 0, 0, 0], [1, 1, 0, 0, 0, 0], [1, 1, 1, 1, 0, 0], [1, 2, 0, 0, 0, 0], [0, 0, 0, 0, 0, 0], [0, 0, 0, 0, 0, 0]]\n",
      "i: 3 & j: 2\n",
      "memo[i][j] = memo[i-1][j-nums[i-1]] + memo[i-1][j]\n",
      "memo[3][2] = memo[2][2-nums[2]] + memo[2][2]\n",
      "memo[3][2] = 1 + 1\n",
      "memo: \n",
      " [[1, 0, 0, 0, 0, 0], [1, 1, 0, 0, 0, 0], [1, 1, 1, 1, 0, 0], [1, 2, 2, 0, 0, 0], [0, 0, 0, 0, 0, 0], [0, 0, 0, 0, 0, 0]]\n",
      "i: 3 & j: 3\n",
      "memo[i][j] = memo[i-1][j-nums[i-1]] + memo[i-1][j]\n",
      "memo[3][3] = memo[2][3-nums[2]] + memo[2][3]\n",
      "memo[3][3] = 1 + 1\n",
      "memo: \n",
      " [[1, 0, 0, 0, 0, 0], [1, 1, 0, 0, 0, 0], [1, 1, 1, 1, 0, 0], [1, 2, 2, 2, 0, 0], [0, 0, 0, 0, 0, 0], [0, 0, 0, 0, 0, 0]]\n",
      "i: 3 & j: 4\n",
      "memo[i][j] = memo[i-1][j-nums[i-1]] + memo[i-1][j]\n",
      "memo[3][4] = memo[2][4-nums[2]] + memo[2][4]\n",
      "memo[3][4] = 1 + 0\n",
      "memo: \n",
      " [[1, 0, 0, 0, 0, 0], [1, 1, 0, 0, 0, 0], [1, 1, 1, 1, 0, 0], [1, 2, 2, 2, 1, 0], [0, 0, 0, 0, 0, 0], [0, 0, 0, 0, 0, 0]]\n",
      "i: 3 & j: 5\n",
      "memo[i][j] = memo[i-1][j-nums[i-1]] + memo[i-1][j]\n",
      "memo[3][5] = memo[2][5-nums[2]] + memo[2][5]\n",
      "memo[3][5] = 0 + 0\n",
      "memo: \n",
      " [[1, 0, 0, 0, 0, 0], [1, 1, 0, 0, 0, 0], [1, 1, 1, 1, 0, 0], [1, 2, 2, 2, 1, 0], [0, 0, 0, 0, 0, 0], [0, 0, 0, 0, 0, 0]]\n",
      "i: 4 & j: 0\n",
      "memo: \n",
      " [[1, 0, 0, 0, 0, 0], [1, 1, 0, 0, 0, 0], [1, 1, 1, 1, 0, 0], [1, 2, 2, 2, 1, 0], [1, 0, 0, 0, 0, 0], [0, 0, 0, 0, 0, 0]]\n",
      "i: 4 & j: 1\n",
      "memo[i][j] = memo[i-1][j-nums[i-1]] + memo[i-1][j]\n",
      "memo[4][1] = memo[3][1-nums[3]] + memo[3][1]\n",
      "memo[4][1] = 1 + 2\n",
      "memo: \n",
      " [[1, 0, 0, 0, 0, 0], [1, 1, 0, 0, 0, 0], [1, 1, 1, 1, 0, 0], [1, 2, 2, 2, 1, 0], [1, 3, 0, 0, 0, 0], [0, 0, 0, 0, 0, 0]]\n",
      "i: 4 & j: 2\n",
      "memo[i][j] = memo[i-1][j-nums[i-1]] + memo[i-1][j]\n",
      "memo[4][2] = memo[3][2-nums[3]] + memo[3][2]\n",
      "memo[4][2] = 2 + 2\n",
      "memo: \n",
      " [[1, 0, 0, 0, 0, 0], [1, 1, 0, 0, 0, 0], [1, 1, 1, 1, 0, 0], [1, 2, 2, 2, 1, 0], [1, 3, 4, 0, 0, 0], [0, 0, 0, 0, 0, 0]]\n",
      "i: 4 & j: 3\n",
      "memo[i][j] = memo[i-1][j-nums[i-1]] + memo[i-1][j]\n",
      "memo[4][3] = memo[3][3-nums[3]] + memo[3][3]\n",
      "memo[4][3] = 2 + 2\n",
      "memo: \n",
      " [[1, 0, 0, 0, 0, 0], [1, 1, 0, 0, 0, 0], [1, 1, 1, 1, 0, 0], [1, 2, 2, 2, 1, 0], [1, 3, 4, 4, 0, 0], [0, 0, 0, 0, 0, 0]]\n",
      "i: 4 & j: 4\n",
      "memo[i][j] = memo[i-1][j-nums[i-1]] + memo[i-1][j]\n",
      "memo[4][4] = memo[3][4-nums[3]] + memo[3][4]\n",
      "memo[4][4] = 2 + 1\n",
      "memo: \n",
      " [[1, 0, 0, 0, 0, 0], [1, 1, 0, 0, 0, 0], [1, 1, 1, 1, 0, 0], [1, 2, 2, 2, 1, 0], [1, 3, 4, 4, 3, 0], [0, 0, 0, 0, 0, 0]]\n",
      "i: 4 & j: 5\n",
      "memo[i][j] = memo[i-1][j-nums[i-1]] + memo[i-1][j]\n",
      "memo[4][5] = memo[3][5-nums[3]] + memo[3][5]\n",
      "memo[4][5] = 1 + 0\n",
      "memo: \n",
      " [[1, 0, 0, 0, 0, 0], [1, 1, 0, 0, 0, 0], [1, 1, 1, 1, 0, 0], [1, 2, 2, 2, 1, 0], [1, 3, 4, 4, 3, 1], [0, 0, 0, 0, 0, 0]]\n",
      "i: 5 & j: 0\n",
      "memo: \n",
      " [[1, 0, 0, 0, 0, 0], [1, 1, 0, 0, 0, 0], [1, 1, 1, 1, 0, 0], [1, 2, 2, 2, 1, 0], [1, 3, 4, 4, 3, 1], [1, 0, 0, 0, 0, 0]]\n",
      "i: 5 & j: 1\n",
      "memo[i][j] = memo[i-1][j-nums[i-1]] + memo[i-1][j]\n",
      "memo[5][1] = memo[4][1-nums[4]] + memo[4][1]\n",
      "memo[5][1] = 1 + 3\n",
      "memo: \n",
      " [[1, 0, 0, 0, 0, 0], [1, 1, 0, 0, 0, 0], [1, 1, 1, 1, 0, 0], [1, 2, 2, 2, 1, 0], [1, 3, 4, 4, 3, 1], [1, 4, 0, 0, 0, 0]]\n",
      "i: 5 & j: 2\n",
      "memo[i][j] = memo[i-1][j-nums[i-1]] + memo[i-1][j]\n",
      "memo[5][2] = memo[4][2-nums[4]] + memo[4][2]\n",
      "memo[5][2] = 3 + 4\n",
      "memo: \n",
      " [[1, 0, 0, 0, 0, 0], [1, 1, 0, 0, 0, 0], [1, 1, 1, 1, 0, 0], [1, 2, 2, 2, 1, 0], [1, 3, 4, 4, 3, 1], [1, 4, 7, 0, 0, 0]]\n",
      "i: 5 & j: 3\n",
      "memo[i][j] = memo[i-1][j-nums[i-1]] + memo[i-1][j]\n",
      "memo[5][3] = memo[4][3-nums[4]] + memo[4][3]\n",
      "memo[5][3] = 4 + 4\n",
      "memo: \n",
      " [[1, 0, 0, 0, 0, 0], [1, 1, 0, 0, 0, 0], [1, 1, 1, 1, 0, 0], [1, 2, 2, 2, 1, 0], [1, 3, 4, 4, 3, 1], [1, 4, 7, 8, 0, 0]]\n",
      "i: 5 & j: 4\n",
      "memo[i][j] = memo[i-1][j-nums[i-1]] + memo[i-1][j]\n",
      "memo[5][4] = memo[4][4-nums[4]] + memo[4][4]\n",
      "memo[5][4] = 4 + 3\n",
      "memo: \n",
      " [[1, 0, 0, 0, 0, 0], [1, 1, 0, 0, 0, 0], [1, 1, 1, 1, 0, 0], [1, 2, 2, 2, 1, 0], [1, 3, 4, 4, 3, 1], [1, 4, 7, 8, 7, 0]]\n",
      "i: 5 & j: 5\n",
      "memo[i][j] = memo[i-1][j-nums[i-1]] + memo[i-1][j]\n",
      "memo[5][5] = memo[4][5-nums[4]] + memo[4][5]\n",
      "memo[5][5] = 3 + 1\n",
      "memo: \n",
      " [[1, 0, 0, 0, 0, 0], [1, 1, 0, 0, 0, 0], [1, 1, 1, 1, 0, 0], [1, 2, 2, 2, 1, 0], [1, 3, 4, 4, 3, 1], [1, 4, 7, 8, 7, 4]]\n"
     ]
    }
   ],
   "source": [
    "for i in range(1, len(memo)):\n",
    "    for j in range(len(memo[0])):\n",
    "        print(f\"i: {i} & j: {j}\")\n",
    "        if nums[i-1] <= j:\n",
    "            memo[i][j] = memo[i-1][j-nums[i-1]] + memo[i-1][j]\n",
    "            print(\"memo[i][j] = memo[i-1][j-nums[i-1]] + memo[i-1][j]\")\n",
    "            print(f\"memo[{i}][{j}] = memo[{i-1}][{j}-nums[{i-1}]] + memo[{i-1}][{j}]\")\n",
    "            print(f\"memo[{i}][{j}] = {memo[i-1][j-nums[i-1]]} + {memo[i-1][j]}\")\n",
    "        else:\n",
    "            memo[i][j] = memo[i-1][j]\n",
    "        print(\"memo: \\n\",memo)"
   ]
  },
  {
   "cell_type": "code",
   "execution_count": 40,
   "metadata": {},
   "outputs": [
    {
     "data": {
      "text/plain": [
       "4"
      ]
     },
     "execution_count": 40,
     "metadata": {},
     "output_type": "execute_result"
    }
   ],
   "source": [
    "memo[-1][-1]"
   ]
  },
  {
   "cell_type": "code",
   "execution_count": null,
   "metadata": {},
   "outputs": [],
   "source": []
  }
 ],
 "metadata": {
  "kernelspec": {
   "display_name": "Python 3",
   "language": "python",
   "name": "python3"
  },
  "language_info": {
   "codemirror_mode": {
    "name": "ipython",
    "version": 3
   },
   "file_extension": ".py",
   "mimetype": "text/x-python",
   "name": "python",
   "nbconvert_exporter": "python",
   "pygments_lexer": "ipython3",
   "version": "3.8.5"
  }
 },
 "nbformat": 4,
 "nbformat_minor": 4
}
