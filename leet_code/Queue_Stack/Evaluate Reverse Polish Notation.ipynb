{
 "cells": [
  {
   "cell_type": "code",
   "execution_count": null,
   "metadata": {},
   "outputs": [],
   "source": []
  },
  {
   "cell_type": "code",
   "execution_count": null,
   "metadata": {},
   "outputs": [],
   "source": [
    "# Input:\n",
    "# [\"4\",\"13\",\"5\",\"/\",\"+\"]\n",
    "# Output:\n",
    "# 4\n",
    "# Expected:\n",
    "# 6\n",
    "\n",
    "\n",
    "# Input:\n",
    "# [\"0\",\"3\",\"/\"]\n",
    "# Output:\n",
    "# 0.0\n",
    "# Expected:\n",
    "# 0"
   ]
  },
  {
   "cell_type": "code",
   "execution_count": null,
   "metadata": {},
   "outputs": [],
   "source": [
    "class Solution:\n",
    "    def evalRPN(self, tokens: List[str]) -> int:\n",
    "        if len(tokens)==0:\n",
    "            return 0 \n",
    "        cal_char = [\"+\", \"-\", \"*\",\"/\"]\n",
    "        stack = []\n",
    "        for i in tokens:\n",
    "            if i in cal_char:\n",
    "                if len(stack)>=2:\n",
    "                    nb_1 = int(stack.pop())\n",
    "                    nb_2 = int(stack.pop())\n",
    "                    if i==\"+\":\n",
    "                        stack.append(nb_1+nb_2)\n",
    "                    elif i==\"-\":\n",
    "                        stack.append(nb_2- nb_1)\n",
    "                    elif i==\"*\":\n",
    "                        stack.append(nb_1* nb_2)\n",
    "                    elif i==\"/\":\n",
    "                        print(f\"nb_1= {nb_1} & nb_2 = {nb_2}\")\n",
    "                        stack.append(int(nb_2/nb_1))\n",
    "            else:\n",
    "                stack.append(i)\n",
    "        return stack.pop()"
   ]
  }
 ],
 "metadata": {
  "kernelspec": {
   "display_name": "Python 3",
   "language": "python",
   "name": "python3"
  },
  "language_info": {
   "codemirror_mode": {
    "name": "ipython",
    "version": 3
   },
   "file_extension": ".py",
   "mimetype": "text/x-python",
   "name": "python",
   "nbconvert_exporter": "python",
   "pygments_lexer": "ipython3",
   "version": "3.8.5"
  }
 },
 "nbformat": 4,
 "nbformat_minor": 4
}
