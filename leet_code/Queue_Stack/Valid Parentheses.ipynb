{
 "cells": [
  {
   "cell_type": "code",
   "execution_count": null,
   "metadata": {},
   "outputs": [],
   "source": []
  },
  {
   "cell_type": "code",
   "execution_count": null,
   "metadata": {},
   "outputs": [],
   "source": [
    "# Linh's solution\n",
    "\n",
    "class Solution:\n",
    "    def isValid(self, s: str) -> bool:\n",
    "        import math\n",
    "        s_dict= {\")\":\"(\", \"]\":\"[\",\"}\":\"{\"}\n",
    "        close = [\")\",\"]\",\"}\"]\n",
    "        len_s = len(s)\n",
    "        stack_list = []\n",
    "        check_close = 0\n",
    "        for i in s:\n",
    "            if i in close:\n",
    "                if len(stack_list)==0:\n",
    "                    return False\n",
    "                open_id = stack_list.pop()\n",
    "                if open_id != s_dict[i]:\n",
    "                    return False\n",
    "            else:\n",
    "                stack_list.append(i)\n",
    "        return len(stack_list)==0\n",
    "\n"
   ]
  }
 ],
 "metadata": {
  "kernelspec": {
   "display_name": "Python 3",
   "language": "python",
   "name": "python3"
  },
  "language_info": {
   "codemirror_mode": {
    "name": "ipython",
    "version": 3
   },
   "file_extension": ".py",
   "mimetype": "text/x-python",
   "name": "python",
   "nbconvert_exporter": "python",
   "pygments_lexer": "ipython3",
   "version": "3.8.5"
  }
 },
 "nbformat": 4,
 "nbformat_minor": 4
}
