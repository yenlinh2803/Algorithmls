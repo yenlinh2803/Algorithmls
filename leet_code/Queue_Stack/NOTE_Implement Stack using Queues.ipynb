{
 "cells": [
  {
   "cell_type": "code",
   "execution_count": null,
   "metadata": {},
   "outputs": [],
   "source": [
    "Example 1:\n",
    "\n",
    "Input\n",
    "[\"MyQueue\", \"push\", \"push\", \"peek\", \"pop\", \"empty\"]\n",
    "[[], [1], [2], [], [], []]\n",
    "Output\n",
    "[null, null, null, 1, 1, false]\n",
    "\n",
    "Explanation\n",
    "MyQueue myQueue = new MyQueue();\n",
    "myQueue.push(1); // queue is: [1]\n",
    "myQueue.push(2); // queue is: [1, 2] (leftmost is front of the queue)\n",
    "myQueue.peek(); // return 1\n",
    "myQueue.pop(); // return 1, queue is [2]\n",
    "myQueue.empty(); // return false\n",
    "\n",
    "\n",
    "\n",
    "Your input\n",
    "[\"MyStack\",\"push\",\"push\",\"top\",\"pop\",\"empty\"]\n",
    "[[],[1],[2],[],[],[]]\n",
    "Output\n",
    "[null,null,null,2,2,false]\n",
    "Expected\n",
    "[null,null,null,2,2,false]"
   ]
  },
  {
   "cell_type": "code",
   "execution_count": 1,
   "metadata": {},
   "outputs": [],
   "source": [
    "class MyStack:\n",
    "\n",
    "    def __init__(self):\n",
    "        \"\"\"\n",
    "        Initialize your data structure here.\n",
    "        \"\"\"\n",
    "        self.s1 = []\n",
    "\n",
    "    def push(self, x: int) -> None:\n",
    "        \"\"\"\n",
    "        Push element x onto stack.\n",
    "        \"\"\"\n",
    "        self.s1 = [x,self.s1]\n",
    "\n",
    "    def pop(self) -> int:\n",
    "        \"\"\"\n",
    "        Removes the element on top of the stack and returns that element.\n",
    "        \"\"\"\n",
    "        if len(self.s1)>0:\n",
    "            res = self.s1[0]\n",
    "            self.s1 = self.s1[1]\n",
    "            return res\n",
    "        else:\n",
    "            None\n",
    "        \n",
    "\n",
    "    def top(self) -> int:\n",
    "        \"\"\"\n",
    "        Get the top element.\n",
    "        \"\"\"\n",
    "        if len(self.s1)>0:\n",
    "            return self.s1[0]\n",
    "        else:\n",
    "            return None\n",
    "\n",
    "    def empty(self) -> bool:\n",
    "        \"\"\"\n",
    "        Returns whether the stack is empty.\n",
    "        \"\"\"\n",
    "        if len(self.s1)==0:\n",
    "            return True\n",
    "        else:\n",
    "            return False \n",
    "        \n",
    "\n",
    "\n",
    "# Your MyStack object will be instantiated and called as such:\n",
    "# obj = MyStack()\n",
    "# obj.push(x)\n",
    "# param_2 = obj.pop()\n",
    "# param_3 = obj.top()\n",
    "# param_4 = obj.empty()"
   ]
  },
  {
   "cell_type": "code",
   "execution_count": 2,
   "metadata": {},
   "outputs": [
    {
     "name": "stdout",
     "output_type": "stream",
     "text": [
      "True\n",
      "True\n",
      "False\n",
      "False\n",
      "False\n"
     ]
    }
   ],
   "source": [
    "a = \"\\u0030\" #unicode for 0\n",
    "b = \"\\u00B2\" #unicode for &sup2;\n",
    "c = \"10km2\"\n",
    "d = \"-1\"\n",
    "e = \"1.5\"\n",
    "\n",
    "print(a.isnumeric())\n",
    "print(b.isnumeric())\n",
    "print(c.isnumeric())\n",
    "print(d.isnumeric())\n",
    "print(e.isnumeric())"
   ]
  },
  {
   "cell_type": "code",
   "execution_count": null,
   "metadata": {},
   "outputs": [],
   "source": []
  }
 ],
 "metadata": {
  "kernelspec": {
   "display_name": "Python 3",
   "language": "python",
   "name": "python3"
  },
  "language_info": {
   "codemirror_mode": {
    "name": "ipython",
    "version": 3
   },
   "file_extension": ".py",
   "mimetype": "text/x-python",
   "name": "python",
   "nbconvert_exporter": "python",
   "pygments_lexer": "ipython3",
   "version": "3.8.5"
  }
 },
 "nbformat": 4,
 "nbformat_minor": 4
}
